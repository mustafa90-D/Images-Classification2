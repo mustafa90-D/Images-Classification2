{
  "nbformat": 4,
  "nbformat_minor": 0,
  "metadata": {
    "accelerator": "GPU",
    "colab": {
      "name": "CNNMultiImage_DetectionVGG163blocksDropoout.ipynb",
      "provenance": [],
      "collapsed_sections": []
    },
    "kernelspec": {
      "display_name": "Python 3",
      "name": "python3"
    }
  },
  "cells": [
    {
      "cell_type": "code",
      "metadata": {
        "id": "cFdMDx39Q5b3",
        "colab": {
          "base_uri": "https://localhost:8080/"
        },
        "outputId": "5fd4a51c-a4f1-4a0e-dc91-45453002c55c"
      },
      "source": [
        "from keras.datasets import cifar10\r\n",
        "(x_train, y_train), (x_test, y_test) = cifar10.load_data()"
      ],
      "execution_count": null,
      "outputs": [
        {
          "output_type": "stream",
          "text": [
            "Downloading data from https://www.cs.toronto.edu/~kriz/cifar-10-python.tar.gz\n",
            "170500096/170498071 [==============================] - 2s 0us/step\n"
          ],
          "name": "stdout"
        }
      ]
    },
    {
      "cell_type": "code",
      "metadata": {
        "id": "v8soqLa-SzY3"
      },
      "source": [
        "from keras.datasets import cifar10\r\n",
        "(x_train, y_train), (x_test, y_test) = cifar10.load_data()"
      ],
      "execution_count": null,
      "outputs": []
    },
    {
      "cell_type": "code",
      "metadata": {
        "colab": {
          "base_uri": "https://localhost:8080/"
        },
        "id": "F2Zbk-Pcrtmr",
        "outputId": "0c4b0fb1-cc42-4355-f9f4-aded450e1920"
      },
      "source": [
        "print('x_train shape:', x_train.shape)"
      ],
      "execution_count": 36,
      "outputs": [
        {
          "output_type": "stream",
          "text": [
            "x_train shape: (50000, 32, 32, 3)\n"
          ],
          "name": "stdout"
        }
      ]
    },
    {
      "cell_type": "code",
      "metadata": {
        "colab": {
          "base_uri": "https://localhost:8080/"
        },
        "id": "4S6r9OOArvdQ",
        "outputId": "33896336-06c2-474f-e0f8-d1a390c3edb8"
      },
      "source": [
        "print('y_train shape:', y_train.shape)\r\n"
      ],
      "execution_count": 37,
      "outputs": [
        {
          "output_type": "stream",
          "text": [
            "y_train shape: (50000, 1)\n"
          ],
          "name": "stdout"
        }
      ]
    },
    {
      "cell_type": "code",
      "metadata": {
        "colab": {
          "base_uri": "https://localhost:8080/"
        },
        "id": "QJjTVJzZr7lQ",
        "outputId": "f0620438-afa9-42eb-9ede-a0e0e5433967"
      },
      "source": [
        "print(x_train[0])"
      ],
      "execution_count": 38,
      "outputs": [
        {
          "output_type": "stream",
          "text": [
            "[[[ 59  62  63]\n",
            "  [ 43  46  45]\n",
            "  [ 50  48  43]\n",
            "  ...\n",
            "  [158 132 108]\n",
            "  [152 125 102]\n",
            "  [148 124 103]]\n",
            "\n",
            " [[ 16  20  20]\n",
            "  [  0   0   0]\n",
            "  [ 18   8   0]\n",
            "  ...\n",
            "  [123  88  55]\n",
            "  [119  83  50]\n",
            "  [122  87  57]]\n",
            "\n",
            " [[ 25  24  21]\n",
            "  [ 16   7   0]\n",
            "  [ 49  27   8]\n",
            "  ...\n",
            "  [118  84  50]\n",
            "  [120  84  50]\n",
            "  [109  73  42]]\n",
            "\n",
            " ...\n",
            "\n",
            " [[208 170  96]\n",
            "  [201 153  34]\n",
            "  [198 161  26]\n",
            "  ...\n",
            "  [160 133  70]\n",
            "  [ 56  31   7]\n",
            "  [ 53  34  20]]\n",
            "\n",
            " [[180 139  96]\n",
            "  [173 123  42]\n",
            "  [186 144  30]\n",
            "  ...\n",
            "  [184 148  94]\n",
            "  [ 97  62  34]\n",
            "  [ 83  53  34]]\n",
            "\n",
            " [[177 144 116]\n",
            "  [168 129  94]\n",
            "  [179 142  87]\n",
            "  ...\n",
            "  [216 184 140]\n",
            "  [151 118  84]\n",
            "  [123  92  72]]]\n"
          ],
          "name": "stdout"
        }
      ]
    },
    {
      "cell_type": "code",
      "metadata": {
        "colab": {
          "base_uri": "https://localhost:8080/",
          "height": 266
        },
        "id": "MbUrrNcfr-bq",
        "outputId": "e6e14fc4-bc61-4403-b10d-4d6866ea3c48"
      },
      "source": [
        "import matplotlib.pyplot as plt\r\n",
        "%matplotlib inline\r\n",
        "img = plt.imshow(x_train[0])"
      ],
      "execution_count": 39,
      "outputs": [
        {
          "output_type": "display_data",
          "data": {
            "image/png": "[encoded data removed]",
            "text/plain": [
              "<Figure size 432x288 with 1 Axes>"
            ]
          },
          "metadata": {
            "tags": [],
            "needs_background": "light"
          }
        }
      ]
    },
    {
      "cell_type": "code",
      "metadata": {
        "colab": {
          "base_uri": "https://localhost:8080/"
        },
        "id": "8HZ02iDvsOqW",
        "outputId": "bb72fa06-d299-4e26-de46-4e0790501853"
      },
      "source": [
        "print('The label is:', y_train[0])"
      ],
      "execution_count": 40,
      "outputs": [
        {
          "output_type": "stream",
          "text": [
            "The label is: [6]\n"
          ],
          "name": "stdout"
        }
      ]
    },
    {
      "cell_type": "code",
      "metadata": {
        "colab": {
          "base_uri": "https://localhost:8080/",
          "height": 266
        },
        "id": "Tr8Ofjz2slst",
        "outputId": "7914c20d-4695-45fe-8d10-7228d8740c7d"
      },
      "source": [
        "img = plt.imshow(x_train[1])\r\n"
      ],
      "execution_count": 41,
      "outputs": [
        {
          "output_type": "display_data",
          "data": {
            "image/png": "[encoded data removed]",
            "text/plain": [
              "<Figure size 432x288 with 1 Axes>"
            ]
          },
          "metadata": {
            "tags": [],
            "needs_background": "light"
          }
        }
      ]
    },
    {
      "cell_type": "code",
      "metadata": {
        "id": "eIl7HqppsyeZ"
      },
      "source": [
        "import keras\r\n",
        "y_train_one_hot = keras.utils.to_categorical(y_train, 10)\r\n",
        "y_test_one_hot = keras.utils.to_categorical(y_test, 10)"
      ],
      "execution_count": 42,
      "outputs": []
    },
    {
      "cell_type": "code",
      "metadata": {
        "colab": {
          "base_uri": "https://localhost:8080/"
        },
        "id": "lfnx5_hRXhL-",
        "outputId": "f5f94ae9-6dac-4645-d410-4f5326b9c645"
      },
      "source": [
        "print('The one hot label is:', y_train_one_hot[1])\r\n"
      ],
      "execution_count": 43,
      "outputs": [
        {
          "output_type": "stream",
          "text": [
            "The one hot label is: [0. 0. 0. 0. 0. 0. 0. 0. 0. 1.]\n"
          ],
          "name": "stdout"
        }
      ]
    },
    {
      "cell_type": "code",
      "metadata": {
        "id": "xtGzNto4YwU5"
      },
      "source": [
        "x_train = x_train.astype('float32')\r\n",
        "x_test = x_test.astype('float32')\r\n",
        "x_train = x_train / 255\r\n",
        "x_test = x_test / 255"
      ],
      "execution_count": 44,
      "outputs": []
    },
    {
      "cell_type": "code",
      "metadata": {
        "colab": {
          "base_uri": "https://localhost:8080/"
        },
        "id": "MtVE_WipZ7xH",
        "outputId": "2aedb2dd-85e8-4298-8538-e134cb6f0c35"
      },
      "source": [
        "x_train[0]\r\n"
      ],
      "execution_count": 45,
      "outputs": [
        {
          "output_type": "execute_result",
          "data": {
            "text/plain": [
              "array([[[0.23137255, 0.24313726, 0.24705882],\n",
              "        [0.16862746, 0.18039216, 0.1764706 ],\n",
              "        [0.19607843, 0.1882353 , 0.16862746],\n",
              "        ...,\n",
              "        [0.61960787, 0.5176471 , 0.42352942],\n",
              "        [0.59607846, 0.49019608, 0.4       ],\n",
              "        [0.5803922 , 0.4862745 , 0.40392157]],\n",
              "\n",
              "       [[0.0627451 , 0.07843138, 0.07843138],\n",
              "        [0.        , 0.        , 0.        ],\n",
              "        [0.07058824, 0.03137255, 0.        ],\n",
              "        ...,\n",
              "        [0.48235294, 0.34509805, 0.21568628],\n",
              "        [0.46666667, 0.3254902 , 0.19607843],\n",
              "        [0.47843137, 0.34117648, 0.22352941]],\n",
              "\n",
              "       [[0.09803922, 0.09411765, 0.08235294],\n",
              "        [0.0627451 , 0.02745098, 0.        ],\n",
              "        [0.19215687, 0.10588235, 0.03137255],\n",
              "        ...,\n",
              "        [0.4627451 , 0.32941177, 0.19607843],\n",
              "        [0.47058824, 0.32941177, 0.19607843],\n",
              "        [0.42745098, 0.28627452, 0.16470589]],\n",
              "\n",
              "       ...,\n",
              "\n",
              "       [[0.8156863 , 0.6666667 , 0.3764706 ],\n",
              "        [0.7882353 , 0.6       , 0.13333334],\n",
              "        [0.7764706 , 0.6313726 , 0.10196079],\n",
              "        ...,\n",
              "        [0.627451  , 0.52156866, 0.27450982],\n",
              "        [0.21960784, 0.12156863, 0.02745098],\n",
              "        [0.20784314, 0.13333334, 0.07843138]],\n",
              "\n",
              "       [[0.7058824 , 0.54509807, 0.3764706 ],\n",
              "        [0.6784314 , 0.48235294, 0.16470589],\n",
              "        [0.7294118 , 0.5647059 , 0.11764706],\n",
              "        ...,\n",
              "        [0.72156864, 0.5803922 , 0.36862746],\n",
              "        [0.38039216, 0.24313726, 0.13333334],\n",
              "        [0.3254902 , 0.20784314, 0.13333334]],\n",
              "\n",
              "       [[0.69411767, 0.5647059 , 0.45490196],\n",
              "        [0.65882355, 0.5058824 , 0.36862746],\n",
              "        [0.7019608 , 0.5568628 , 0.34117648],\n",
              "        ...,\n",
              "        [0.84705883, 0.72156864, 0.54901963],\n",
              "        [0.5921569 , 0.4627451 , 0.32941177],\n",
              "        [0.48235294, 0.36078432, 0.28235295]]], dtype=float32)"
            ]
          },
          "metadata": {
            "tags": []
          },
          "execution_count": 45
        }
      ]
    },
    {
      "cell_type": "code",
      "metadata": {
        "id": "WDZWYv6eaFfB"
      },
      "source": [
        "from keras.models import Sequential\r\n",
        "from keras.layers import Dense, Dropout, Flatten, Conv2D, MaxPooling2D\r\n",
        "from keras.optimizers import SGD\r\n"
      ],
      "execution_count": 46,
      "outputs": []
    },
    {
      "cell_type": "code",
      "metadata": {
        "id": "U7kLbj7Ha91D"
      },
      "source": [
        "# example of a 3-block vgg style architecture\r\n",
        "model = Sequential()\r\n",
        "model.add(Conv2D(32, (3, 3), activation='relu', kernel_initializer='he_uniform', padding='same', input_shape=(32, 32, 3)))\r\n",
        "model.add(Conv2D(32, (3, 3), activation='relu', kernel_initializer='he_uniform', padding='same'))\r\n",
        "model.add(MaxPooling2D((2, 2)))\r\n",
        "model.add(Dropout(0.2))\r\n",
        "model.add(Conv2D(64, (3, 3), activation='relu', kernel_initializer='he_uniform', padding='same'))\r\n",
        "model.add(Conv2D(64, (3, 3), activation='relu', kernel_initializer='he_uniform', padding='same'))\r\n",
        "model.add(MaxPooling2D((2, 2)))\r\n",
        "model.add(Dropout(0.2))\r\n",
        "model.add(Conv2D(128, (3, 3), activation='relu', kernel_initializer='he_uniform', padding='same'))\r\n",
        "model.add(Conv2D(128, (3, 3), activation='relu', kernel_initializer='he_uniform', padding='same'))\r\n",
        "model.add(MaxPooling2D((2, 2)))\r\n",
        "model.add(Dropout(0.2))\r\n",
        "model.add(Flatten())\r\n",
        "model.add(Dense(128, activation='relu', kernel_initializer='he_uniform'))\r\n",
        "model.add(Dropout(0.2))\r\n",
        "model.add(Dense(10, activation='softmax'))"
      ],
      "execution_count": 60,
      "outputs": []
    },
    {
      "cell_type": "code",
      "metadata": {
        "id": "Ay5hGkrlbAiO"
      },
      "source": [
        "\r\n",
        "# example output part of the model\r\n"
      ],
      "execution_count": 61,
      "outputs": []
    },
    {
      "cell_type": "code",
      "metadata": {
        "id": "DI1oCVqtbCc4"
      },
      "source": [
        "# compile model\r\n",
        "opt = SGD(lr=0.001, momentum=0.9)\r\n",
        "model.compile(optimizer=opt, loss='categorical_crossentropy', metrics=['accuracy'])"
      ],
      "execution_count": 62,
      "outputs": []
    },
    {
      "cell_type": "code",
      "metadata": {
        "id": "83DNsXSHgwAQ"
      },
      "source": [
        ""
      ],
      "execution_count": 62,
      "outputs": []
    },
    {
      "cell_type": "code",
      "metadata": {
        "colab": {
          "base_uri": "https://localhost:8080/"
        },
        "id": "Ykakcx9Cg93_",
        "outputId": "59718340-2fad-446d-995a-3deb01958c7b"
      },
      "source": [
        "hist = model.fit(x_train, y_train_one_hot, batch_size=16, epochs=400, validation_split=0.2)"
      ],
      "execution_count": 63,
      "outputs": [
        {
          "output_type": "stream",
          "text": [
            "Epoch 1/400\n",
            "2500/2500 [==============================] - 10s 4ms/step - loss: 2.0277 - accuracy: 0.2387 - val_loss: 1.5649 - val_accuracy: 0.4288\n",
            "Epoch 2/400\n",
            "2500/2500 [==============================] - 9s 4ms/step - loss: 1.5678 - accuracy: 0.4229 - val_loss: 1.3488 - val_accuracy: 0.5090\n",
            "Epoch 3/400\n",
            "2500/2500 [==============================] - 9s 4ms/step - loss: 1.3616 - accuracy: 0.5084 - val_loss: 1.1897 - val_accuracy: 0.5746\n",
            "Epoch 4/400\n",
            "2500/2500 [==============================] - 9s 4ms/step - loss: 1.2182 - accuracy: 0.5627 - val_loss: 1.0699 - val_accuracy: 0.6153\n",
            "Epoch 5/400\n",
            "2500/2500 [==============================] - 9s 4ms/step - loss: 1.1049 - accuracy: 0.6065 - val_loss: 1.0031 - val_accuracy: 0.6553\n",
            "Epoch 6/400\n",
            "2500/2500 [==============================] - 9s 4ms/step - loss: 1.0286 - accuracy: 0.6345 - val_loss: 0.9220 - val_accuracy: 0.6738\n",
            "Epoch 7/400\n",
            "2500/2500 [==============================] - 9s 4ms/step - loss: 0.9431 - accuracy: 0.6705 - val_loss: 0.8405 - val_accuracy: 0.7002\n",
            "Epoch 8/400\n",
            "2500/2500 [==============================] - 9s 4ms/step - loss: 0.8862 - accuracy: 0.6885 - val_loss: 0.8539 - val_accuracy: 0.7004\n",
            "Epoch 9/400\n",
            "2500/2500 [==============================] - 9s 4ms/step - loss: 0.8384 - accuracy: 0.7062 - val_loss: 0.7817 - val_accuracy: 0.7270\n",
            "Epoch 10/400\n",
            "2500/2500 [==============================] - 9s 4ms/step - loss: 0.7902 - accuracy: 0.7204 - val_loss: 0.7256 - val_accuracy: 0.7448\n",
            "Epoch 11/400\n",
            "2500/2500 [==============================] - 9s 4ms/step - loss: 0.7631 - accuracy: 0.7318 - val_loss: 0.7126 - val_accuracy: 0.7511\n",
            "Epoch 12/400\n",
            "2500/2500 [==============================] - 9s 4ms/step - loss: 0.7292 - accuracy: 0.7423 - val_loss: 0.6827 - val_accuracy: 0.7623\n",
            "Epoch 13/400\n",
            "2500/2500 [==============================] - 9s 4ms/step - loss: 0.6894 - accuracy: 0.7581 - val_loss: 0.6785 - val_accuracy: 0.7630\n",
            "Epoch 14/400\n",
            "2500/2500 [==============================] - 9s 4ms/step - loss: 0.6523 - accuracy: 0.7719 - val_loss: 0.6759 - val_accuracy: 0.7644\n",
            "Epoch 15/400\n",
            "2500/2500 [==============================] - 9s 4ms/step - loss: 0.6348 - accuracy: 0.7783 - val_loss: 0.7244 - val_accuracy: 0.7531\n",
            "Epoch 16/400\n",
            "2500/2500 [==============================] - 9s 4ms/step - loss: 0.6188 - accuracy: 0.7818 - val_loss: 0.6670 - val_accuracy: 0.7713\n",
            "Epoch 17/400\n",
            "2500/2500 [==============================] - 9s 4ms/step - loss: 0.5808 - accuracy: 0.7938 - val_loss: 0.6270 - val_accuracy: 0.7871\n",
            "Epoch 18/400\n",
            "2500/2500 [==============================] - 9s 4ms/step - loss: 0.5596 - accuracy: 0.8034 - val_loss: 0.6212 - val_accuracy: 0.7872\n",
            "Epoch 19/400\n",
            "2500/2500 [==============================] - 9s 4ms/step - loss: 0.5458 - accuracy: 0.8069 - val_loss: 0.6230 - val_accuracy: 0.7884\n",
            "Epoch 20/400\n",
            "2500/2500 [==============================] - 9s 4ms/step - loss: 0.5211 - accuracy: 0.8160 - val_loss: 0.6534 - val_accuracy: 0.7773\n",
            "Epoch 21/400\n",
            "2500/2500 [==============================] - 9s 4ms/step - loss: 0.4905 - accuracy: 0.8251 - val_loss: 0.6345 - val_accuracy: 0.7863\n",
            "Epoch 22/400\n",
            "2500/2500 [==============================] - 9s 4ms/step - loss: 0.4930 - accuracy: 0.8255 - val_loss: 0.6323 - val_accuracy: 0.7871\n",
            "Epoch 23/400\n",
            "2500/2500 [==============================] - 9s 4ms/step - loss: 0.4677 - accuracy: 0.8345 - val_loss: 0.6079 - val_accuracy: 0.7978\n",
            "Epoch 24/400\n",
            "2500/2500 [==============================] - 9s 4ms/step - loss: 0.4564 - accuracy: 0.8386 - val_loss: 0.6516 - val_accuracy: 0.7883\n",
            "Epoch 25/400\n",
            "2500/2500 [==============================] - 9s 4ms/step - loss: 0.4363 - accuracy: 0.8432 - val_loss: 0.6063 - val_accuracy: 0.7982\n",
            "Epoch 26/400\n",
            "2500/2500 [==============================] - 10s 4ms/step - loss: 0.4181 - accuracy: 0.8503 - val_loss: 0.6219 - val_accuracy: 0.7987\n",
            "Epoch 27/400\n",
            "2500/2500 [==============================] - 9s 4ms/step - loss: 0.4071 - accuracy: 0.8535 - val_loss: 0.6472 - val_accuracy: 0.7959\n",
            "Epoch 28/400\n",
            "2500/2500 [==============================] - 9s 4ms/step - loss: 0.3960 - accuracy: 0.8570 - val_loss: 0.6084 - val_accuracy: 0.8010\n",
            "Epoch 29/400\n",
            "2500/2500 [==============================] - 9s 4ms/step - loss: 0.3820 - accuracy: 0.8621 - val_loss: 0.6082 - val_accuracy: 0.7990\n",
            "Epoch 30/400\n",
            "2500/2500 [==============================] - 9s 4ms/step - loss: 0.3708 - accuracy: 0.8638 - val_loss: 0.6006 - val_accuracy: 0.8112\n",
            "Epoch 31/400\n",
            "2500/2500 [==============================] - 9s 4ms/step - loss: 0.3612 - accuracy: 0.8724 - val_loss: 0.6130 - val_accuracy: 0.8084\n",
            "Epoch 32/400\n",
            "2500/2500 [==============================] - 9s 4ms/step - loss: 0.3462 - accuracy: 0.8754 - val_loss: 0.6291 - val_accuracy: 0.8055\n",
            "Epoch 33/400\n",
            "2500/2500 [==============================] - 9s 4ms/step - loss: 0.3402 - accuracy: 0.8781 - val_loss: 0.5993 - val_accuracy: 0.8125\n",
            "Epoch 34/400\n",
            "2500/2500 [==============================] - 9s 4ms/step - loss: 0.3258 - accuracy: 0.8837 - val_loss: 0.6097 - val_accuracy: 0.8081\n",
            "Epoch 35/400\n",
            "2500/2500 [==============================] - 9s 4ms/step - loss: 0.3174 - accuracy: 0.8843 - val_loss: 0.6138 - val_accuracy: 0.8123\n",
            "Epoch 36/400\n",
            "2500/2500 [==============================] - 9s 4ms/step - loss: 0.3048 - accuracy: 0.8897 - val_loss: 0.6212 - val_accuracy: 0.8106\n",
            "Epoch 37/400\n",
            "2500/2500 [==============================] - 9s 4ms/step - loss: 0.2971 - accuracy: 0.8936 - val_loss: 0.6114 - val_accuracy: 0.8151\n",
            "Epoch 38/400\n",
            "2500/2500 [==============================] - 9s 4ms/step - loss: 0.2924 - accuracy: 0.8958 - val_loss: 0.6306 - val_accuracy: 0.8082\n",
            "Epoch 39/400\n",
            "2500/2500 [==============================] - 9s 4ms/step - loss: 0.2866 - accuracy: 0.8955 - val_loss: 0.6097 - val_accuracy: 0.8123\n",
            "Epoch 40/400\n",
            "2500/2500 [==============================] - 9s 4ms/step - loss: 0.2848 - accuracy: 0.8977 - val_loss: 0.6257 - val_accuracy: 0.8150\n",
            "Epoch 41/400\n",
            "2500/2500 [==============================] - 10s 4ms/step - loss: 0.2694 - accuracy: 0.9005 - val_loss: 0.6358 - val_accuracy: 0.8169\n",
            "Epoch 42/400\n",
            "2500/2500 [==============================] - 9s 4ms/step - loss: 0.2684 - accuracy: 0.9024 - val_loss: 0.6535 - val_accuracy: 0.8109\n",
            "Epoch 43/400\n",
            "2500/2500 [==============================] - 9s 4ms/step - loss: 0.2597 - accuracy: 0.9050 - val_loss: 0.6395 - val_accuracy: 0.8169\n",
            "Epoch 44/400\n",
            "2500/2500 [==============================] - 9s 4ms/step - loss: 0.2525 - accuracy: 0.9116 - val_loss: 0.6349 - val_accuracy: 0.8148\n",
            "Epoch 45/400\n",
            "2500/2500 [==============================] - 9s 4ms/step - loss: 0.2491 - accuracy: 0.9111 - val_loss: 0.6436 - val_accuracy: 0.8161\n",
            "Epoch 46/400\n",
            "2500/2500 [==============================] - 9s 4ms/step - loss: 0.2444 - accuracy: 0.9135 - val_loss: 0.6938 - val_accuracy: 0.8075\n",
            "Epoch 47/400\n",
            "2500/2500 [==============================] - 9s 4ms/step - loss: 0.2391 - accuracy: 0.9142 - val_loss: 0.6098 - val_accuracy: 0.8173\n",
            "Epoch 48/400\n",
            "2500/2500 [==============================] - 9s 4ms/step - loss: 0.2356 - accuracy: 0.9154 - val_loss: 0.6574 - val_accuracy: 0.8190\n",
            "Epoch 49/400\n",
            "2500/2500 [==============================] - 9s 4ms/step - loss: 0.2183 - accuracy: 0.9218 - val_loss: 0.6537 - val_accuracy: 0.8193\n",
            "Epoch 50/400\n",
            "2500/2500 [==============================] - 9s 4ms/step - loss: 0.2235 - accuracy: 0.9209 - val_loss: 0.6357 - val_accuracy: 0.8196\n",
            "Epoch 51/400\n",
            "2500/2500 [==============================] - 9s 4ms/step - loss: 0.2135 - accuracy: 0.9231 - val_loss: 0.6451 - val_accuracy: 0.8218\n",
            "Epoch 52/400\n",
            "2500/2500 [==============================] - 9s 4ms/step - loss: 0.2120 - accuracy: 0.9226 - val_loss: 0.6529 - val_accuracy: 0.8231\n",
            "Epoch 53/400\n",
            "2500/2500 [==============================] - 9s 4ms/step - loss: 0.2094 - accuracy: 0.9260 - val_loss: 0.6388 - val_accuracy: 0.8194\n",
            "Epoch 54/400\n",
            "2500/2500 [==============================] - 9s 4ms/step - loss: 0.2024 - accuracy: 0.9287 - val_loss: 0.6564 - val_accuracy: 0.8208\n",
            "Epoch 55/400\n",
            "2500/2500 [==============================] - 9s 4ms/step - loss: 0.2062 - accuracy: 0.9272 - val_loss: 0.6672 - val_accuracy: 0.8140\n",
            "Epoch 56/400\n",
            "2500/2500 [==============================] - 9s 4ms/step - loss: 0.2032 - accuracy: 0.9280 - val_loss: 0.6597 - val_accuracy: 0.8177\n",
            "Epoch 57/400\n",
            "2500/2500 [==============================] - 9s 4ms/step - loss: 0.1940 - accuracy: 0.9303 - val_loss: 0.6735 - val_accuracy: 0.8195\n",
            "Epoch 58/400\n",
            "2500/2500 [==============================] - 9s 4ms/step - loss: 0.1963 - accuracy: 0.9292 - val_loss: 0.6624 - val_accuracy: 0.8154\n",
            "Epoch 59/400\n",
            "2500/2500 [==============================] - 10s 4ms/step - loss: 0.1861 - accuracy: 0.9325 - val_loss: 0.6487 - val_accuracy: 0.8221\n",
            "Epoch 60/400\n",
            "2500/2500 [==============================] - 9s 4ms/step - loss: 0.1828 - accuracy: 0.9348 - val_loss: 0.6816 - val_accuracy: 0.8208\n",
            "Epoch 61/400\n",
            "2500/2500 [==============================] - 9s 4ms/step - loss: 0.1827 - accuracy: 0.9347 - val_loss: 0.6840 - val_accuracy: 0.8162\n",
            "Epoch 62/400\n",
            "2500/2500 [==============================] - 9s 4ms/step - loss: 0.1818 - accuracy: 0.9351 - val_loss: 0.7001 - val_accuracy: 0.8249\n",
            "Epoch 63/400\n",
            "2500/2500 [==============================] - 9s 4ms/step - loss: 0.1761 - accuracy: 0.9375 - val_loss: 0.6690 - val_accuracy: 0.8267\n",
            "Epoch 64/400\n",
            "2500/2500 [==============================] - 9s 4ms/step - loss: 0.1718 - accuracy: 0.9398 - val_loss: 0.6449 - val_accuracy: 0.8245\n",
            "Epoch 65/400\n",
            "2500/2500 [==============================] - 9s 4ms/step - loss: 0.1759 - accuracy: 0.9372 - val_loss: 0.6848 - val_accuracy: 0.8265\n",
            "Epoch 66/400\n",
            "2500/2500 [==============================] - 9s 4ms/step - loss: 0.1641 - accuracy: 0.9414 - val_loss: 0.6882 - val_accuracy: 0.8236\n",
            "Epoch 67/400\n",
            "2500/2500 [==============================] - 9s 4ms/step - loss: 0.1644 - accuracy: 0.9411 - val_loss: 0.6993 - val_accuracy: 0.8282\n",
            "Epoch 68/400\n",
            "2500/2500 [==============================] - 9s 4ms/step - loss: 0.1658 - accuracy: 0.9413 - val_loss: 0.7092 - val_accuracy: 0.8256\n",
            "Epoch 69/400\n",
            "2500/2500 [==============================] - 9s 4ms/step - loss: 0.1650 - accuracy: 0.9420 - val_loss: 0.7183 - val_accuracy: 0.8227\n",
            "Epoch 70/400\n",
            "2500/2500 [==============================] - 9s 4ms/step - loss: 0.1539 - accuracy: 0.9454 - val_loss: 0.6981 - val_accuracy: 0.8295\n",
            "Epoch 71/400\n",
            "2500/2500 [==============================] - 9s 4ms/step - loss: 0.1592 - accuracy: 0.9438 - val_loss: 0.7237 - val_accuracy: 0.8211\n",
            "Epoch 72/400\n",
            "2500/2500 [==============================] - 9s 4ms/step - loss: 0.1564 - accuracy: 0.9450 - val_loss: 0.6920 - val_accuracy: 0.8252\n",
            "Epoch 73/400\n",
            "2500/2500 [==============================] - 9s 4ms/step - loss: 0.1528 - accuracy: 0.9470 - val_loss: 0.7233 - val_accuracy: 0.8211\n",
            "Epoch 74/400\n",
            "2500/2500 [==============================] - 10s 4ms/step - loss: 0.1486 - accuracy: 0.9480 - val_loss: 0.7048 - val_accuracy: 0.8242\n",
            "Epoch 75/400\n",
            "2500/2500 [==============================] - 9s 4ms/step - loss: 0.1537 - accuracy: 0.9460 - val_loss: 0.7244 - val_accuracy: 0.8277\n",
            "Epoch 76/400\n",
            "2500/2500 [==============================] - 9s 4ms/step - loss: 0.1457 - accuracy: 0.9487 - val_loss: 0.7698 - val_accuracy: 0.8214\n",
            "Epoch 77/400\n",
            "2500/2500 [==============================] - 9s 4ms/step - loss: 0.1431 - accuracy: 0.9510 - val_loss: 0.7253 - val_accuracy: 0.8186\n",
            "Epoch 78/400\n",
            "2500/2500 [==============================] - 9s 4ms/step - loss: 0.1435 - accuracy: 0.9499 - val_loss: 0.6810 - val_accuracy: 0.8266\n",
            "Epoch 79/400\n",
            "2500/2500 [==============================] - 9s 4ms/step - loss: 0.1386 - accuracy: 0.9525 - val_loss: 0.7382 - val_accuracy: 0.8272\n",
            "Epoch 80/400\n",
            "2500/2500 [==============================] - 9s 4ms/step - loss: 0.1386 - accuracy: 0.9511 - val_loss: 0.7950 - val_accuracy: 0.8192\n",
            "Epoch 81/400\n",
            "2500/2500 [==============================] - 9s 4ms/step - loss: 0.1456 - accuracy: 0.9507 - val_loss: 0.7444 - val_accuracy: 0.8212\n",
            "Epoch 82/400\n",
            "2500/2500 [==============================] - 9s 4ms/step - loss: 0.1371 - accuracy: 0.9521 - val_loss: 0.7464 - val_accuracy: 0.8244\n",
            "Epoch 83/400\n",
            "2500/2500 [==============================] - 9s 4ms/step - loss: 0.1361 - accuracy: 0.9505 - val_loss: 0.7409 - val_accuracy: 0.8238\n",
            "Epoch 84/400\n",
            "2500/2500 [==============================] - 9s 4ms/step - loss: 0.1390 - accuracy: 0.9504 - val_loss: 0.7402 - val_accuracy: 0.8244\n",
            "Epoch 85/400\n",
            "2500/2500 [==============================] - 9s 4ms/step - loss: 0.1393 - accuracy: 0.9517 - val_loss: 0.7151 - val_accuracy: 0.8244\n",
            "Epoch 86/400\n",
            "2500/2500 [==============================] - 9s 4ms/step - loss: 0.1364 - accuracy: 0.9517 - val_loss: 0.7473 - val_accuracy: 0.8258\n",
            "Epoch 87/400\n",
            "2500/2500 [==============================] - 9s 4ms/step - loss: 0.1374 - accuracy: 0.9523 - val_loss: 0.7484 - val_accuracy: 0.8245\n",
            "Epoch 88/400\n",
            "2500/2500 [==============================] - 9s 4ms/step - loss: 0.1319 - accuracy: 0.9525 - val_loss: 0.7233 - val_accuracy: 0.8286\n",
            "Epoch 89/400\n",
            "2500/2500 [==============================] - 9s 4ms/step - loss: 0.1247 - accuracy: 0.9566 - val_loss: 0.7422 - val_accuracy: 0.8235\n",
            "Epoch 90/400\n",
            "2500/2500 [==============================] - 9s 4ms/step - loss: 0.1272 - accuracy: 0.9548 - val_loss: 0.7600 - val_accuracy: 0.8261\n",
            "Epoch 91/400\n",
            "2500/2500 [==============================] - 9s 4ms/step - loss: 0.1253 - accuracy: 0.9561 - val_loss: 0.7467 - val_accuracy: 0.8241\n",
            "Epoch 92/400\n",
            "2500/2500 [==============================] - 10s 4ms/step - loss: 0.1256 - accuracy: 0.9575 - val_loss: 0.7406 - val_accuracy: 0.8282\n",
            "Epoch 93/400\n",
            "2500/2500 [==============================] - 10s 4ms/step - loss: 0.1205 - accuracy: 0.9580 - val_loss: 0.7450 - val_accuracy: 0.8201\n",
            "Epoch 94/400\n",
            "2500/2500 [==============================] - 9s 4ms/step - loss: 0.1215 - accuracy: 0.9575 - val_loss: 0.7617 - val_accuracy: 0.8264\n",
            "Epoch 95/400\n",
            "2500/2500 [==============================] - 9s 4ms/step - loss: 0.1279 - accuracy: 0.9552 - val_loss: 0.7661 - val_accuracy: 0.8206\n",
            "Epoch 96/400\n",
            "2500/2500 [==============================] - 9s 4ms/step - loss: 0.1224 - accuracy: 0.9572 - val_loss: 0.7543 - val_accuracy: 0.8242\n",
            "Epoch 97/400\n",
            "2500/2500 [==============================] - 9s 4ms/step - loss: 0.1228 - accuracy: 0.9585 - val_loss: 0.7744 - val_accuracy: 0.8235\n",
            "Epoch 98/400\n",
            "2500/2500 [==============================] - 9s 4ms/step - loss: 0.1283 - accuracy: 0.9545 - val_loss: 0.7356 - val_accuracy: 0.8285\n",
            "Epoch 99/400\n",
            "2500/2500 [==============================] - 9s 4ms/step - loss: 0.1187 - accuracy: 0.9587 - val_loss: 0.7669 - val_accuracy: 0.8247\n",
            "Epoch 100/400\n",
            "2500/2500 [==============================] - 9s 4ms/step - loss: 0.1089 - accuracy: 0.9620 - val_loss: 0.7834 - val_accuracy: 0.8229\n",
            "Epoch 101/400\n",
            "2500/2500 [==============================] - 9s 4ms/step - loss: 0.1195 - accuracy: 0.9573 - val_loss: 0.7403 - val_accuracy: 0.8293\n",
            "Epoch 102/400\n",
            "2500/2500 [==============================] - 9s 4ms/step - loss: 0.1111 - accuracy: 0.9620 - val_loss: 0.7870 - val_accuracy: 0.8216\n",
            "Epoch 103/400\n",
            "2500/2500 [==============================] - 9s 4ms/step - loss: 0.1114 - accuracy: 0.9631 - val_loss: 0.8088 - val_accuracy: 0.8279\n",
            "Epoch 104/400\n",
            "2500/2500 [==============================] - 10s 4ms/step - loss: 0.1196 - accuracy: 0.9578 - val_loss: 0.7981 - val_accuracy: 0.8266\n",
            "Epoch 105/400\n",
            "2500/2500 [==============================] - 9s 4ms/step - loss: 0.1116 - accuracy: 0.9607 - val_loss: 0.7373 - val_accuracy: 0.8287\n",
            "Epoch 106/400\n",
            "2500/2500 [==============================] - 10s 4ms/step - loss: 0.1193 - accuracy: 0.9578 - val_loss: 0.8175 - val_accuracy: 0.8287\n",
            "Epoch 107/400\n",
            "2500/2500 [==============================] - 10s 4ms/step - loss: 0.1126 - accuracy: 0.9625 - val_loss: 0.7693 - val_accuracy: 0.8282\n",
            "Epoch 108/400\n",
            "2500/2500 [==============================] - 10s 4ms/step - loss: 0.1136 - accuracy: 0.9588 - val_loss: 0.7522 - val_accuracy: 0.8292\n",
            "Epoch 109/400\n",
            "2500/2500 [==============================] - 10s 4ms/step - loss: 0.1057 - accuracy: 0.9636 - val_loss: 0.7846 - val_accuracy: 0.8335\n",
            "Epoch 110/400\n",
            "2500/2500 [==============================] - 10s 4ms/step - loss: 0.1121 - accuracy: 0.9605 - val_loss: 0.7903 - val_accuracy: 0.8266\n",
            "Epoch 111/400\n",
            "2500/2500 [==============================] - 10s 4ms/step - loss: 0.1065 - accuracy: 0.9634 - val_loss: 0.8112 - val_accuracy: 0.8238\n",
            "Epoch 112/400\n",
            "2500/2500 [==============================] - 9s 4ms/step - loss: 0.1061 - accuracy: 0.9621 - val_loss: 0.7830 - val_accuracy: 0.8302\n",
            "Epoch 113/400\n",
            "2500/2500 [==============================] - 9s 4ms/step - loss: 0.0940 - accuracy: 0.9660 - val_loss: 0.8268 - val_accuracy: 0.8261\n",
            "Epoch 114/400\n",
            "2500/2500 [==============================] - 9s 4ms/step - loss: 0.1067 - accuracy: 0.9623 - val_loss: 0.8047 - val_accuracy: 0.8235\n",
            "Epoch 115/400\n",
            "2500/2500 [==============================] - 10s 4ms/step - loss: 0.1048 - accuracy: 0.9647 - val_loss: 0.8244 - val_accuracy: 0.8245\n",
            "Epoch 116/400\n",
            "2500/2500 [==============================] - 10s 4ms/step - loss: 0.1057 - accuracy: 0.9639 - val_loss: 0.7706 - val_accuracy: 0.8277\n",
            "Epoch 117/400\n",
            "2500/2500 [==============================] - 10s 4ms/step - loss: 0.1002 - accuracy: 0.9648 - val_loss: 0.7914 - val_accuracy: 0.8281\n",
            "Epoch 118/400\n",
            "2500/2500 [==============================] - 9s 4ms/step - loss: 0.1094 - accuracy: 0.9634 - val_loss: 0.7820 - val_accuracy: 0.8276\n",
            "Epoch 119/400\n",
            "2500/2500 [==============================] - 9s 4ms/step - loss: 0.1034 - accuracy: 0.9635 - val_loss: 0.7899 - val_accuracy: 0.8266\n",
            "Epoch 120/400\n",
            "2500/2500 [==============================] - 9s 4ms/step - loss: 0.0961 - accuracy: 0.9661 - val_loss: 0.8127 - val_accuracy: 0.8259\n",
            "Epoch 121/400\n",
            "2500/2500 [==============================] - 9s 4ms/step - loss: 0.1019 - accuracy: 0.9657 - val_loss: 0.8243 - val_accuracy: 0.8334\n",
            "Epoch 122/400\n",
            "2500/2500 [==============================] - 9s 4ms/step - loss: 0.0975 - accuracy: 0.9679 - val_loss: 0.8171 - val_accuracy: 0.8230\n",
            "Epoch 123/400\n",
            "2500/2500 [==============================] - 9s 4ms/step - loss: 0.0952 - accuracy: 0.9677 - val_loss: 0.7898 - val_accuracy: 0.8272\n",
            "Epoch 124/400\n",
            "2500/2500 [==============================] - 10s 4ms/step - loss: 0.0924 - accuracy: 0.9684 - val_loss: 0.7911 - val_accuracy: 0.8310\n",
            "Epoch 125/400\n",
            "2500/2500 [==============================] - 10s 4ms/step - loss: 0.1004 - accuracy: 0.9672 - val_loss: 0.7595 - val_accuracy: 0.8296\n",
            "Epoch 126/400\n",
            "2500/2500 [==============================] - 9s 4ms/step - loss: 0.0933 - accuracy: 0.9679 - val_loss: 0.7755 - val_accuracy: 0.8360\n",
            "Epoch 127/400\n",
            "2500/2500 [==============================] - 9s 4ms/step - loss: 0.0987 - accuracy: 0.9650 - val_loss: 0.7871 - val_accuracy: 0.8297\n",
            "Epoch 128/400\n",
            "2500/2500 [==============================] - 9s 4ms/step - loss: 0.0978 - accuracy: 0.9672 - val_loss: 0.7976 - val_accuracy: 0.8352\n",
            "Epoch 129/400\n",
            "2500/2500 [==============================] - 9s 4ms/step - loss: 0.0955 - accuracy: 0.9679 - val_loss: 0.8119 - val_accuracy: 0.8270\n",
            "Epoch 130/400\n",
            "2500/2500 [==============================] - 10s 4ms/step - loss: 0.0950 - accuracy: 0.9675 - val_loss: 0.8241 - val_accuracy: 0.8284\n",
            "Epoch 131/400\n",
            "2500/2500 [==============================] - 9s 4ms/step - loss: 0.0915 - accuracy: 0.9687 - val_loss: 0.8452 - val_accuracy: 0.8232\n",
            "Epoch 132/400\n",
            "2500/2500 [==============================] - 9s 4ms/step - loss: 0.0926 - accuracy: 0.9676 - val_loss: 0.8044 - val_accuracy: 0.8294\n",
            "Epoch 133/400\n",
            "2500/2500 [==============================] - 9s 4ms/step - loss: 0.0887 - accuracy: 0.9687 - val_loss: 0.8014 - val_accuracy: 0.8263\n",
            "Epoch 134/400\n",
            "2500/2500 [==============================] - 10s 4ms/step - loss: 0.0896 - accuracy: 0.9686 - val_loss: 0.8488 - val_accuracy: 0.8237\n",
            "Epoch 135/400\n",
            "2500/2500 [==============================] - 9s 4ms/step - loss: 0.0908 - accuracy: 0.9686 - val_loss: 0.8628 - val_accuracy: 0.8261\n",
            "Epoch 136/400\n",
            "2500/2500 [==============================] - 9s 4ms/step - loss: 0.0932 - accuracy: 0.9692 - val_loss: 0.8163 - val_accuracy: 0.8299\n",
            "Epoch 137/400\n",
            "2500/2500 [==============================] - 9s 4ms/step - loss: 0.0863 - accuracy: 0.9697 - val_loss: 0.8056 - val_accuracy: 0.8299\n",
            "Epoch 138/400\n",
            "2500/2500 [==============================] - 10s 4ms/step - loss: 0.0858 - accuracy: 0.9702 - val_loss: 0.7976 - val_accuracy: 0.8279\n",
            "Epoch 139/400\n",
            "2500/2500 [==============================] - 10s 4ms/step - loss: 0.0841 - accuracy: 0.9710 - val_loss: 0.8525 - val_accuracy: 0.8300\n",
            "Epoch 140/400\n",
            "2500/2500 [==============================] - 9s 4ms/step - loss: 0.0910 - accuracy: 0.9689 - val_loss: 0.8138 - val_accuracy: 0.8298\n",
            "Epoch 141/400\n",
            "2500/2500 [==============================] - 9s 4ms/step - loss: 0.0751 - accuracy: 0.9742 - val_loss: 0.8432 - val_accuracy: 0.8263\n",
            "Epoch 142/400\n",
            "2500/2500 [==============================] - 9s 4ms/step - loss: 0.0886 - accuracy: 0.9686 - val_loss: 0.7871 - val_accuracy: 0.8352\n",
            "Epoch 143/400\n",
            "2500/2500 [==============================] - 9s 4ms/step - loss: 0.0842 - accuracy: 0.9716 - val_loss: 0.8605 - val_accuracy: 0.8277\n",
            "Epoch 144/400\n",
            "2500/2500 [==============================] - 9s 4ms/step - loss: 0.0856 - accuracy: 0.9706 - val_loss: 0.7806 - val_accuracy: 0.8324\n",
            "Epoch 145/400\n",
            "2500/2500 [==============================] - 10s 4ms/step - loss: 0.0871 - accuracy: 0.9693 - val_loss: 0.8575 - val_accuracy: 0.8315\n",
            "Epoch 146/400\n",
            "2500/2500 [==============================] - 10s 4ms/step - loss: 0.0881 - accuracy: 0.9692 - val_loss: 0.7708 - val_accuracy: 0.8322\n",
            "Epoch 147/400\n",
            "2500/2500 [==============================] - 10s 4ms/step - loss: 0.0762 - accuracy: 0.9741 - val_loss: 0.7983 - val_accuracy: 0.8278\n",
            "Epoch 148/400\n",
            "2500/2500 [==============================] - 9s 4ms/step - loss: 0.0846 - accuracy: 0.9707 - val_loss: 0.7889 - val_accuracy: 0.8347\n",
            "Epoch 149/400\n",
            "2500/2500 [==============================] - 10s 4ms/step - loss: 0.0840 - accuracy: 0.9710 - val_loss: 0.8427 - val_accuracy: 0.8330\n",
            "Epoch 150/400\n",
            "2500/2500 [==============================] - 10s 4ms/step - loss: 0.0819 - accuracy: 0.9726 - val_loss: 0.8426 - val_accuracy: 0.8336\n",
            "Epoch 151/400\n",
            "2500/2500 [==============================] - 9s 4ms/step - loss: 0.0816 - accuracy: 0.9725 - val_loss: 0.8649 - val_accuracy: 0.8246\n",
            "Epoch 152/400\n",
            "2500/2500 [==============================] - 9s 4ms/step - loss: 0.0818 - accuracy: 0.9728 - val_loss: 0.7818 - val_accuracy: 0.8362\n",
            "Epoch 153/400\n",
            "2500/2500 [==============================] - 9s 4ms/step - loss: 0.0807 - accuracy: 0.9714 - val_loss: 0.8424 - val_accuracy: 0.8289\n",
            "Epoch 154/400\n",
            "2500/2500 [==============================] - 9s 4ms/step - loss: 0.0805 - accuracy: 0.9728 - val_loss: 0.8027 - val_accuracy: 0.8343\n",
            "Epoch 155/400\n",
            "2500/2500 [==============================] - 10s 4ms/step - loss: 0.0802 - accuracy: 0.9724 - val_loss: 0.8336 - val_accuracy: 0.8323\n",
            "Epoch 156/400\n",
            "2500/2500 [==============================] - 9s 4ms/step - loss: 0.0834 - accuracy: 0.9716 - val_loss: 0.8255 - val_accuracy: 0.8334\n",
            "Epoch 157/400\n",
            "2500/2500 [==============================] - 10s 4ms/step - loss: 0.0827 - accuracy: 0.9721 - val_loss: 0.8591 - val_accuracy: 0.8286\n",
            "Epoch 158/400\n",
            "2500/2500 [==============================] - 10s 4ms/step - loss: 0.0840 - accuracy: 0.9733 - val_loss: 0.8199 - val_accuracy: 0.8360\n",
            "Epoch 159/400\n",
            "2500/2500 [==============================] - 9s 4ms/step - loss: 0.0829 - accuracy: 0.9710 - val_loss: 0.8261 - val_accuracy: 0.8336\n",
            "Epoch 160/400\n",
            "2500/2500 [==============================] - 9s 4ms/step - loss: 0.0784 - accuracy: 0.9746 - val_loss: 0.8316 - val_accuracy: 0.8317\n",
            "Epoch 161/400\n",
            "2500/2500 [==============================] - 9s 4ms/step - loss: 0.0755 - accuracy: 0.9747 - val_loss: 0.8430 - val_accuracy: 0.8326\n",
            "Epoch 162/400\n",
            "2500/2500 [==============================] - 9s 4ms/step - loss: 0.0742 - accuracy: 0.9740 - val_loss: 0.8346 - val_accuracy: 0.8323\n",
            "Epoch 163/400\n",
            "2500/2500 [==============================] - 9s 4ms/step - loss: 0.0748 - accuracy: 0.9742 - val_loss: 0.8198 - val_accuracy: 0.8336\n",
            "Epoch 164/400\n",
            "2500/2500 [==============================] - 9s 4ms/step - loss: 0.0728 - accuracy: 0.9757 - val_loss: 0.8475 - val_accuracy: 0.8328\n",
            "Epoch 165/400\n",
            "2500/2500 [==============================] - 9s 4ms/step - loss: 0.0796 - accuracy: 0.9726 - val_loss: 0.8893 - val_accuracy: 0.8325\n",
            "Epoch 166/400\n",
            "2500/2500 [==============================] - 9s 4ms/step - loss: 0.0793 - accuracy: 0.9733 - val_loss: 0.8731 - val_accuracy: 0.8326\n",
            "Epoch 167/400\n",
            "2500/2500 [==============================] - 9s 4ms/step - loss: 0.0779 - accuracy: 0.9740 - val_loss: 0.8678 - val_accuracy: 0.8327\n",
            "Epoch 168/400\n",
            "2500/2500 [==============================] - 9s 4ms/step - loss: 0.0800 - accuracy: 0.9721 - val_loss: 0.8321 - val_accuracy: 0.8363\n",
            "Epoch 169/400\n",
            "2500/2500 [==============================] - 9s 4ms/step - loss: 0.0828 - accuracy: 0.9719 - val_loss: 0.8645 - val_accuracy: 0.8322\n",
            "Epoch 170/400\n",
            "2500/2500 [==============================] - 10s 4ms/step - loss: 0.0735 - accuracy: 0.9738 - val_loss: 0.8648 - val_accuracy: 0.8332\n",
            "Epoch 171/400\n",
            "2500/2500 [==============================] - 10s 4ms/step - loss: 0.0761 - accuracy: 0.9752 - val_loss: 0.8842 - val_accuracy: 0.8316\n",
            "Epoch 172/400\n",
            "2500/2500 [==============================] - 9s 4ms/step - loss: 0.0735 - accuracy: 0.9755 - val_loss: 0.8436 - val_accuracy: 0.8310\n",
            "Epoch 173/400\n",
            "2500/2500 [==============================] - 9s 4ms/step - loss: 0.0725 - accuracy: 0.9746 - val_loss: 0.8884 - val_accuracy: 0.8263\n",
            "Epoch 174/400\n",
            "2500/2500 [==============================] - 9s 4ms/step - loss: 0.0816 - accuracy: 0.9727 - val_loss: 0.8357 - val_accuracy: 0.8327\n",
            "Epoch 175/400\n",
            "2500/2500 [==============================] - 9s 4ms/step - loss: 0.0751 - accuracy: 0.9748 - val_loss: 0.8328 - val_accuracy: 0.8312\n",
            "Epoch 176/400\n",
            "2500/2500 [==============================] - 10s 4ms/step - loss: 0.0707 - accuracy: 0.9761 - val_loss: 0.8879 - val_accuracy: 0.8288\n",
            "Epoch 177/400\n",
            "2500/2500 [==============================] - 10s 4ms/step - loss: 0.0745 - accuracy: 0.9754 - val_loss: 0.8684 - val_accuracy: 0.8306\n",
            "Epoch 178/400\n",
            "2500/2500 [==============================] - 10s 4ms/step - loss: 0.0742 - accuracy: 0.9751 - val_loss: 0.8848 - val_accuracy: 0.8292\n",
            "Epoch 179/400\n",
            "2500/2500 [==============================] - 10s 4ms/step - loss: 0.0780 - accuracy: 0.9735 - val_loss: 0.8596 - val_accuracy: 0.8322\n",
            "Epoch 180/400\n",
            "2500/2500 [==============================] - 10s 4ms/step - loss: 0.0745 - accuracy: 0.9757 - val_loss: 0.8963 - val_accuracy: 0.8291\n",
            "Epoch 181/400\n",
            "2500/2500 [==============================] - 10s 4ms/step - loss: 0.0755 - accuracy: 0.9748 - val_loss: 0.8498 - val_accuracy: 0.8310\n",
            "Epoch 182/400\n",
            "2500/2500 [==============================] - 10s 4ms/step - loss: 0.0717 - accuracy: 0.9764 - val_loss: 0.8755 - val_accuracy: 0.8285\n",
            "Epoch 183/400\n",
            "2500/2500 [==============================] - 10s 4ms/step - loss: 0.0720 - accuracy: 0.9755 - val_loss: 0.9034 - val_accuracy: 0.8309\n",
            "Epoch 184/400\n",
            "2500/2500 [==============================] - 10s 4ms/step - loss: 0.0672 - accuracy: 0.9773 - val_loss: 0.8633 - val_accuracy: 0.8288\n",
            "Epoch 185/400\n",
            "2500/2500 [==============================] - 10s 4ms/step - loss: 0.0760 - accuracy: 0.9734 - val_loss: 0.8244 - val_accuracy: 0.8329\n",
            "Epoch 186/400\n",
            "2500/2500 [==============================] - 9s 4ms/step - loss: 0.0709 - accuracy: 0.9761 - val_loss: 0.8451 - val_accuracy: 0.8318\n",
            "Epoch 187/400\n",
            "2500/2500 [==============================] - 10s 4ms/step - loss: 0.0708 - accuracy: 0.9757 - val_loss: 0.8629 - val_accuracy: 0.8324\n",
            "Epoch 188/400\n",
            "2500/2500 [==============================] - 10s 4ms/step - loss: 0.0766 - accuracy: 0.9738 - val_loss: 0.8403 - val_accuracy: 0.8332\n",
            "Epoch 189/400\n",
            "2500/2500 [==============================] - 10s 4ms/step - loss: 0.0682 - accuracy: 0.9765 - val_loss: 0.8677 - val_accuracy: 0.8302\n",
            "Epoch 190/400\n",
            "2500/2500 [==============================] - 10s 4ms/step - loss: 0.0675 - accuracy: 0.9752 - val_loss: 0.9015 - val_accuracy: 0.8249\n",
            "Epoch 191/400\n",
            "2500/2500 [==============================] - 10s 4ms/step - loss: 0.0713 - accuracy: 0.9767 - val_loss: 0.8686 - val_accuracy: 0.8326\n",
            "Epoch 192/400\n",
            "2500/2500 [==============================] - 10s 4ms/step - loss: 0.0674 - accuracy: 0.9770 - val_loss: 0.8872 - val_accuracy: 0.8293\n",
            "Epoch 193/400\n",
            "2500/2500 [==============================] - 10s 4ms/step - loss: 0.0609 - accuracy: 0.9795 - val_loss: 0.8945 - val_accuracy: 0.8328\n",
            "Epoch 194/400\n",
            "2500/2500 [==============================] - 10s 4ms/step - loss: 0.0650 - accuracy: 0.9776 - val_loss: 0.8618 - val_accuracy: 0.8307\n",
            "Epoch 195/400\n",
            "2500/2500 [==============================] - 10s 4ms/step - loss: 0.0718 - accuracy: 0.9759 - val_loss: 0.8715 - val_accuracy: 0.8313\n",
            "Epoch 196/400\n",
            "2500/2500 [==============================] - 10s 4ms/step - loss: 0.0754 - accuracy: 0.9747 - val_loss: 0.8717 - val_accuracy: 0.8304\n",
            "Epoch 197/400\n",
            "2500/2500 [==============================] - 10s 4ms/step - loss: 0.0731 - accuracy: 0.9766 - val_loss: 0.9231 - val_accuracy: 0.8298\n",
            "Epoch 198/400\n",
            "2500/2500 [==============================] - 10s 4ms/step - loss: 0.0713 - accuracy: 0.9761 - val_loss: 0.8293 - val_accuracy: 0.8297\n",
            "Epoch 199/400\n",
            "2500/2500 [==============================] - 10s 4ms/step - loss: 0.0730 - accuracy: 0.9751 - val_loss: 0.8889 - val_accuracy: 0.8335\n",
            "Epoch 200/400\n",
            "2500/2500 [==============================] - 10s 4ms/step - loss: 0.0723 - accuracy: 0.9761 - val_loss: 0.9112 - val_accuracy: 0.8294\n",
            "Epoch 201/400\n",
            "2500/2500 [==============================] - 10s 4ms/step - loss: 0.0729 - accuracy: 0.9755 - val_loss: 0.8411 - val_accuracy: 0.8339\n",
            "Epoch 202/400\n",
            "2500/2500 [==============================] - 10s 4ms/step - loss: 0.0624 - accuracy: 0.9794 - val_loss: 0.8479 - val_accuracy: 0.8299\n",
            "Epoch 203/400\n",
            "2500/2500 [==============================] - 10s 4ms/step - loss: 0.0648 - accuracy: 0.9780 - val_loss: 0.8757 - val_accuracy: 0.8318\n",
            "Epoch 204/400\n",
            "2500/2500 [==============================] - 10s 4ms/step - loss: 0.0666 - accuracy: 0.9772 - val_loss: 0.8837 - val_accuracy: 0.8303\n",
            "Epoch 205/400\n",
            "2500/2500 [==============================] - 10s 4ms/step - loss: 0.0658 - accuracy: 0.9780 - val_loss: 0.8650 - val_accuracy: 0.8334\n",
            "Epoch 206/400\n",
            "2500/2500 [==============================] - 9s 4ms/step - loss: 0.0622 - accuracy: 0.9777 - val_loss: 0.8731 - val_accuracy: 0.8320\n",
            "Epoch 207/400\n",
            "2500/2500 [==============================] - 10s 4ms/step - loss: 0.0669 - accuracy: 0.9778 - val_loss: 0.8722 - val_accuracy: 0.8350\n",
            "Epoch 208/400\n",
            "2500/2500 [==============================] - 10s 4ms/step - loss: 0.0676 - accuracy: 0.9767 - val_loss: 0.8745 - val_accuracy: 0.8329\n",
            "Epoch 209/400\n",
            "2500/2500 [==============================] - 10s 4ms/step - loss: 0.0601 - accuracy: 0.9792 - val_loss: 0.8781 - val_accuracy: 0.8307\n",
            "Epoch 210/400\n",
            "2500/2500 [==============================] - 10s 4ms/step - loss: 0.0542 - accuracy: 0.9815 - val_loss: 0.9523 - val_accuracy: 0.8336\n",
            "Epoch 211/400\n",
            "2500/2500 [==============================] - 9s 4ms/step - loss: 0.0706 - accuracy: 0.9765 - val_loss: 0.8805 - val_accuracy: 0.8336\n",
            "Epoch 212/400\n",
            "2500/2500 [==============================] - 10s 4ms/step - loss: 0.0683 - accuracy: 0.9766 - val_loss: 0.8767 - val_accuracy: 0.8347\n",
            "Epoch 213/400\n",
            "2500/2500 [==============================] - 9s 4ms/step - loss: 0.0667 - accuracy: 0.9774 - val_loss: 0.8490 - val_accuracy: 0.8324\n",
            "Epoch 214/400\n",
            "2500/2500 [==============================] - 10s 4ms/step - loss: 0.0607 - accuracy: 0.9790 - val_loss: 0.8700 - val_accuracy: 0.8337\n",
            "Epoch 215/400\n",
            "2500/2500 [==============================] - 10s 4ms/step - loss: 0.0670 - accuracy: 0.9776 - val_loss: 0.8632 - val_accuracy: 0.8338\n",
            "Epoch 216/400\n",
            "2500/2500 [==============================] - 9s 4ms/step - loss: 0.0666 - accuracy: 0.9772 - val_loss: 0.8836 - val_accuracy: 0.8370\n",
            "Epoch 217/400\n",
            "2500/2500 [==============================] - 10s 4ms/step - loss: 0.0675 - accuracy: 0.9781 - val_loss: 0.8683 - val_accuracy: 0.8334\n",
            "Epoch 218/400\n",
            "2500/2500 [==============================] - 10s 4ms/step - loss: 0.0607 - accuracy: 0.9792 - val_loss: 0.8795 - val_accuracy: 0.8337\n",
            "Epoch 219/400\n",
            "2500/2500 [==============================] - 10s 4ms/step - loss: 0.0599 - accuracy: 0.9799 - val_loss: 0.8685 - val_accuracy: 0.8360\n",
            "Epoch 220/400\n",
            "2500/2500 [==============================] - 10s 4ms/step - loss: 0.0616 - accuracy: 0.9796 - val_loss: 0.8669 - val_accuracy: 0.8366\n",
            "Epoch 221/400\n",
            "2500/2500 [==============================] - 9s 4ms/step - loss: 0.0604 - accuracy: 0.9788 - val_loss: 0.9001 - val_accuracy: 0.8330\n",
            "Epoch 222/400\n",
            "2500/2500 [==============================] - 10s 4ms/step - loss: 0.0589 - accuracy: 0.9788 - val_loss: 0.8830 - val_accuracy: 0.8321\n",
            "Epoch 223/400\n",
            "2500/2500 [==============================] - 10s 4ms/step - loss: 0.0663 - accuracy: 0.9774 - val_loss: 0.9008 - val_accuracy: 0.8300\n",
            "Epoch 224/400\n",
            "2500/2500 [==============================] - 10s 4ms/step - loss: 0.0644 - accuracy: 0.9782 - val_loss: 0.9284 - val_accuracy: 0.8306\n",
            "Epoch 225/400\n",
            "2500/2500 [==============================] - 9s 4ms/step - loss: 0.0689 - accuracy: 0.9765 - val_loss: 0.8704 - val_accuracy: 0.8326\n",
            "Epoch 226/400\n",
            "2500/2500 [==============================] - 10s 4ms/step - loss: 0.0656 - accuracy: 0.9786 - val_loss: 0.9106 - val_accuracy: 0.8318\n",
            "Epoch 227/400\n",
            "2500/2500 [==============================] - 10s 4ms/step - loss: 0.0632 - accuracy: 0.9784 - val_loss: 0.8934 - val_accuracy: 0.8354\n",
            "Epoch 228/400\n",
            "2500/2500 [==============================] - 10s 4ms/step - loss: 0.0711 - accuracy: 0.9765 - val_loss: 0.8628 - val_accuracy: 0.8359\n",
            "Epoch 229/400\n",
            "2500/2500 [==============================] - 10s 4ms/step - loss: 0.0561 - accuracy: 0.9801 - val_loss: 0.9171 - val_accuracy: 0.8271\n",
            "Epoch 230/400\n",
            "2500/2500 [==============================] - 10s 4ms/step - loss: 0.0644 - accuracy: 0.9794 - val_loss: 0.9592 - val_accuracy: 0.8350\n",
            "Epoch 231/400\n",
            "2500/2500 [==============================] - 10s 4ms/step - loss: 0.0613 - accuracy: 0.9800 - val_loss: 0.9501 - val_accuracy: 0.8325\n",
            "Epoch 232/400\n",
            "2500/2500 [==============================] - 10s 4ms/step - loss: 0.0621 - accuracy: 0.9787 - val_loss: 0.8876 - val_accuracy: 0.8361\n",
            "Epoch 233/400\n",
            "2500/2500 [==============================] - 10s 4ms/step - loss: 0.0621 - accuracy: 0.9791 - val_loss: 0.8947 - val_accuracy: 0.8348\n",
            "Epoch 234/400\n",
            "2500/2500 [==============================] - 10s 4ms/step - loss: 0.0572 - accuracy: 0.9807 - val_loss: 0.8912 - val_accuracy: 0.8311\n",
            "Epoch 235/400\n",
            "2500/2500 [==============================] - 10s 4ms/step - loss: 0.0566 - accuracy: 0.9801 - val_loss: 0.9222 - val_accuracy: 0.8371\n",
            "Epoch 236/400\n",
            "2500/2500 [==============================] - 10s 4ms/step - loss: 0.0647 - accuracy: 0.9787 - val_loss: 0.9227 - val_accuracy: 0.8361\n",
            "Epoch 237/400\n",
            "2500/2500 [==============================] - 10s 4ms/step - loss: 0.0638 - accuracy: 0.9787 - val_loss: 0.8765 - val_accuracy: 0.8357\n",
            "Epoch 238/400\n",
            "2500/2500 [==============================] - 10s 4ms/step - loss: 0.0578 - accuracy: 0.9794 - val_loss: 0.9340 - val_accuracy: 0.8373\n",
            "Epoch 239/400\n",
            "2500/2500 [==============================] - 10s 4ms/step - loss: 0.0599 - accuracy: 0.9794 - val_loss: 0.8922 - val_accuracy: 0.8367\n",
            "Epoch 240/400\n",
            "2500/2500 [==============================] - 10s 4ms/step - loss: 0.0642 - accuracy: 0.9790 - val_loss: 0.8658 - val_accuracy: 0.8366\n",
            "Epoch 241/400\n",
            "2500/2500 [==============================] - 10s 4ms/step - loss: 0.0589 - accuracy: 0.9798 - val_loss: 0.9093 - val_accuracy: 0.8331\n",
            "Epoch 242/400\n",
            "2500/2500 [==============================] - 10s 4ms/step - loss: 0.0606 - accuracy: 0.9804 - val_loss: 0.8805 - val_accuracy: 0.8341\n",
            "Epoch 243/400\n",
            "2500/2500 [==============================] - 10s 4ms/step - loss: 0.0584 - accuracy: 0.9808 - val_loss: 0.8551 - val_accuracy: 0.8332\n",
            "Epoch 244/400\n",
            "2500/2500 [==============================] - 10s 4ms/step - loss: 0.0566 - accuracy: 0.9804 - val_loss: 0.8758 - val_accuracy: 0.8389\n",
            "Epoch 245/400\n",
            "2500/2500 [==============================] - 10s 4ms/step - loss: 0.0533 - accuracy: 0.9813 - val_loss: 0.8907 - val_accuracy: 0.8338\n",
            "Epoch 246/400\n",
            "2500/2500 [==============================] - 10s 4ms/step - loss: 0.0557 - accuracy: 0.9822 - val_loss: 0.9383 - val_accuracy: 0.8344\n",
            "Epoch 247/400\n",
            "2500/2500 [==============================] - 10s 4ms/step - loss: 0.0578 - accuracy: 0.9811 - val_loss: 0.8671 - val_accuracy: 0.8342\n",
            "Epoch 248/400\n",
            "2500/2500 [==============================] - 10s 4ms/step - loss: 0.0562 - accuracy: 0.9807 - val_loss: 0.8763 - val_accuracy: 0.8305\n",
            "Epoch 249/400\n",
            "2500/2500 [==============================] - 10s 4ms/step - loss: 0.0646 - accuracy: 0.9774 - val_loss: 0.9111 - val_accuracy: 0.8338\n",
            "Epoch 250/400\n",
            "2500/2500 [==============================] - 10s 4ms/step - loss: 0.0693 - accuracy: 0.9772 - val_loss: 0.8933 - val_accuracy: 0.8294\n",
            "Epoch 251/400\n",
            "2500/2500 [==============================] - 10s 4ms/step - loss: 0.0536 - accuracy: 0.9819 - val_loss: 0.8917 - val_accuracy: 0.8341\n",
            "Epoch 252/400\n",
            "2500/2500 [==============================] - 10s 4ms/step - loss: 0.0582 - accuracy: 0.9800 - val_loss: 0.8992 - val_accuracy: 0.8344\n",
            "Epoch 253/400\n",
            "2500/2500 [==============================] - 10s 4ms/step - loss: 0.0626 - accuracy: 0.9810 - val_loss: 0.9107 - val_accuracy: 0.8343\n",
            "Epoch 254/400\n",
            "2500/2500 [==============================] - 10s 4ms/step - loss: 0.0593 - accuracy: 0.9796 - val_loss: 0.9237 - val_accuracy: 0.8338\n",
            "Epoch 255/400\n",
            "2500/2500 [==============================] - 10s 4ms/step - loss: 0.0577 - accuracy: 0.9802 - val_loss: 0.8995 - val_accuracy: 0.8312\n",
            "Epoch 256/400\n",
            "2500/2500 [==============================] - 10s 4ms/step - loss: 0.0482 - accuracy: 0.9839 - val_loss: 0.9132 - val_accuracy: 0.8369\n",
            "Epoch 257/400\n",
            "2500/2500 [==============================] - 10s 4ms/step - loss: 0.0593 - accuracy: 0.9804 - val_loss: 0.9015 - val_accuracy: 0.8357\n",
            "Epoch 258/400\n",
            "2500/2500 [==============================] - 10s 4ms/step - loss: 0.0551 - accuracy: 0.9827 - val_loss: 0.9446 - val_accuracy: 0.8288\n",
            "Epoch 259/400\n",
            "2500/2500 [==============================] - 10s 4ms/step - loss: 0.0543 - accuracy: 0.9825 - val_loss: 0.8549 - val_accuracy: 0.8360\n",
            "Epoch 260/400\n",
            "2500/2500 [==============================] - 10s 4ms/step - loss: 0.0519 - accuracy: 0.9824 - val_loss: 0.8872 - val_accuracy: 0.8343\n",
            "Epoch 261/400\n",
            "2500/2500 [==============================] - 10s 4ms/step - loss: 0.0554 - accuracy: 0.9813 - val_loss: 0.8923 - val_accuracy: 0.8361\n",
            "Epoch 262/400\n",
            "2500/2500 [==============================] - 10s 4ms/step - loss: 0.0568 - accuracy: 0.9807 - val_loss: 0.8719 - val_accuracy: 0.8389\n",
            "Epoch 263/400\n",
            "2500/2500 [==============================] - 10s 4ms/step - loss: 0.0545 - accuracy: 0.9820 - val_loss: 0.8935 - val_accuracy: 0.8343\n",
            "Epoch 264/400\n",
            "2500/2500 [==============================] - 10s 4ms/step - loss: 0.0563 - accuracy: 0.9802 - val_loss: 0.9192 - val_accuracy: 0.8386\n",
            "Epoch 265/400\n",
            "2500/2500 [==============================] - 10s 4ms/step - loss: 0.0591 - accuracy: 0.9803 - val_loss: 0.8821 - val_accuracy: 0.8385\n",
            "Epoch 266/400\n",
            "2500/2500 [==============================] - 10s 4ms/step - loss: 0.0561 - accuracy: 0.9808 - val_loss: 0.9690 - val_accuracy: 0.8329\n",
            "Epoch 267/400\n",
            "2500/2500 [==============================] - 10s 4ms/step - loss: 0.0604 - accuracy: 0.9803 - val_loss: 0.9727 - val_accuracy: 0.8311\n",
            "Epoch 268/400\n",
            "2500/2500 [==============================] - 10s 4ms/step - loss: 0.0597 - accuracy: 0.9796 - val_loss: 0.9083 - val_accuracy: 0.8358\n",
            "Epoch 269/400\n",
            "2500/2500 [==============================] - 10s 4ms/step - loss: 0.0554 - accuracy: 0.9818 - val_loss: 0.9287 - val_accuracy: 0.8291\n",
            "Epoch 270/400\n",
            "2500/2500 [==============================] - 10s 4ms/step - loss: 0.0517 - accuracy: 0.9817 - val_loss: 0.9318 - val_accuracy: 0.8338\n",
            "Epoch 271/400\n",
            "2500/2500 [==============================] - 10s 4ms/step - loss: 0.0596 - accuracy: 0.9805 - val_loss: 0.9483 - val_accuracy: 0.8343\n",
            "Epoch 272/400\n",
            "2500/2500 [==============================] - 10s 4ms/step - loss: 0.0546 - accuracy: 0.9812 - val_loss: 1.0033 - val_accuracy: 0.8270\n",
            "Epoch 273/400\n",
            "2500/2500 [==============================] - 10s 4ms/step - loss: 0.0567 - accuracy: 0.9813 - val_loss: 0.9629 - val_accuracy: 0.8318\n",
            "Epoch 274/400\n",
            "2500/2500 [==============================] - 10s 4ms/step - loss: 0.0613 - accuracy: 0.9808 - val_loss: 0.9242 - val_accuracy: 0.8375\n",
            "Epoch 275/400\n",
            "2500/2500 [==============================] - 10s 4ms/step - loss: 0.0523 - accuracy: 0.9822 - val_loss: 0.9336 - val_accuracy: 0.8346\n",
            "Epoch 276/400\n",
            "2500/2500 [==============================] - 10s 4ms/step - loss: 0.0536 - accuracy: 0.9815 - val_loss: 0.9370 - val_accuracy: 0.8329\n",
            "Epoch 277/400\n",
            "2500/2500 [==============================] - 10s 4ms/step - loss: 0.0516 - accuracy: 0.9820 - val_loss: 0.9613 - val_accuracy: 0.8303\n",
            "Epoch 278/400\n",
            "2500/2500 [==============================] - 10s 4ms/step - loss: 0.0600 - accuracy: 0.9810 - val_loss: 0.9152 - val_accuracy: 0.8356\n",
            "Epoch 279/400\n",
            "2500/2500 [==============================] - 10s 4ms/step - loss: 0.0591 - accuracy: 0.9796 - val_loss: 0.9273 - val_accuracy: 0.8318\n",
            "Epoch 280/400\n",
            "2500/2500 [==============================] - 10s 4ms/step - loss: 0.0560 - accuracy: 0.9817 - val_loss: 0.9718 - val_accuracy: 0.8342\n",
            "Epoch 281/400\n",
            "2500/2500 [==============================] - 10s 4ms/step - loss: 0.0616 - accuracy: 0.9806 - val_loss: 0.9251 - val_accuracy: 0.8325\n",
            "Epoch 282/400\n",
            "2500/2500 [==============================] - 10s 4ms/step - loss: 0.0514 - accuracy: 0.9824 - val_loss: 0.9706 - val_accuracy: 0.8355\n",
            "Epoch 283/400\n",
            "2500/2500 [==============================] - 10s 4ms/step - loss: 0.0573 - accuracy: 0.9805 - val_loss: 0.8999 - val_accuracy: 0.8334\n",
            "Epoch 284/400\n",
            "2500/2500 [==============================] - 10s 4ms/step - loss: 0.0538 - accuracy: 0.9820 - val_loss: 0.9298 - val_accuracy: 0.8347\n",
            "Epoch 285/400\n",
            "2500/2500 [==============================] - 10s 4ms/step - loss: 0.0546 - accuracy: 0.9821 - val_loss: 0.9281 - val_accuracy: 0.8370\n",
            "Epoch 286/400\n",
            "2500/2500 [==============================] - 10s 4ms/step - loss: 0.0505 - accuracy: 0.9827 - val_loss: 0.9293 - val_accuracy: 0.8370\n",
            "Epoch 287/400\n",
            "2500/2500 [==============================] - 10s 4ms/step - loss: 0.0544 - accuracy: 0.9812 - val_loss: 0.9458 - val_accuracy: 0.8343\n",
            "Epoch 288/400\n",
            "2500/2500 [==============================] - 10s 4ms/step - loss: 0.0526 - accuracy: 0.9826 - val_loss: 0.9141 - val_accuracy: 0.8355\n",
            "Epoch 289/400\n",
            "2500/2500 [==============================] - 10s 4ms/step - loss: 0.0505 - accuracy: 0.9832 - val_loss: 0.9371 - val_accuracy: 0.8370\n",
            "Epoch 290/400\n",
            "2500/2500 [==============================] - 10s 4ms/step - loss: 0.0537 - accuracy: 0.9825 - val_loss: 0.9360 - val_accuracy: 0.8340\n",
            "Epoch 291/400\n",
            "2500/2500 [==============================] - 10s 4ms/step - loss: 0.0500 - accuracy: 0.9832 - val_loss: 0.9406 - val_accuracy: 0.8378\n",
            "Epoch 292/400\n",
            "2500/2500 [==============================] - 10s 4ms/step - loss: 0.0516 - accuracy: 0.9829 - val_loss: 0.9437 - val_accuracy: 0.8337\n",
            "Epoch 293/400\n",
            "2500/2500 [==============================] - 10s 4ms/step - loss: 0.0567 - accuracy: 0.9816 - val_loss: 0.9105 - val_accuracy: 0.8358\n",
            "Epoch 294/400\n",
            "2500/2500 [==============================] - 10s 4ms/step - loss: 0.0571 - accuracy: 0.9808 - val_loss: 0.9007 - val_accuracy: 0.8354\n",
            "Epoch 295/400\n",
            "2500/2500 [==============================] - 10s 4ms/step - loss: 0.0532 - accuracy: 0.9821 - val_loss: 0.9988 - val_accuracy: 0.8285\n",
            "Epoch 296/400\n",
            "2500/2500 [==============================] - 10s 4ms/step - loss: 0.0567 - accuracy: 0.9808 - val_loss: 0.9296 - val_accuracy: 0.8340\n",
            "Epoch 297/400\n",
            "2500/2500 [==============================] - 10s 4ms/step - loss: 0.0579 - accuracy: 0.9811 - val_loss: 0.8791 - val_accuracy: 0.8373\n",
            "Epoch 298/400\n",
            "2500/2500 [==============================] - 10s 4ms/step - loss: 0.0541 - accuracy: 0.9817 - val_loss: 0.9720 - val_accuracy: 0.8334\n",
            "Epoch 299/400\n",
            "2500/2500 [==============================] - 10s 4ms/step - loss: 0.0537 - accuracy: 0.9820 - val_loss: 0.9056 - val_accuracy: 0.8340\n",
            "Epoch 300/400\n",
            "2500/2500 [==============================] - 10s 4ms/step - loss: 0.0492 - accuracy: 0.9837 - val_loss: 0.9173 - val_accuracy: 0.8354\n",
            "Epoch 301/400\n",
            "2500/2500 [==============================] - 10s 4ms/step - loss: 0.0505 - accuracy: 0.9826 - val_loss: 0.9165 - val_accuracy: 0.8349\n",
            "Epoch 302/400\n",
            "2500/2500 [==============================] - 10s 4ms/step - loss: 0.0507 - accuracy: 0.9833 - val_loss: 0.9130 - val_accuracy: 0.8389\n",
            "Epoch 303/400\n",
            "2500/2500 [==============================] - 10s 4ms/step - loss: 0.0539 - accuracy: 0.9829 - val_loss: 0.8973 - val_accuracy: 0.8380\n",
            "Epoch 304/400\n",
            "2500/2500 [==============================] - 10s 4ms/step - loss: 0.0478 - accuracy: 0.9842 - val_loss: 0.8814 - val_accuracy: 0.8368\n",
            "Epoch 305/400\n",
            "2500/2500 [==============================] - 10s 4ms/step - loss: 0.0545 - accuracy: 0.9816 - val_loss: 1.0156 - val_accuracy: 0.8305\n",
            "Epoch 306/400\n",
            "2500/2500 [==============================] - 10s 4ms/step - loss: 0.0583 - accuracy: 0.9819 - val_loss: 0.8768 - val_accuracy: 0.8371\n",
            "Epoch 307/400\n",
            "2500/2500 [==============================] - 10s 4ms/step - loss: 0.0508 - accuracy: 0.9823 - val_loss: 0.8867 - val_accuracy: 0.8355\n",
            "Epoch 308/400\n",
            "2500/2500 [==============================] - 10s 4ms/step - loss: 0.0535 - accuracy: 0.9830 - val_loss: 0.9380 - val_accuracy: 0.8343\n",
            "Epoch 309/400\n",
            "2500/2500 [==============================] - 10s 4ms/step - loss: 0.0461 - accuracy: 0.9850 - val_loss: 0.9404 - val_accuracy: 0.8345\n",
            "Epoch 310/400\n",
            "2500/2500 [==============================] - 10s 4ms/step - loss: 0.0531 - accuracy: 0.9815 - val_loss: 0.9711 - val_accuracy: 0.8277\n",
            "Epoch 311/400\n",
            "2500/2500 [==============================] - 10s 4ms/step - loss: 0.0513 - accuracy: 0.9837 - val_loss: 0.9862 - val_accuracy: 0.8364\n",
            "Epoch 312/400\n",
            "2500/2500 [==============================] - 10s 4ms/step - loss: 0.0504 - accuracy: 0.9831 - val_loss: 1.0061 - val_accuracy: 0.8334\n",
            "Epoch 313/400\n",
            "2500/2500 [==============================] - 10s 4ms/step - loss: 0.0534 - accuracy: 0.9816 - val_loss: 0.9907 - val_accuracy: 0.8334\n",
            "Epoch 314/400\n",
            "2500/2500 [==============================] - 10s 4ms/step - loss: 0.0526 - accuracy: 0.9834 - val_loss: 0.9478 - val_accuracy: 0.8331\n",
            "Epoch 315/400\n",
            "2500/2500 [==============================] - 10s 4ms/step - loss: 0.0538 - accuracy: 0.9826 - val_loss: 0.9567 - val_accuracy: 0.8324\n",
            "Epoch 316/400\n",
            "2500/2500 [==============================] - 10s 4ms/step - loss: 0.0467 - accuracy: 0.9844 - val_loss: 0.9582 - val_accuracy: 0.8335\n",
            "Epoch 317/400\n",
            "2500/2500 [==============================] - 10s 4ms/step - loss: 0.0505 - accuracy: 0.9831 - val_loss: 0.9885 - val_accuracy: 0.8296\n",
            "Epoch 318/400\n",
            "2500/2500 [==============================] - 10s 4ms/step - loss: 0.0547 - accuracy: 0.9817 - val_loss: 0.9244 - val_accuracy: 0.8396\n",
            "Epoch 319/400\n",
            "2500/2500 [==============================] - 10s 4ms/step - loss: 0.0471 - accuracy: 0.9839 - val_loss: 0.9500 - val_accuracy: 0.8356\n",
            "Epoch 320/400\n",
            "2500/2500 [==============================] - 10s 4ms/step - loss: 0.0527 - accuracy: 0.9831 - val_loss: 0.9782 - val_accuracy: 0.8344\n",
            "Epoch 321/400\n",
            "2500/2500 [==============================] - 10s 4ms/step - loss: 0.0576 - accuracy: 0.9808 - val_loss: 0.9372 - val_accuracy: 0.8331\n",
            "Epoch 322/400\n",
            "2500/2500 [==============================] - 10s 4ms/step - loss: 0.0516 - accuracy: 0.9827 - val_loss: 0.9994 - val_accuracy: 0.8365\n",
            "Epoch 323/400\n",
            "2500/2500 [==============================] - 10s 4ms/step - loss: 0.0552 - accuracy: 0.9811 - val_loss: 0.9563 - val_accuracy: 0.8378\n",
            "Epoch 324/400\n",
            "2500/2500 [==============================] - 10s 4ms/step - loss: 0.0528 - accuracy: 0.9834 - val_loss: 0.9628 - val_accuracy: 0.8367\n",
            "Epoch 325/400\n",
            "2500/2500 [==============================] - 10s 4ms/step - loss: 0.0539 - accuracy: 0.9833 - val_loss: 0.9706 - val_accuracy: 0.8313\n",
            "Epoch 326/400\n",
            "2500/2500 [==============================] - 10s 4ms/step - loss: 0.0530 - accuracy: 0.9828 - val_loss: 0.9803 - val_accuracy: 0.8313\n",
            "Epoch 327/400\n",
            "2500/2500 [==============================] - 10s 4ms/step - loss: 0.0550 - accuracy: 0.9820 - val_loss: 0.9100 - val_accuracy: 0.8374\n",
            "Epoch 328/400\n",
            "2500/2500 [==============================] - 10s 4ms/step - loss: 0.0534 - accuracy: 0.9821 - val_loss: 0.9317 - val_accuracy: 0.8360\n",
            "Epoch 329/400\n",
            "2500/2500 [==============================] - 10s 4ms/step - loss: 0.0454 - accuracy: 0.9843 - val_loss: 0.9855 - val_accuracy: 0.8333\n",
            "Epoch 330/400\n",
            "2500/2500 [==============================] - 10s 4ms/step - loss: 0.0574 - accuracy: 0.9819 - val_loss: 0.9036 - val_accuracy: 0.8373\n",
            "Epoch 331/400\n",
            "2500/2500 [==============================] - 10s 4ms/step - loss: 0.0502 - accuracy: 0.9838 - val_loss: 0.9831 - val_accuracy: 0.8328\n",
            "Epoch 332/400\n",
            "2500/2500 [==============================] - 10s 4ms/step - loss: 0.0501 - accuracy: 0.9833 - val_loss: 0.9353 - val_accuracy: 0.8346\n",
            "Epoch 333/400\n",
            "2500/2500 [==============================] - 10s 4ms/step - loss: 0.0514 - accuracy: 0.9835 - val_loss: 0.9859 - val_accuracy: 0.8364\n",
            "Epoch 334/400\n",
            "2500/2500 [==============================] - 10s 4ms/step - loss: 0.0504 - accuracy: 0.9828 - val_loss: 0.9779 - val_accuracy: 0.8367\n",
            "Epoch 335/400\n",
            "2500/2500 [==============================] - 10s 4ms/step - loss: 0.0537 - accuracy: 0.9834 - val_loss: 0.9417 - val_accuracy: 0.8379\n",
            "Epoch 336/400\n",
            "2500/2500 [==============================] - 10s 4ms/step - loss: 0.0500 - accuracy: 0.9836 - val_loss: 0.9690 - val_accuracy: 0.8345\n",
            "Epoch 337/400\n",
            "2500/2500 [==============================] - 10s 4ms/step - loss: 0.0479 - accuracy: 0.9842 - val_loss: 0.9607 - val_accuracy: 0.8320\n",
            "Epoch 338/400\n",
            "2500/2500 [==============================] - 10s 4ms/step - loss: 0.0491 - accuracy: 0.9842 - val_loss: 0.9486 - val_accuracy: 0.8366\n",
            "Epoch 339/400\n",
            "2500/2500 [==============================] - 10s 4ms/step - loss: 0.0498 - accuracy: 0.9840 - val_loss: 0.9536 - val_accuracy: 0.8358\n",
            "Epoch 340/400\n",
            "2500/2500 [==============================] - 10s 4ms/step - loss: 0.0453 - accuracy: 0.9841 - val_loss: 0.9777 - val_accuracy: 0.8329\n",
            "Epoch 341/400\n",
            "2500/2500 [==============================] - 10s 4ms/step - loss: 0.0456 - accuracy: 0.9846 - val_loss: 1.0218 - val_accuracy: 0.8280\n",
            "Epoch 342/400\n",
            "2500/2500 [==============================] - 10s 4ms/step - loss: 0.0484 - accuracy: 0.9836 - val_loss: 0.9555 - val_accuracy: 0.8317\n",
            "Epoch 343/400\n",
            "2500/2500 [==============================] - 10s 4ms/step - loss: 0.0560 - accuracy: 0.9814 - val_loss: 0.9620 - val_accuracy: 0.8354\n",
            "Epoch 344/400\n",
            "2500/2500 [==============================] - 10s 4ms/step - loss: 0.0471 - accuracy: 0.9843 - val_loss: 0.9568 - val_accuracy: 0.8383\n",
            "Epoch 345/400\n",
            "2500/2500 [==============================] - 10s 4ms/step - loss: 0.0462 - accuracy: 0.9839 - val_loss: 0.9782 - val_accuracy: 0.8388\n",
            "Epoch 346/400\n",
            "2500/2500 [==============================] - 10s 4ms/step - loss: 0.0505 - accuracy: 0.9843 - val_loss: 0.9794 - val_accuracy: 0.8373\n",
            "Epoch 347/400\n",
            "2500/2500 [==============================] - 10s 4ms/step - loss: 0.0418 - accuracy: 0.9859 - val_loss: 0.9450 - val_accuracy: 0.8394\n",
            "Epoch 348/400\n",
            "2500/2500 [==============================] - 10s 4ms/step - loss: 0.0490 - accuracy: 0.9839 - val_loss: 0.9470 - val_accuracy: 0.8387\n",
            "Epoch 349/400\n",
            "2500/2500 [==============================] - 10s 4ms/step - loss: 0.0422 - accuracy: 0.9857 - val_loss: 0.9610 - val_accuracy: 0.8358\n",
            "Epoch 350/400\n",
            "2500/2500 [==============================] - 10s 4ms/step - loss: 0.0474 - accuracy: 0.9834 - val_loss: 0.9778 - val_accuracy: 0.8340\n",
            "Epoch 351/400\n",
            "2500/2500 [==============================] - 10s 4ms/step - loss: 0.0494 - accuracy: 0.9836 - val_loss: 0.9762 - val_accuracy: 0.8347\n",
            "Epoch 352/400\n",
            "2500/2500 [==============================] - 10s 4ms/step - loss: 0.0536 - accuracy: 0.9823 - val_loss: 0.9520 - val_accuracy: 0.8365\n",
            "Epoch 353/400\n",
            "2500/2500 [==============================] - 10s 4ms/step - loss: 0.0442 - accuracy: 0.9854 - val_loss: 0.9709 - val_accuracy: 0.8364\n",
            "Epoch 354/400\n",
            "2500/2500 [==============================] - 10s 4ms/step - loss: 0.0466 - accuracy: 0.9851 - val_loss: 0.9840 - val_accuracy: 0.8347\n",
            "Epoch 355/400\n",
            "2500/2500 [==============================] - 9s 4ms/step - loss: 0.0471 - accuracy: 0.9845 - val_loss: 0.9371 - val_accuracy: 0.8397\n",
            "Epoch 356/400\n",
            "2500/2500 [==============================] - 9s 4ms/step - loss: 0.0399 - accuracy: 0.9856 - val_loss: 0.9716 - val_accuracy: 0.8364\n",
            "Epoch 357/400\n",
            "2500/2500 [==============================] - 9s 4ms/step - loss: 0.0504 - accuracy: 0.9827 - val_loss: 0.9300 - val_accuracy: 0.8409\n",
            "Epoch 358/400\n",
            "2500/2500 [==============================] - 9s 4ms/step - loss: 0.0461 - accuracy: 0.9854 - val_loss: 0.9799 - val_accuracy: 0.8376\n",
            "Epoch 359/400\n",
            "2500/2500 [==============================] - 9s 4ms/step - loss: 0.0459 - accuracy: 0.9844 - val_loss: 0.9794 - val_accuracy: 0.8394\n",
            "Epoch 360/400\n",
            "2500/2500 [==============================] - 9s 4ms/step - loss: 0.0470 - accuracy: 0.9830 - val_loss: 0.9600 - val_accuracy: 0.8379\n",
            "Epoch 361/400\n",
            "2500/2500 [==============================] - 9s 4ms/step - loss: 0.0486 - accuracy: 0.9825 - val_loss: 1.0004 - val_accuracy: 0.8341\n",
            "Epoch 362/400\n",
            "2500/2500 [==============================] - 9s 4ms/step - loss: 0.0521 - accuracy: 0.9826 - val_loss: 1.0394 - val_accuracy: 0.8277\n",
            "Epoch 363/400\n",
            "2500/2500 [==============================] - 9s 4ms/step - loss: 0.0488 - accuracy: 0.9842 - val_loss: 0.9657 - val_accuracy: 0.8394\n",
            "Epoch 364/400\n",
            "2500/2500 [==============================] - 9s 4ms/step - loss: 0.0473 - accuracy: 0.9840 - val_loss: 0.9721 - val_accuracy: 0.8347\n",
            "Epoch 365/400\n",
            "2500/2500 [==============================] - 9s 4ms/step - loss: 0.0431 - accuracy: 0.9858 - val_loss: 1.0034 - val_accuracy: 0.8313\n",
            "Epoch 366/400\n",
            "2500/2500 [==============================] - 9s 4ms/step - loss: 0.0473 - accuracy: 0.9843 - val_loss: 0.9353 - val_accuracy: 0.8344\n",
            "Epoch 367/400\n",
            "2500/2500 [==============================] - 9s 4ms/step - loss: 0.0442 - accuracy: 0.9854 - val_loss: 0.9255 - val_accuracy: 0.8381\n",
            "Epoch 368/400\n",
            "2500/2500 [==============================] - 9s 4ms/step - loss: 0.0457 - accuracy: 0.9859 - val_loss: 0.9481 - val_accuracy: 0.8342\n",
            "Epoch 369/400\n",
            "2500/2500 [==============================] - 9s 4ms/step - loss: 0.0438 - accuracy: 0.9855 - val_loss: 0.9984 - val_accuracy: 0.8391\n",
            "Epoch 370/400\n",
            "2500/2500 [==============================] - 9s 4ms/step - loss: 0.0465 - accuracy: 0.9849 - val_loss: 1.0000 - val_accuracy: 0.8333\n",
            "Epoch 371/400\n",
            "2500/2500 [==============================] - 9s 4ms/step - loss: 0.0495 - accuracy: 0.9836 - val_loss: 0.9172 - val_accuracy: 0.8376\n",
            "Epoch 372/400\n",
            "2500/2500 [==============================] - 9s 4ms/step - loss: 0.0476 - accuracy: 0.9835 - val_loss: 0.9516 - val_accuracy: 0.8391\n",
            "Epoch 373/400\n",
            "2500/2500 [==============================] - 9s 4ms/step - loss: 0.0441 - accuracy: 0.9856 - val_loss: 1.0309 - val_accuracy: 0.8316\n",
            "Epoch 374/400\n",
            "2500/2500 [==============================] - 9s 4ms/step - loss: 0.0498 - accuracy: 0.9832 - val_loss: 0.9376 - val_accuracy: 0.8382\n",
            "Epoch 375/400\n",
            "2500/2500 [==============================] - 9s 4ms/step - loss: 0.0477 - accuracy: 0.9831 - val_loss: 0.9504 - val_accuracy: 0.8354\n",
            "Epoch 376/400\n",
            "2500/2500 [==============================] - 9s 4ms/step - loss: 0.0474 - accuracy: 0.9840 - val_loss: 0.8970 - val_accuracy: 0.8373\n",
            "Epoch 377/400\n",
            "2500/2500 [==============================] - 9s 4ms/step - loss: 0.0426 - accuracy: 0.9851 - val_loss: 0.9705 - val_accuracy: 0.8343\n",
            "Epoch 378/400\n",
            "2500/2500 [==============================] - 9s 4ms/step - loss: 0.0434 - accuracy: 0.9854 - val_loss: 0.9802 - val_accuracy: 0.8386\n",
            "Epoch 379/400\n",
            "2500/2500 [==============================] - 9s 4ms/step - loss: 0.0422 - accuracy: 0.9864 - val_loss: 1.0060 - val_accuracy: 0.8351\n",
            "Epoch 380/400\n",
            "2500/2500 [==============================] - 10s 4ms/step - loss: 0.0495 - accuracy: 0.9839 - val_loss: 0.9849 - val_accuracy: 0.8302\n",
            "Epoch 381/400\n",
            "2500/2500 [==============================] - 9s 4ms/step - loss: 0.0430 - accuracy: 0.9858 - val_loss: 0.9447 - val_accuracy: 0.8375\n",
            "Epoch 382/400\n",
            "2500/2500 [==============================] - 9s 4ms/step - loss: 0.0426 - accuracy: 0.9852 - val_loss: 0.9629 - val_accuracy: 0.8364\n",
            "Epoch 383/400\n",
            "2500/2500 [==============================] - 10s 4ms/step - loss: 0.0458 - accuracy: 0.9843 - val_loss: 0.9604 - val_accuracy: 0.8349\n",
            "Epoch 384/400\n",
            "2500/2500 [==============================] - 9s 4ms/step - loss: 0.0423 - accuracy: 0.9854 - val_loss: 0.9879 - val_accuracy: 0.8375\n",
            "Epoch 385/400\n",
            "2500/2500 [==============================] - 9s 4ms/step - loss: 0.0448 - accuracy: 0.9847 - val_loss: 0.9724 - val_accuracy: 0.8318\n",
            "Epoch 386/400\n",
            "2500/2500 [==============================] - 9s 4ms/step - loss: 0.0512 - accuracy: 0.9840 - val_loss: 0.9532 - val_accuracy: 0.8355\n",
            "Epoch 387/400\n",
            "2500/2500 [==============================] - 9s 4ms/step - loss: 0.0495 - accuracy: 0.9831 - val_loss: 0.9750 - val_accuracy: 0.8358\n",
            "Epoch 388/400\n",
            "2500/2500 [==============================] - 9s 4ms/step - loss: 0.0522 - accuracy: 0.9835 - val_loss: 0.9530 - val_accuracy: 0.8347\n",
            "Epoch 389/400\n",
            "2500/2500 [==============================] - 9s 4ms/step - loss: 0.0503 - accuracy: 0.9838 - val_loss: 0.9680 - val_accuracy: 0.8345\n",
            "Epoch 390/400\n",
            "2500/2500 [==============================] - 9s 4ms/step - loss: 0.0412 - accuracy: 0.9868 - val_loss: 0.9763 - val_accuracy: 0.8359\n",
            "Epoch 391/400\n",
            "2500/2500 [==============================] - 9s 4ms/step - loss: 0.0483 - accuracy: 0.9843 - val_loss: 0.9513 - val_accuracy: 0.8349\n",
            "Epoch 392/400\n",
            "2500/2500 [==============================] - 9s 4ms/step - loss: 0.0480 - accuracy: 0.9837 - val_loss: 0.9398 - val_accuracy: 0.8411\n",
            "Epoch 393/400\n",
            "2500/2500 [==============================] - 9s 4ms/step - loss: 0.0429 - accuracy: 0.9854 - val_loss: 1.0004 - val_accuracy: 0.8357\n",
            "Epoch 394/400\n",
            "2500/2500 [==============================] - 9s 4ms/step - loss: 0.0489 - accuracy: 0.9837 - val_loss: 0.9620 - val_accuracy: 0.8342\n",
            "Epoch 395/400\n",
            "2500/2500 [==============================] - 9s 4ms/step - loss: 0.0429 - accuracy: 0.9855 - val_loss: 0.9573 - val_accuracy: 0.8326\n",
            "Epoch 396/400\n",
            "2500/2500 [==============================] - 9s 4ms/step - loss: 0.0468 - accuracy: 0.9838 - val_loss: 0.9596 - val_accuracy: 0.8415\n",
            "Epoch 397/400\n",
            "2500/2500 [==============================] - 9s 4ms/step - loss: 0.0469 - accuracy: 0.9850 - val_loss: 0.9761 - val_accuracy: 0.8353\n",
            "Epoch 398/400\n",
            "2500/2500 [==============================] - 9s 4ms/step - loss: 0.0461 - accuracy: 0.9853 - val_loss: 1.0009 - val_accuracy: 0.8381\n",
            "Epoch 399/400\n",
            "2500/2500 [==============================] - 9s 4ms/step - loss: 0.0417 - accuracy: 0.9856 - val_loss: 0.9826 - val_accuracy: 0.8365\n",
            "Epoch 400/400\n",
            "2500/2500 [==============================] - 9s 4ms/step - loss: 0.0487 - accuracy: 0.9840 - val_loss: 0.9808 - val_accuracy: 0.8342\n"
          ],
          "name": "stdout"
        }
      ]
    },
    {
      "cell_type": "code",
      "metadata": {
        "colab": {
          "base_uri": "https://localhost:8080/",
          "height": 295
        },
        "id": "qo8Nk7AUhWgI",
        "outputId": "af81332e-610c-4deb-f216-609dbeabe52a"
      },
      "source": [
        " plt.plot(hist.history['loss'])\r\n",
        "plt.plot(hist.history['val_loss'])\r\n",
        "plt.title('Model loss')\r\n",
        "plt.ylabel('Loss')\r\n",
        "plt.xlabel('Epoch')\r\n",
        "plt.legend(['Train', 'Val'], loc='upper right')\r\n",
        "plt.show()"
      ],
      "execution_count": 64,
      "outputs": [
        {
          "output_type": "display_data",
          "data": {
            "image/png": "[encoded data removed]",
            "text/plain": [
              "<Figure size 432x288 with 1 Axes>"
            ]
          },
          "metadata": {
            "tags": [],
            "needs_background": "light"
          }
        }
      ]
    },
    {
      "cell_type": "code",
      "metadata": {
        "colab": {
          "base_uri": "https://localhost:8080/",
          "height": 295
        },
        "id": "WWKsg9ApiEaB",
        "outputId": "2fcc948d-1eb0-4318-87c9-df231a05e86a"
      },
      "source": [
        "plt.plot(hist.history['accuracy'])\r\n",
        "plt.plot(hist.history['val_accuracy'])\r\n",
        "plt.title('Model accuracy')\r\n",
        "plt.ylabel('Accuracy')\r\n",
        "plt.xlabel('Epoch')\r\n",
        "plt.legend(['Train', 'Val'], loc='lower right')\r\n",
        "plt.show()"
      ],
      "execution_count": 65,
      "outputs": [
        {
          "output_type": "display_data",
          "data": {
            "image/png": "[encoded data removed]",
            "text/plain": [
              "<Figure size 432x288 with 1 Axes>"
            ]
          },
          "metadata": {
            "tags": [],
            "needs_background": "light"
          }
        }
      ]
    },
    {
      "cell_type": "code",
      "metadata": {
        "colab": {
          "base_uri": "https://localhost:8080/"
        },
        "id": "LZrQag96iJMA",
        "outputId": "99a17425-b0da-4b76-d77f-e0b2202d0d25"
      },
      "source": [
        "model.evaluate(x_test, y_test_one_hot)[1]\r\n"
      ],
      "execution_count": null,
      "outputs": [
        {
          "output_type": "stream",
          "text": [
            "313/313 [==============================] - 1s 3ms/step - loss: 2.3026 - accuracy: 0.1000\n"
          ],
          "name": "stdout"
        },
        {
          "output_type": "execute_result",
          "data": {
            "text/plain": [
              "0.10000000149011612"
            ]
          },
          "metadata": {
            "tags": []
          },
          "execution_count": 31
        }
      ]
    },
    {
      "cell_type": "code",
      "metadata": {
        "id": "Cct6n1eTiSE_"
      },
      "source": [
        "model.save('my_cifar10_model.h5')"
      ],
      "execution_count": null,
      "outputs": []
    },
    {
      "cell_type": "code",
      "metadata": {
        "id": "Qdxak2lVicbf"
      },
      "source": [
        "from keras.models import load_model\r\n",
        "model = load_model('my_cifar10_model.h5')"
      ],
      "execution_count": null,
      "outputs": []
    },
    {
      "cell_type": "code",
      "metadata": {
        "id": "smXEBggIihd4"
      },
      "source": [
        "my_image = plt.imread(\"/content/drive/MyDrive/cat.jpg\")\r\n"
      ],
      "execution_count": null,
      "outputs": []
    },
    {
      "cell_type": "code",
      "metadata": {
        "colab": {
          "base_uri": "https://localhost:8080/",
          "height": 266
        },
        "id": "9EE90Mqsiql9",
        "outputId": "211c4886-e84f-4e3a-f56c-bfc8e7a0687b"
      },
      "source": [
        "from skimage.transform import resize\r\n",
        "\r\n",
        "my_image_resized = resize(my_image,(32,32,3))\r\n",
        "img = plt.imshow(my_image_resized)\r\n"
      ],
      "execution_count": null,
      "outputs": [
        {
          "output_type": "display_data",
          "data": {
            "image/png": "[encoded data removed]",
            "text/plain": [
              "<Figure size 432x288 with 1 Axes>"
            ]
          },
          "metadata": {
            "tags": []
          }
        }
      ]
    },
    {
      "cell_type": "code",
      "metadata": {
        "colab": {
          "base_uri": "https://localhost:8080/",
          "height": 299
        },
        "id": "3vWJg_nDjzra",
        "outputId": "397d6657-1b15-4328-85d2-a875eaaf57ce"
      },
      "source": [
        "from kerastuner.tuners import RandomSearch"
      ],
      "execution_count": null,
      "outputs": [
        {
          "output_type": "error",
          "ename": "ModuleNotFoundError",
          "evalue": "ignored",
          "traceback": [
            "\u001b[0;31m---------------------------------------------------------------------------\u001b[0m",
            "\u001b[0;31mModuleNotFoundError\u001b[0m                       Traceback (most recent call last)",
            "\u001b[0;32m<ipython-input-49-94471a811b41>\u001b[0m in \u001b[0;36m<module>\u001b[0;34m()\u001b[0m\n\u001b[0;32m----> 1\u001b[0;31m \u001b[0;32mfrom\u001b[0m \u001b[0mkerastuner\u001b[0m\u001b[0;34m.\u001b[0m\u001b[0mtuners\u001b[0m \u001b[0;32mimport\u001b[0m \u001b[0mRandomSearch\u001b[0m\u001b[0;34m\u001b[0m\u001b[0;34m\u001b[0m\u001b[0m\n\u001b[0m",
            "\u001b[0;31mModuleNotFoundError\u001b[0m: No module named 'kerastuner'",
            "",
            "\u001b[0;31m---------------------------------------------------------------------------\u001b[0;32m\nNOTE: If your import is failing due to a missing package, you can\nmanually install dependencies using either !pip or !apt.\n\nTo view examples of installing some common dependencies, click the\n\"Open Examples\" button below.\n\u001b[0;31m---------------------------------------------------------------------------\u001b[0m\n"
          ]
        }
      ]
    },
    {
      "cell_type": "code",
      "metadata": {
        "id": "9Woj1SOWj-16",
        "colab": {
          "base_uri": "https://localhost:8080/"
        },
        "outputId": "537600de-9898-4863-a188-e105be1bd504"
      },
      "source": [
        ""
      ],
      "execution_count": null,
      "outputs": [
        {
          "output_type": "stream",
          "text": [
            "\u001b[31mERROR: Could not find a version that satisfies the requirement kerastuner (from versions: none)\u001b[0m\n",
            "\u001b[31mERROR: No matching distribution found for kerastuner\u001b[0m\n"
          ],
          "name": "stdout"
        }
      ]
    },
    {
      "cell_type": "code",
      "metadata": {
        "colab": {
          "base_uri": "https://localhost:8080/",
          "height": 306
        },
        "id": "7N9RD19EWj6w",
        "outputId": "fe126593-9da5-4c6c-eded-cd95093df249"
      },
      "source": [
        ""
      ],
      "execution_count": null,
      "outputs": [
        {
          "output_type": "error",
          "ename": "ValueError",
          "evalue": "ignored",
          "traceback": [
            "\u001b[0;31m---------------------------------------------------------------------------\u001b[0m",
            "\u001b[0;31mValueError\u001b[0m                                Traceback (most recent call last)",
            "\u001b[0;32m<ipython-input-33-b6695ac8afe2>\u001b[0m in \u001b[0;36m<module>\u001b[0;34m()\u001b[0m\n\u001b[0;32m----> 1\u001b[0;31m \u001b[0maugmented_model\u001b[0m \u001b[0;34m=\u001b[0m \u001b[0mmodel\u001b[0m\u001b[0;34m(\u001b[0m\u001b[0;34m)\u001b[0m\u001b[0;34m\u001b[0m\u001b[0;34m\u001b[0m\u001b[0m\n\u001b[0m",
            "\u001b[0;32m/usr/local/lib/python3.6/dist-packages/tensorflow/python/keras/engine/base_layer.py\u001b[0m in \u001b[0;36m__call__\u001b[0;34m(self, *args, **kwargs)\u001b[0m\n\u001b[1;32m    940\u001b[0m     \u001b[0;31m#   not to any other argument.\u001b[0m\u001b[0;34m\u001b[0m\u001b[0;34m\u001b[0m\u001b[0;34m\u001b[0m\u001b[0m\n\u001b[1;32m    941\u001b[0m     \u001b[0;31m# - setting the SavedModel saving spec.\u001b[0m\u001b[0;34m\u001b[0m\u001b[0;34m\u001b[0m\u001b[0;34m\u001b[0m\u001b[0m\n\u001b[0;32m--> 942\u001b[0;31m     \u001b[0minputs\u001b[0m\u001b[0;34m,\u001b[0m \u001b[0margs\u001b[0m\u001b[0;34m,\u001b[0m \u001b[0mkwargs\u001b[0m \u001b[0;34m=\u001b[0m \u001b[0mself\u001b[0m\u001b[0;34m.\u001b[0m\u001b[0m_split_out_first_arg\u001b[0m\u001b[0;34m(\u001b[0m\u001b[0margs\u001b[0m\u001b[0;34m,\u001b[0m \u001b[0mkwargs\u001b[0m\u001b[0;34m)\u001b[0m\u001b[0;34m\u001b[0m\u001b[0;34m\u001b[0m\u001b[0m\n\u001b[0m\u001b[1;32m    943\u001b[0m     \u001b[0minput_list\u001b[0m \u001b[0;34m=\u001b[0m \u001b[0mnest\u001b[0m\u001b[0;34m.\u001b[0m\u001b[0mflatten\u001b[0m\u001b[0;34m(\u001b[0m\u001b[0minputs\u001b[0m\u001b[0;34m)\u001b[0m\u001b[0;34m\u001b[0m\u001b[0;34m\u001b[0m\u001b[0m\n\u001b[1;32m    944\u001b[0m \u001b[0;34m\u001b[0m\u001b[0m\n",
            "\u001b[0;32m/usr/local/lib/python3.6/dist-packages/tensorflow/python/keras/engine/base_layer.py\u001b[0m in \u001b[0;36m_split_out_first_arg\u001b[0;34m(self, args, kwargs)\u001b[0m\n\u001b[1;32m   3046\u001b[0m     \u001b[0;32melse\u001b[0m\u001b[0;34m:\u001b[0m\u001b[0;34m\u001b[0m\u001b[0;34m\u001b[0m\u001b[0m\n\u001b[1;32m   3047\u001b[0m       raise ValueError(\n\u001b[0;32m-> 3048\u001b[0;31m           'The first argument to `Layer.call` must always be passed.')\n\u001b[0m\u001b[1;32m   3049\u001b[0m     \u001b[0;32mreturn\u001b[0m \u001b[0minputs\u001b[0m\u001b[0;34m,\u001b[0m \u001b[0margs\u001b[0m\u001b[0;34m,\u001b[0m \u001b[0mkwargs\u001b[0m\u001b[0;34m\u001b[0m\u001b[0;34m\u001b[0m\u001b[0m\n\u001b[1;32m   3050\u001b[0m \u001b[0;34m\u001b[0m\u001b[0m\n",
            "\u001b[0;31mValueError\u001b[0m: The first argument to `Layer.call` must always be passed."
          ]
        }
      ]
    },
    {
      "cell_type": "code",
      "metadata": {
        "id": "9chTYLCeXFNx"
      },
      "source": [
        ""
      ],
      "execution_count": null,
      "outputs": []
    }
  ]
}