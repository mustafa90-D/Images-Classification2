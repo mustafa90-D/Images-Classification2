{
  "nbformat": 4,
  "nbformat_minor": 0,
  "metadata": {
    "accelerator": "GPU",
    "colab": {
      "name": "CNNMultiImage_DetectionVGG163blocksDropoout.ipynb",
      "provenance": [],
      "collapsed_sections": []
    },
    "kernelspec": {
      "display_name": "Python 3",
      "name": "python3"
    }
  },
  "cells": [
    {
      "cell_type": "code",
      "metadata": {
        "id": "cFdMDx39Q5b3",
        "colab": {
          "base_uri": "https://localhost:8080/"
        },
        "outputId": "779ce38b-0f2a-4cd8-d855-0570dc36b83a"
      },
      "source": [
        "from keras.datasets import cifar10\n",
        "(x_train, y_train), (x_test, y_test) = cifar10.load_data()"
      ],
      "execution_count": null,
      "outputs": [
        {
          "output_type": "stream",
          "text": [
            "Downloading data from https://www.cs.toronto.edu/~kriz/cifar-10-python.tar.gz\n",
            "170500096/170498071 [==============================] - 4s 0us/step\n"
          ],
          "name": "stdout"
        }
      ]
    },
    {
      "cell_type": "code",
      "metadata": {
        "id": "v8soqLa-SzY3"
      },
      "source": [
        "from keras.datasets import cifar10\n",
        "(x_train, y_train), (x_test, y_test) = cifar10.load_data()"
      ],
      "execution_count": null,
      "outputs": []
    },
    {
      "cell_type": "code",
      "metadata": {
        "colab": {
          "base_uri": "https://localhost:8080/"
        },
        "id": "F2Zbk-Pcrtmr",
        "outputId": "75892ad2-6764-4e64-98e0-1101cddbf50b"
      },
      "source": [
        "print('x_train shape:', x_train.shape)"
      ],
      "execution_count": null,
      "outputs": [
        {
          "output_type": "stream",
          "text": [
            "x_train shape: (50000, 32, 32, 3)\n"
          ],
          "name": "stdout"
        }
      ]
    },
    {
      "cell_type": "code",
      "metadata": {
        "colab": {
          "base_uri": "https://localhost:8080/"
        },
        "id": "4S6r9OOArvdQ",
        "outputId": "5c101790-4b00-4d84-9cdc-34eddd3c2a07"
      },
      "source": [
        "print('y_train shape:', y_train.shape)\n"
      ],
      "execution_count": null,
      "outputs": [
        {
          "output_type": "stream",
          "text": [
            "y_train shape: (50000, 1)\n"
          ],
          "name": "stdout"
        }
      ]
    },
    {
      "cell_type": "code",
      "metadata": {
        "colab": {
          "base_uri": "https://localhost:8080/"
        },
        "id": "QJjTVJzZr7lQ",
        "outputId": "9510f283-e86b-47bb-acde-ae088f6edb55"
      },
      "source": [
        "print(x_train[0])"
      ],
      "execution_count": null,
      "outputs": [
        {
          "output_type": "stream",
          "text": [
            "[[[ 59  62  63]\n",
            "  [ 43  46  45]\n",
            "  [ 50  48  43]\n",
            "  ...\n",
            "  [158 132 108]\n",
            "  [152 125 102]\n",
            "  [148 124 103]]\n",
            "\n",
            " [[ 16  20  20]\n",
            "  [  0   0   0]\n",
            "  [ 18   8   0]\n",
            "  ...\n",
            "  [123  88  55]\n",
            "  [119  83  50]\n",
            "  [122  87  57]]\n",
            "\n",
            " [[ 25  24  21]\n",
            "  [ 16   7   0]\n",
            "  [ 49  27   8]\n",
            "  ...\n",
            "  [118  84  50]\n",
            "  [120  84  50]\n",
            "  [109  73  42]]\n",
            "\n",
            " ...\n",
            "\n",
            " [[208 170  96]\n",
            "  [201 153  34]\n",
            "  [198 161  26]\n",
            "  ...\n",
            "  [160 133  70]\n",
            "  [ 56  31   7]\n",
            "  [ 53  34  20]]\n",
            "\n",
            " [[180 139  96]\n",
            "  [173 123  42]\n",
            "  [186 144  30]\n",
            "  ...\n",
            "  [184 148  94]\n",
            "  [ 97  62  34]\n",
            "  [ 83  53  34]]\n",
            "\n",
            " [[177 144 116]\n",
            "  [168 129  94]\n",
            "  [179 142  87]\n",
            "  ...\n",
            "  [216 184 140]\n",
            "  [151 118  84]\n",
            "  [123  92  72]]]\n"
          ],
          "name": "stdout"
        }
      ]
    },
    {
      "cell_type": "code",
      "metadata": {
        "colab": {
          "base_uri": "https://localhost:8080/",
          "height": 266
        },
        "id": "MbUrrNcfr-bq",
        "outputId": "9e3ed571-53a0-4c45-aa2c-341fd21344a9"
      },
      "source": [
        "import matplotlib.pyplot as plt\n",
        "%matplotlib inline\n",
        "img = plt.imshow(x_train[0])"
      ],
      "execution_count": null,
      "outputs": [
        {
          "output_type": "display_data",
          "data": {
            "image/png": "[encoded data removed]",
            "text/plain": [
              "<Figure size 432x288 with 1 Axes>"
            ]
          },
          "metadata": {
            "tags": [],
            "needs_background": "light"
          }
        }
      ]
    },
    {
      "cell_type": "code",
      "metadata": {
        "colab": {
          "base_uri": "https://localhost:8080/"
        },
        "id": "8HZ02iDvsOqW",
        "outputId": "a08328cb-4012-4277-84ac-f0c5b3698c69"
      },
      "source": [
        "print('The label is:', y_train[0])"
      ],
      "execution_count": null,
      "outputs": [
        {
          "output_type": "stream",
          "text": [
            "The label is: [6]\n"
          ],
          "name": "stdout"
        }
      ]
    },
    {
      "cell_type": "code",
      "metadata": {
        "colab": {
          "base_uri": "https://localhost:8080/",
          "height": 266
        },
        "id": "Tr8Ofjz2slst",
        "outputId": "a2014d97-f6da-4410-f387-5b1661aaec0e"
      },
      "source": [
        "img = plt.imshow(x_train[1])\n"
      ],
      "execution_count": null,
      "outputs": [
        {
          "output_type": "display_data",
          "data": {
            "image/png": "[encoded data removed]",
            "text/plain": [
              "<Figure size 432x288 with 1 Axes>"
            ]
          },
          "metadata": {
            "tags": [],
            "needs_background": "light"
          }
        }
      ]
    },
    {
      "cell_type": "code",
      "metadata": {
        "id": "eIl7HqppsyeZ"
      },
      "source": [
        "import keras\n",
        "y_train_one_hot = keras.utils.to_categorical(y_train, 10)\n",
        "y_test_one_hot = keras.utils.to_categorical(y_test, 10)"
      ],
      "execution_count": null,
      "outputs": []
    },
    {
      "cell_type": "code",
      "metadata": {
        "colab": {
          "base_uri": "https://localhost:8080/"
        },
        "id": "lfnx5_hRXhL-",
        "outputId": "2ff650bf-8f35-4fbf-ad1e-8341dfa887c9"
      },
      "source": [
        "print('The one hot label is:', y_train_one_hot[1])\n"
      ],
      "execution_count": null,
      "outputs": [
        {
          "output_type": "stream",
          "text": [
            "The one hot label is: [0. 0. 0. 0. 0. 0. 0. 0. 0. 1.]\n"
          ],
          "name": "stdout"
        }
      ]
    },
    {
      "cell_type": "code",
      "metadata": {
        "id": "xtGzNto4YwU5"
      },
      "source": [
        "x_train = x_train.astype('float32')\n",
        "x_test = x_test.astype('float32')\n",
        "x_train = x_train / 255\n",
        "x_test = x_test / 255"
      ],
      "execution_count": null,
      "outputs": []
    },
    {
      "cell_type": "code",
      "metadata": {
        "colab": {
          "base_uri": "https://localhost:8080/"
        },
        "id": "MtVE_WipZ7xH",
        "outputId": "07000687-b433-4558-ec03-28b5fd807607"
      },
      "source": [
        "x_train[0]\n"
      ],
      "execution_count": null,
      "outputs": [
        {
          "output_type": "execute_result",
          "data": {
            "text/plain": [
              "array([[[0.23137255, 0.24313726, 0.24705882],\n",
              "        [0.16862746, 0.18039216, 0.1764706 ],\n",
              "        [0.19607843, 0.1882353 , 0.16862746],\n",
              "        ...,\n",
              "        [0.61960787, 0.5176471 , 0.42352942],\n",
              "        [0.59607846, 0.49019608, 0.4       ],\n",
              "        [0.5803922 , 0.4862745 , 0.40392157]],\n",
              "\n",
              "       [[0.0627451 , 0.07843138, 0.07843138],\n",
              "        [0.        , 0.        , 0.        ],\n",
              "        [0.07058824, 0.03137255, 0.        ],\n",
              "        ...,\n",
              "        [0.48235294, 0.34509805, 0.21568628],\n",
              "        [0.46666667, 0.3254902 , 0.19607843],\n",
              "        [0.47843137, 0.34117648, 0.22352941]],\n",
              "\n",
              "       [[0.09803922, 0.09411765, 0.08235294],\n",
              "        [0.0627451 , 0.02745098, 0.        ],\n",
              "        [0.19215687, 0.10588235, 0.03137255],\n",
              "        ...,\n",
              "        [0.4627451 , 0.32941177, 0.19607843],\n",
              "        [0.47058824, 0.32941177, 0.19607843],\n",
              "        [0.42745098, 0.28627452, 0.16470589]],\n",
              "\n",
              "       ...,\n",
              "\n",
              "       [[0.8156863 , 0.6666667 , 0.3764706 ],\n",
              "        [0.7882353 , 0.6       , 0.13333334],\n",
              "        [0.7764706 , 0.6313726 , 0.10196079],\n",
              "        ...,\n",
              "        [0.627451  , 0.52156866, 0.27450982],\n",
              "        [0.21960784, 0.12156863, 0.02745098],\n",
              "        [0.20784314, 0.13333334, 0.07843138]],\n",
              "\n",
              "       [[0.7058824 , 0.54509807, 0.3764706 ],\n",
              "        [0.6784314 , 0.48235294, 0.16470589],\n",
              "        [0.7294118 , 0.5647059 , 0.11764706],\n",
              "        ...,\n",
              "        [0.72156864, 0.5803922 , 0.36862746],\n",
              "        [0.38039216, 0.24313726, 0.13333334],\n",
              "        [0.3254902 , 0.20784314, 0.13333334]],\n",
              "\n",
              "       [[0.69411767, 0.5647059 , 0.45490196],\n",
              "        [0.65882355, 0.5058824 , 0.36862746],\n",
              "        [0.7019608 , 0.5568628 , 0.34117648],\n",
              "        ...,\n",
              "        [0.84705883, 0.72156864, 0.54901963],\n",
              "        [0.5921569 , 0.4627451 , 0.32941177],\n",
              "        [0.48235294, 0.36078432, 0.28235295]]], dtype=float32)"
            ]
          },
          "metadata": {
            "tags": []
          },
          "execution_count": 12
        }
      ]
    },
    {
      "cell_type": "code",
      "metadata": {
        "id": "WDZWYv6eaFfB"
      },
      "source": [
        "from keras.models import Sequential\n",
        "from keras.layers import Dense, Dropout, Flatten, Conv2D, MaxPooling2D\n",
        "from keras.optimizers import SGD\n"
      ],
      "execution_count": null,
      "outputs": []
    },
    {
      "cell_type": "code",
      "metadata": {
        "id": "U7kLbj7Ha91D"
      },
      "source": [
        "# example of a 3-block vgg style architecture\n",
        "model = Sequential()\n",
        "model.add(Conv2D(32, (3, 3), activation='relu', kernel_initializer='he_uniform', padding='same', input_shape=(32, 32, 3)))\n",
        "model.add(Conv2D(32, (3, 3), activation='relu', kernel_initializer='he_uniform', padding='same'))\n",
        "model.add(MaxPooling2D((2, 2)))\n",
        "model.add(Dropout(0.2))\n",
        "model.add(Conv2D(64, (3, 3), activation='relu', kernel_initializer='he_uniform', padding='same'))\n",
        "model.add(Conv2D(64, (3, 3), activation='relu', kernel_initializer='he_uniform', padding='same'))\n",
        "model.add(MaxPooling2D((2, 2)))\n",
        "model.add(Dropout(0.2))\n",
        "model.add(Conv2D(128, (3, 3), activation='relu', kernel_initializer='he_uniform', padding='same'))\n",
        "model.add(Conv2D(128, (3, 3), activation='relu', kernel_initializer='he_uniform', padding='same'))\n",
        "model.add(MaxPooling2D((2, 2)))\n",
        "model.add(Dropout(0.2))\n",
        "model.add(Flatten())\n",
        "model.add(Dense(128, activation='relu', kernel_initializer='he_uniform'))\n",
        "model.add(Dropout(0.2))\n",
        "model.add(Dense(10, activation='softmax'))"
      ],
      "execution_count": null,
      "outputs": []
    },
    {
      "cell_type": "code",
      "metadata": {
        "id": "Ay5hGkrlbAiO"
      },
      "source": [
        "\n",
        "# example output part of the model\n"
      ],
      "execution_count": null,
      "outputs": []
    },
    {
      "cell_type": "code",
      "metadata": {
        "id": "DI1oCVqtbCc4"
      },
      "source": [
        "# compile model\n",
        "opt = SGD(lr=0.001, momentum=0.9)\n",
        "model.compile(optimizer=opt, loss='categorical_crossentropy', metrics=['accuracy'])"
      ],
      "execution_count": null,
      "outputs": []
    },
    {
      "cell_type": "code",
      "metadata": {
        "id": "83DNsXSHgwAQ"
      },
      "source": [
        ""
      ],
      "execution_count": null,
      "outputs": []
    },
    {
      "cell_type": "code",
      "metadata": {
        "colab": {
          "base_uri": "https://localhost:8080/"
        },
        "id": "Ykakcx9Cg93_",
        "outputId": "07740bf0-1480-40f6-8f2a-2cc23c364273"
      },
      "source": [
        "hist = model.fit(x_train, y_train_one_hot, batch_size=16, epochs=500, validation_split=0.2)"
      ],
      "execution_count": null,
      "outputs": [
        {
          "output_type": "stream",
          "text": [
            "Epoch 1/500\n",
            "2500/2500 [==============================] - 18s 4ms/step - loss: 2.1737 - accuracy: 0.2019 - val_loss: 1.6625 - val_accuracy: 0.4139\n",
            "Epoch 2/500\n",
            "2500/2500 [==============================] - 10s 4ms/step - loss: 1.6178 - accuracy: 0.4069 - val_loss: 1.3655 - val_accuracy: 0.5053\n",
            "Epoch 3/500\n",
            "2500/2500 [==============================] - 10s 4ms/step - loss: 1.4038 - accuracy: 0.4888 - val_loss: 1.2288 - val_accuracy: 0.5542\n",
            "Epoch 4/500\n",
            "2500/2500 [==============================] - 10s 4ms/step - loss: 1.2823 - accuracy: 0.5388 - val_loss: 1.1399 - val_accuracy: 0.5837\n",
            "Epoch 5/500\n",
            "2500/2500 [==============================] - 10s 4ms/step - loss: 1.1651 - accuracy: 0.5814 - val_loss: 1.0287 - val_accuracy: 0.6301\n",
            "Epoch 6/500\n",
            "2500/2500 [==============================] - 10s 4ms/step - loss: 1.0705 - accuracy: 0.6138 - val_loss: 0.9621 - val_accuracy: 0.6597\n",
            "Epoch 7/500\n",
            "2500/2500 [==============================] - 10s 4ms/step - loss: 0.9850 - accuracy: 0.6492 - val_loss: 0.9836 - val_accuracy: 0.6518\n",
            "Epoch 8/500\n",
            "2500/2500 [==============================] - 10s 4ms/step - loss: 0.9385 - accuracy: 0.6673 - val_loss: 0.8523 - val_accuracy: 0.6997\n",
            "Epoch 9/500\n",
            "2500/2500 [==============================] - 10s 4ms/step - loss: 0.8817 - accuracy: 0.6919 - val_loss: 0.8273 - val_accuracy: 0.7111\n",
            "Epoch 10/500\n",
            "2500/2500 [==============================] - 10s 4ms/step - loss: 0.8203 - accuracy: 0.7113 - val_loss: 0.7761 - val_accuracy: 0.7246\n",
            "Epoch 11/500\n",
            "2500/2500 [==============================] - 10s 4ms/step - loss: 0.7978 - accuracy: 0.7184 - val_loss: 0.7395 - val_accuracy: 0.7423\n",
            "Epoch 12/500\n",
            "2500/2500 [==============================] - 10s 4ms/step - loss: 0.7479 - accuracy: 0.7342 - val_loss: 0.7381 - val_accuracy: 0.7443\n",
            "Epoch 13/500\n",
            "2500/2500 [==============================] - 10s 4ms/step - loss: 0.7265 - accuracy: 0.7439 - val_loss: 0.7516 - val_accuracy: 0.7434\n",
            "Epoch 14/500\n",
            "2500/2500 [==============================] - 10s 4ms/step - loss: 0.6853 - accuracy: 0.7579 - val_loss: 0.6742 - val_accuracy: 0.7682\n",
            "Epoch 15/500\n",
            "2500/2500 [==============================] - 10s 4ms/step - loss: 0.6583 - accuracy: 0.7645 - val_loss: 0.6661 - val_accuracy: 0.7715\n",
            "Epoch 16/500\n",
            "2500/2500 [==============================] - 10s 4ms/step - loss: 0.6344 - accuracy: 0.7744 - val_loss: 0.6833 - val_accuracy: 0.7646\n",
            "Epoch 17/500\n",
            "2500/2500 [==============================] - 10s 4ms/step - loss: 0.6206 - accuracy: 0.7798 - val_loss: 0.6526 - val_accuracy: 0.7828\n",
            "Epoch 18/500\n",
            "2500/2500 [==============================] - 10s 4ms/step - loss: 0.5868 - accuracy: 0.7939 - val_loss: 0.6145 - val_accuracy: 0.7898\n",
            "Epoch 19/500\n",
            "2500/2500 [==============================] - 10s 4ms/step - loss: 0.5697 - accuracy: 0.7968 - val_loss: 0.6113 - val_accuracy: 0.7959\n",
            "Epoch 20/500\n",
            "2500/2500 [==============================] - 10s 4ms/step - loss: 0.5459 - accuracy: 0.8079 - val_loss: 0.5881 - val_accuracy: 0.8016\n",
            "Epoch 21/500\n",
            "2500/2500 [==============================] - 10s 4ms/step - loss: 0.5279 - accuracy: 0.8087 - val_loss: 0.5897 - val_accuracy: 0.7983\n",
            "Epoch 22/500\n",
            "2500/2500 [==============================] - 11s 4ms/step - loss: 0.5076 - accuracy: 0.8217 - val_loss: 0.5930 - val_accuracy: 0.7991\n",
            "Epoch 23/500\n",
            "2500/2500 [==============================] - 10s 4ms/step - loss: 0.4914 - accuracy: 0.8262 - val_loss: 0.6100 - val_accuracy: 0.7970\n",
            "Epoch 24/500\n",
            "2500/2500 [==============================] - 10s 4ms/step - loss: 0.4752 - accuracy: 0.8306 - val_loss: 0.6535 - val_accuracy: 0.7847\n",
            "Epoch 25/500\n",
            "2500/2500 [==============================] - 11s 4ms/step - loss: 0.4631 - accuracy: 0.8329 - val_loss: 0.5991 - val_accuracy: 0.8030\n",
            "Epoch 26/500\n",
            "2500/2500 [==============================] - 10s 4ms/step - loss: 0.4484 - accuracy: 0.8409 - val_loss: 0.6286 - val_accuracy: 0.7960\n",
            "Epoch 27/500\n",
            "2500/2500 [==============================] - 10s 4ms/step - loss: 0.4319 - accuracy: 0.8446 - val_loss: 0.5803 - val_accuracy: 0.8068\n",
            "Epoch 28/500\n",
            "2500/2500 [==============================] - 10s 4ms/step - loss: 0.4286 - accuracy: 0.8471 - val_loss: 0.5697 - val_accuracy: 0.8107\n",
            "Epoch 29/500\n",
            "2500/2500 [==============================] - 10s 4ms/step - loss: 0.3943 - accuracy: 0.8592 - val_loss: 0.5905 - val_accuracy: 0.8055\n",
            "Epoch 30/500\n",
            "2500/2500 [==============================] - 10s 4ms/step - loss: 0.4091 - accuracy: 0.8524 - val_loss: 0.5947 - val_accuracy: 0.8073\n",
            "Epoch 31/500\n",
            "2500/2500 [==============================] - 11s 4ms/step - loss: 0.3843 - accuracy: 0.8610 - val_loss: 0.5802 - val_accuracy: 0.8125\n",
            "Epoch 32/500\n",
            "2500/2500 [==============================] - 9s 4ms/step - loss: 0.3729 - accuracy: 0.8651 - val_loss: 0.5887 - val_accuracy: 0.8098\n",
            "Epoch 33/500\n",
            "2500/2500 [==============================] - 10s 4ms/step - loss: 0.3661 - accuracy: 0.8690 - val_loss: 0.5993 - val_accuracy: 0.8056\n",
            "Epoch 34/500\n",
            "2500/2500 [==============================] - 10s 4ms/step - loss: 0.3503 - accuracy: 0.8721 - val_loss: 0.5968 - val_accuracy: 0.8121\n",
            "Epoch 35/500\n",
            "2500/2500 [==============================] - 10s 4ms/step - loss: 0.3433 - accuracy: 0.8768 - val_loss: 0.5846 - val_accuracy: 0.8208\n",
            "Epoch 36/500\n",
            "2500/2500 [==============================] - 10s 4ms/step - loss: 0.3369 - accuracy: 0.8793 - val_loss: 0.6088 - val_accuracy: 0.8100\n",
            "Epoch 37/500\n",
            "2500/2500 [==============================] - 10s 4ms/step - loss: 0.3297 - accuracy: 0.8817 - val_loss: 0.5948 - val_accuracy: 0.8178\n",
            "Epoch 38/500\n",
            "2500/2500 [==============================] - 10s 4ms/step - loss: 0.3109 - accuracy: 0.8867 - val_loss: 0.5952 - val_accuracy: 0.8198\n",
            "Epoch 39/500\n",
            "2500/2500 [==============================] - 10s 4ms/step - loss: 0.3098 - accuracy: 0.8879 - val_loss: 0.6027 - val_accuracy: 0.8193\n",
            "Epoch 40/500\n",
            "2500/2500 [==============================] - 10s 4ms/step - loss: 0.3028 - accuracy: 0.8909 - val_loss: 0.6029 - val_accuracy: 0.8145\n",
            "Epoch 41/500\n",
            "2500/2500 [==============================] - 10s 4ms/step - loss: 0.2871 - accuracy: 0.8970 - val_loss: 0.6164 - val_accuracy: 0.8157\n",
            "Epoch 42/500\n",
            "2500/2500 [==============================] - 10s 4ms/step - loss: 0.2855 - accuracy: 0.8971 - val_loss: 0.6137 - val_accuracy: 0.8206\n",
            "Epoch 43/500\n",
            "2500/2500 [==============================] - 10s 4ms/step - loss: 0.2808 - accuracy: 0.8996 - val_loss: 0.5987 - val_accuracy: 0.8231\n",
            "Epoch 44/500\n",
            "2500/2500 [==============================] - 10s 4ms/step - loss: 0.2716 - accuracy: 0.9015 - val_loss: 0.6332 - val_accuracy: 0.8180\n",
            "Epoch 45/500\n",
            "2500/2500 [==============================] - 10s 4ms/step - loss: 0.2698 - accuracy: 0.9038 - val_loss: 0.6318 - val_accuracy: 0.8190\n",
            "Epoch 46/500\n",
            "2500/2500 [==============================] - 10s 4ms/step - loss: 0.2702 - accuracy: 0.9039 - val_loss: 0.6506 - val_accuracy: 0.8144\n",
            "Epoch 47/500\n",
            "2500/2500 [==============================] - 10s 4ms/step - loss: 0.2609 - accuracy: 0.9064 - val_loss: 0.6219 - val_accuracy: 0.8184\n",
            "Epoch 48/500\n",
            "2500/2500 [==============================] - 10s 4ms/step - loss: 0.2434 - accuracy: 0.9128 - val_loss: 0.6614 - val_accuracy: 0.8123\n",
            "Epoch 49/500\n",
            "2500/2500 [==============================] - 9s 4ms/step - loss: 0.2492 - accuracy: 0.9110 - val_loss: 0.6364 - val_accuracy: 0.8167\n",
            "Epoch 50/500\n",
            "2500/2500 [==============================] - 10s 4ms/step - loss: 0.2457 - accuracy: 0.9122 - val_loss: 0.6582 - val_accuracy: 0.8158\n",
            "Epoch 51/500\n",
            "2500/2500 [==============================] - 10s 4ms/step - loss: 0.2341 - accuracy: 0.9145 - val_loss: 0.6513 - val_accuracy: 0.8191\n",
            "Epoch 52/500\n",
            "2500/2500 [==============================] - 10s 4ms/step - loss: 0.2291 - accuracy: 0.9171 - val_loss: 0.6244 - val_accuracy: 0.8244\n",
            "Epoch 53/500\n",
            "2500/2500 [==============================] - 10s 4ms/step - loss: 0.2316 - accuracy: 0.9183 - val_loss: 0.6524 - val_accuracy: 0.8268\n",
            "Epoch 54/500\n",
            "2500/2500 [==============================] - 10s 4ms/step - loss: 0.2075 - accuracy: 0.9263 - val_loss: 0.6518 - val_accuracy: 0.8207\n",
            "Epoch 55/500\n",
            "2500/2500 [==============================] - 10s 4ms/step - loss: 0.2203 - accuracy: 0.9218 - val_loss: 0.6412 - val_accuracy: 0.8251\n",
            "Epoch 56/500\n",
            "2500/2500 [==============================] - 10s 4ms/step - loss: 0.2100 - accuracy: 0.9243 - val_loss: 0.6707 - val_accuracy: 0.8152\n",
            "Epoch 57/500\n",
            "2500/2500 [==============================] - 10s 4ms/step - loss: 0.2038 - accuracy: 0.9283 - val_loss: 0.6465 - val_accuracy: 0.8245\n",
            "Epoch 58/500\n",
            "2500/2500 [==============================] - 10s 4ms/step - loss: 0.1987 - accuracy: 0.9285 - val_loss: 0.6544 - val_accuracy: 0.8221\n",
            "Epoch 59/500\n",
            "2500/2500 [==============================] - 10s 4ms/step - loss: 0.1945 - accuracy: 0.9312 - val_loss: 0.6652 - val_accuracy: 0.8205\n",
            "Epoch 60/500\n",
            "2500/2500 [==============================] - 10s 4ms/step - loss: 0.2079 - accuracy: 0.9260 - val_loss: 0.6472 - val_accuracy: 0.8244\n",
            "Epoch 61/500\n",
            "2500/2500 [==============================] - 10s 4ms/step - loss: 0.1922 - accuracy: 0.9314 - val_loss: 0.6654 - val_accuracy: 0.8244\n",
            "Epoch 62/500\n",
            "2500/2500 [==============================] - 10s 4ms/step - loss: 0.1906 - accuracy: 0.9316 - val_loss: 0.6574 - val_accuracy: 0.8230\n",
            "Epoch 63/500\n",
            "2500/2500 [==============================] - 10s 4ms/step - loss: 0.1901 - accuracy: 0.9315 - val_loss: 0.6706 - val_accuracy: 0.8263\n",
            "Epoch 64/500\n",
            "2500/2500 [==============================] - 10s 4ms/step - loss: 0.1914 - accuracy: 0.9324 - val_loss: 0.6677 - val_accuracy: 0.8256\n",
            "Epoch 65/500\n",
            "2500/2500 [==============================] - 10s 4ms/step - loss: 0.1843 - accuracy: 0.9336 - val_loss: 0.6471 - val_accuracy: 0.8257\n",
            "Epoch 66/500\n",
            "2500/2500 [==============================] - 10s 4ms/step - loss: 0.1754 - accuracy: 0.9373 - val_loss: 0.6952 - val_accuracy: 0.8203\n",
            "Epoch 67/500\n",
            "2500/2500 [==============================] - 10s 4ms/step - loss: 0.1877 - accuracy: 0.9337 - val_loss: 0.6942 - val_accuracy: 0.8251\n",
            "Epoch 68/500\n",
            "2500/2500 [==============================] - 10s 4ms/step - loss: 0.1745 - accuracy: 0.9362 - val_loss: 0.6877 - val_accuracy: 0.8267\n",
            "Epoch 69/500\n",
            "2500/2500 [==============================] - 10s 4ms/step - loss: 0.1779 - accuracy: 0.9350 - val_loss: 0.7053 - val_accuracy: 0.8233\n",
            "Epoch 70/500\n",
            "2500/2500 [==============================] - 10s 4ms/step - loss: 0.1697 - accuracy: 0.9405 - val_loss: 0.6960 - val_accuracy: 0.8283\n",
            "Epoch 71/500\n",
            "2500/2500 [==============================] - 10s 4ms/step - loss: 0.1695 - accuracy: 0.9398 - val_loss: 0.6825 - val_accuracy: 0.8238\n",
            "Epoch 72/500\n",
            "2500/2500 [==============================] - 11s 4ms/step - loss: 0.1775 - accuracy: 0.9397 - val_loss: 0.7309 - val_accuracy: 0.8266\n",
            "Epoch 73/500\n",
            "2500/2500 [==============================] - 10s 4ms/step - loss: 0.1739 - accuracy: 0.9374 - val_loss: 0.7060 - val_accuracy: 0.8227\n",
            "Epoch 74/500\n",
            "2500/2500 [==============================] - 10s 4ms/step - loss: 0.1654 - accuracy: 0.9425 - val_loss: 0.7056 - val_accuracy: 0.8250\n",
            "Epoch 75/500\n",
            "2500/2500 [==============================] - 9s 4ms/step - loss: 0.1643 - accuracy: 0.9420 - val_loss: 0.7195 - val_accuracy: 0.8243\n",
            "Epoch 76/500\n",
            "2500/2500 [==============================] - 10s 4ms/step - loss: 0.1504 - accuracy: 0.9473 - val_loss: 0.7231 - val_accuracy: 0.8162\n",
            "Epoch 77/500\n",
            "2500/2500 [==============================] - 10s 4ms/step - loss: 0.1515 - accuracy: 0.9470 - val_loss: 0.7520 - val_accuracy: 0.8189\n",
            "Epoch 78/500\n",
            "2500/2500 [==============================] - 10s 4ms/step - loss: 0.1563 - accuracy: 0.9450 - val_loss: 0.7081 - val_accuracy: 0.8254\n",
            "Epoch 79/500\n",
            "2500/2500 [==============================] - 10s 4ms/step - loss: 0.1607 - accuracy: 0.9454 - val_loss: 0.7143 - val_accuracy: 0.8250\n",
            "Epoch 80/500\n",
            "2500/2500 [==============================] - 11s 4ms/step - loss: 0.1544 - accuracy: 0.9461 - val_loss: 0.7150 - val_accuracy: 0.8243\n",
            "Epoch 81/500\n",
            "2500/2500 [==============================] - 11s 4ms/step - loss: 0.1493 - accuracy: 0.9484 - val_loss: 0.7138 - val_accuracy: 0.8281\n",
            "Epoch 82/500\n",
            "2500/2500 [==============================] - 10s 4ms/step - loss: 0.1477 - accuracy: 0.9498 - val_loss: 0.7429 - val_accuracy: 0.8240\n",
            "Epoch 83/500\n",
            "2500/2500 [==============================] - 10s 4ms/step - loss: 0.1425 - accuracy: 0.9488 - val_loss: 0.7003 - val_accuracy: 0.8310\n",
            "Epoch 84/500\n",
            "2500/2500 [==============================] - 10s 4ms/step - loss: 0.1411 - accuracy: 0.9507 - val_loss: 0.7442 - val_accuracy: 0.8270\n",
            "Epoch 85/500\n",
            "2500/2500 [==============================] - 10s 4ms/step - loss: 0.1411 - accuracy: 0.9506 - val_loss: 0.7183 - val_accuracy: 0.8285\n",
            "Epoch 86/500\n",
            "2500/2500 [==============================] - 10s 4ms/step - loss: 0.1336 - accuracy: 0.9555 - val_loss: 0.7418 - val_accuracy: 0.8310\n",
            "Epoch 87/500\n",
            "2500/2500 [==============================] - 11s 4ms/step - loss: 0.1363 - accuracy: 0.9527 - val_loss: 0.7537 - val_accuracy: 0.8289\n",
            "Epoch 88/500\n",
            "2500/2500 [==============================] - 10s 4ms/step - loss: 0.1414 - accuracy: 0.9499 - val_loss: 0.7311 - val_accuracy: 0.8300\n",
            "Epoch 89/500\n",
            "2500/2500 [==============================] - 10s 4ms/step - loss: 0.1322 - accuracy: 0.9536 - val_loss: 0.7382 - val_accuracy: 0.8269\n",
            "Epoch 90/500\n",
            "2500/2500 [==============================] - 10s 4ms/step - loss: 0.1361 - accuracy: 0.9526 - val_loss: 0.7691 - val_accuracy: 0.8219\n",
            "Epoch 91/500\n",
            "2500/2500 [==============================] - 10s 4ms/step - loss: 0.1399 - accuracy: 0.9525 - val_loss: 0.7324 - val_accuracy: 0.8315\n",
            "Epoch 92/500\n",
            "2500/2500 [==============================] - 10s 4ms/step - loss: 0.1365 - accuracy: 0.9536 - val_loss: 0.7021 - val_accuracy: 0.8298\n",
            "Epoch 93/500\n",
            "2500/2500 [==============================] - 11s 4ms/step - loss: 0.1302 - accuracy: 0.9538 - val_loss: 0.7475 - val_accuracy: 0.8276\n",
            "Epoch 94/500\n",
            "2500/2500 [==============================] - 10s 4ms/step - loss: 0.1297 - accuracy: 0.9538 - val_loss: 0.7797 - val_accuracy: 0.8221\n",
            "Epoch 95/500\n",
            "2500/2500 [==============================] - 10s 4ms/step - loss: 0.1328 - accuracy: 0.9545 - val_loss: 0.7351 - val_accuracy: 0.8279\n",
            "Epoch 96/500\n",
            "2500/2500 [==============================] - 10s 4ms/step - loss: 0.1255 - accuracy: 0.9567 - val_loss: 0.7576 - val_accuracy: 0.8280\n",
            "Epoch 97/500\n",
            "2500/2500 [==============================] - 10s 4ms/step - loss: 0.1244 - accuracy: 0.9558 - val_loss: 0.7433 - val_accuracy: 0.8307\n",
            "Epoch 98/500\n",
            "2500/2500 [==============================] - 10s 4ms/step - loss: 0.1161 - accuracy: 0.9601 - val_loss: 0.7504 - val_accuracy: 0.8266\n",
            "Epoch 99/500\n",
            "2500/2500 [==============================] - 10s 4ms/step - loss: 0.1262 - accuracy: 0.9571 - val_loss: 0.7647 - val_accuracy: 0.8277\n",
            "Epoch 100/500\n",
            "2500/2500 [==============================] - 10s 4ms/step - loss: 0.1205 - accuracy: 0.9573 - val_loss: 0.7400 - val_accuracy: 0.8283\n",
            "Epoch 101/500\n",
            "2500/2500 [==============================] - 9s 4ms/step - loss: 0.1146 - accuracy: 0.9598 - val_loss: 0.7502 - val_accuracy: 0.8276\n",
            "Epoch 102/500\n",
            "2500/2500 [==============================] - 10s 4ms/step - loss: 0.1243 - accuracy: 0.9568 - val_loss: 0.8089 - val_accuracy: 0.8313\n",
            "Epoch 103/500\n",
            "2500/2500 [==============================] - 10s 4ms/step - loss: 0.1198 - accuracy: 0.9591 - val_loss: 0.7832 - val_accuracy: 0.8247\n",
            "Epoch 104/500\n",
            "2500/2500 [==============================] - 10s 4ms/step - loss: 0.1165 - accuracy: 0.9594 - val_loss: 0.8250 - val_accuracy: 0.8272\n",
            "Epoch 105/500\n",
            "2500/2500 [==============================] - 10s 4ms/step - loss: 0.1125 - accuracy: 0.9611 - val_loss: 0.7797 - val_accuracy: 0.8312\n",
            "Epoch 106/500\n",
            "2500/2500 [==============================] - 10s 4ms/step - loss: 0.1083 - accuracy: 0.9624 - val_loss: 0.8233 - val_accuracy: 0.8253\n",
            "Epoch 107/500\n",
            "2500/2500 [==============================] - 10s 4ms/step - loss: 0.1220 - accuracy: 0.9573 - val_loss: 0.7590 - val_accuracy: 0.8346\n",
            "Epoch 108/500\n",
            "2500/2500 [==============================] - 10s 4ms/step - loss: 0.1153 - accuracy: 0.9597 - val_loss: 0.7772 - val_accuracy: 0.8321\n",
            "Epoch 109/500\n",
            "2500/2500 [==============================] - 10s 4ms/step - loss: 0.1115 - accuracy: 0.9608 - val_loss: 0.7532 - val_accuracy: 0.8362\n",
            "Epoch 110/500\n",
            "2500/2500 [==============================] - 10s 4ms/step - loss: 0.1099 - accuracy: 0.9619 - val_loss: 0.7951 - val_accuracy: 0.8276\n",
            "Epoch 111/500\n",
            "2500/2500 [==============================] - 10s 4ms/step - loss: 0.1173 - accuracy: 0.9582 - val_loss: 0.8087 - val_accuracy: 0.8282\n",
            "Epoch 112/500\n",
            "2500/2500 [==============================] - 10s 4ms/step - loss: 0.1202 - accuracy: 0.9587 - val_loss: 0.8074 - val_accuracy: 0.8311\n",
            "Epoch 113/500\n",
            "2500/2500 [==============================] - 10s 4ms/step - loss: 0.1072 - accuracy: 0.9609 - val_loss: 0.8023 - val_accuracy: 0.8250\n",
            "Epoch 114/500\n",
            "2500/2500 [==============================] - 10s 4ms/step - loss: 0.1139 - accuracy: 0.9608 - val_loss: 0.7724 - val_accuracy: 0.8316\n",
            "Epoch 115/500\n",
            "2500/2500 [==============================] - 10s 4ms/step - loss: 0.1116 - accuracy: 0.9603 - val_loss: 0.7984 - val_accuracy: 0.8276\n",
            "Epoch 116/500\n",
            "2500/2500 [==============================] - 10s 4ms/step - loss: 0.1007 - accuracy: 0.9636 - val_loss: 0.7925 - val_accuracy: 0.8330\n",
            "Epoch 117/500\n",
            "2500/2500 [==============================] - 10s 4ms/step - loss: 0.1064 - accuracy: 0.9620 - val_loss: 0.7708 - val_accuracy: 0.8300\n",
            "Epoch 118/500\n",
            "2500/2500 [==============================] - 10s 4ms/step - loss: 0.1049 - accuracy: 0.9642 - val_loss: 0.8080 - val_accuracy: 0.8278\n",
            "Epoch 119/500\n",
            "2500/2500 [==============================] - 10s 4ms/step - loss: 0.1046 - accuracy: 0.9633 - val_loss: 0.8056 - val_accuracy: 0.8297\n",
            "Epoch 120/500\n",
            "2500/2500 [==============================] - 10s 4ms/step - loss: 0.1060 - accuracy: 0.9629 - val_loss: 0.8477 - val_accuracy: 0.8201\n",
            "Epoch 121/500\n",
            "2500/2500 [==============================] - 10s 4ms/step - loss: 0.1074 - accuracy: 0.9625 - val_loss: 0.7935 - val_accuracy: 0.8285\n",
            "Epoch 122/500\n",
            "2500/2500 [==============================] - 10s 4ms/step - loss: 0.1076 - accuracy: 0.9640 - val_loss: 0.7661 - val_accuracy: 0.8281\n",
            "Epoch 123/500\n",
            "2500/2500 [==============================] - 10s 4ms/step - loss: 0.1046 - accuracy: 0.9624 - val_loss: 0.7862 - val_accuracy: 0.8311\n",
            "Epoch 124/500\n",
            "2500/2500 [==============================] - 10s 4ms/step - loss: 0.1081 - accuracy: 0.9644 - val_loss: 0.8090 - val_accuracy: 0.8287\n",
            "Epoch 125/500\n",
            "2500/2500 [==============================] - 10s 4ms/step - loss: 0.1032 - accuracy: 0.9636 - val_loss: 0.8031 - val_accuracy: 0.8304\n",
            "Epoch 126/500\n",
            "2500/2500 [==============================] - 10s 4ms/step - loss: 0.1027 - accuracy: 0.9657 - val_loss: 0.8013 - val_accuracy: 0.8328\n",
            "Epoch 127/500\n",
            "2500/2500 [==============================] - 10s 4ms/step - loss: 0.1028 - accuracy: 0.9644 - val_loss: 0.8113 - val_accuracy: 0.8291\n",
            "Epoch 128/500\n",
            "2500/2500 [==============================] - 10s 4ms/step - loss: 0.1007 - accuracy: 0.9654 - val_loss: 0.8034 - val_accuracy: 0.8277\n",
            "Epoch 129/500\n",
            "2500/2500 [==============================] - 10s 4ms/step - loss: 0.1014 - accuracy: 0.9647 - val_loss: 0.7975 - val_accuracy: 0.8295\n",
            "Epoch 130/500\n",
            "2500/2500 [==============================] - 10s 4ms/step - loss: 0.0953 - accuracy: 0.9662 - val_loss: 0.7981 - val_accuracy: 0.8326\n",
            "Epoch 131/500\n",
            "2500/2500 [==============================] - 10s 4ms/step - loss: 0.0922 - accuracy: 0.9676 - val_loss: 0.7847 - val_accuracy: 0.8291\n",
            "Epoch 132/500\n",
            "2500/2500 [==============================] - 10s 4ms/step - loss: 0.0955 - accuracy: 0.9678 - val_loss: 0.7837 - val_accuracy: 0.8279\n",
            "Epoch 133/500\n",
            "2500/2500 [==============================] - 10s 4ms/step - loss: 0.0992 - accuracy: 0.9647 - val_loss: 0.7534 - val_accuracy: 0.8316\n",
            "Epoch 134/500\n",
            "2500/2500 [==============================] - 10s 4ms/step - loss: 0.0959 - accuracy: 0.9670 - val_loss: 0.8265 - val_accuracy: 0.8322\n",
            "Epoch 135/500\n",
            "2500/2500 [==============================] - 10s 4ms/step - loss: 0.0938 - accuracy: 0.9680 - val_loss: 0.8310 - val_accuracy: 0.8281\n",
            "Epoch 136/500\n",
            "2500/2500 [==============================] - 10s 4ms/step - loss: 0.1017 - accuracy: 0.9650 - val_loss: 0.7902 - val_accuracy: 0.8226\n",
            "Epoch 137/500\n",
            "2500/2500 [==============================] - 10s 4ms/step - loss: 0.0973 - accuracy: 0.9668 - val_loss: 0.8102 - val_accuracy: 0.8294\n",
            "Epoch 138/500\n",
            "2500/2500 [==============================] - 10s 4ms/step - loss: 0.0926 - accuracy: 0.9678 - val_loss: 0.8351 - val_accuracy: 0.8276\n",
            "Epoch 139/500\n",
            "2500/2500 [==============================] - 10s 4ms/step - loss: 0.0931 - accuracy: 0.9679 - val_loss: 0.8349 - val_accuracy: 0.8275\n",
            "Epoch 140/500\n",
            "2500/2500 [==============================] - 10s 4ms/step - loss: 0.0895 - accuracy: 0.9689 - val_loss: 0.8444 - val_accuracy: 0.8275\n",
            "Epoch 141/500\n",
            "2500/2500 [==============================] - 10s 4ms/step - loss: 0.0878 - accuracy: 0.9690 - val_loss: 0.8493 - val_accuracy: 0.8327\n",
            "Epoch 142/500\n",
            "2500/2500 [==============================] - 10s 4ms/step - loss: 0.0876 - accuracy: 0.9694 - val_loss: 0.8439 - val_accuracy: 0.8314\n",
            "Epoch 143/500\n",
            "2500/2500 [==============================] - 10s 4ms/step - loss: 0.0955 - accuracy: 0.9661 - val_loss: 0.8262 - val_accuracy: 0.8347\n",
            "Epoch 144/500\n",
            "2500/2500 [==============================] - 10s 4ms/step - loss: 0.0937 - accuracy: 0.9673 - val_loss: 0.8037 - val_accuracy: 0.8327\n",
            "Epoch 145/500\n",
            "2500/2500 [==============================] - 10s 4ms/step - loss: 0.0887 - accuracy: 0.9689 - val_loss: 0.8646 - val_accuracy: 0.8240\n",
            "Epoch 146/500\n",
            "2500/2500 [==============================] - 10s 4ms/step - loss: 0.0991 - accuracy: 0.9660 - val_loss: 0.8929 - val_accuracy: 0.8199\n",
            "Epoch 147/500\n",
            "2500/2500 [==============================] - 10s 4ms/step - loss: 0.0881 - accuracy: 0.9699 - val_loss: 0.8418 - val_accuracy: 0.8277\n",
            "Epoch 148/500\n",
            "2500/2500 [==============================] - 10s 4ms/step - loss: 0.0919 - accuracy: 0.9678 - val_loss: 0.8339 - val_accuracy: 0.8309\n",
            "Epoch 149/500\n",
            "2500/2500 [==============================] - 10s 4ms/step - loss: 0.0899 - accuracy: 0.9687 - val_loss: 0.8377 - val_accuracy: 0.8313\n",
            "Epoch 150/500\n",
            "2500/2500 [==============================] - 10s 4ms/step - loss: 0.0832 - accuracy: 0.9718 - val_loss: 0.8508 - val_accuracy: 0.8270\n",
            "Epoch 151/500\n",
            "2500/2500 [==============================] - 10s 4ms/step - loss: 0.0864 - accuracy: 0.9710 - val_loss: 0.8182 - val_accuracy: 0.8288\n",
            "Epoch 152/500\n",
            "2500/2500 [==============================] - 10s 4ms/step - loss: 0.0863 - accuracy: 0.9707 - val_loss: 0.8771 - val_accuracy: 0.8285\n",
            "Epoch 153/500\n",
            "2500/2500 [==============================] - 11s 4ms/step - loss: 0.0849 - accuracy: 0.9704 - val_loss: 0.8307 - val_accuracy: 0.8330\n",
            "Epoch 154/500\n",
            "2500/2500 [==============================] - 10s 4ms/step - loss: 0.0898 - accuracy: 0.9692 - val_loss: 0.8711 - val_accuracy: 0.8258\n",
            "Epoch 155/500\n",
            "2500/2500 [==============================] - 10s 4ms/step - loss: 0.0888 - accuracy: 0.9700 - val_loss: 0.8393 - val_accuracy: 0.8342\n",
            "Epoch 156/500\n",
            "2500/2500 [==============================] - 11s 4ms/step - loss: 0.0855 - accuracy: 0.9697 - val_loss: 0.8625 - val_accuracy: 0.8294\n",
            "Epoch 157/500\n",
            "2500/2500 [==============================] - 11s 4ms/step - loss: 0.0858 - accuracy: 0.9705 - val_loss: 0.8341 - val_accuracy: 0.8305\n",
            "Epoch 158/500\n",
            "2500/2500 [==============================] - 10s 4ms/step - loss: 0.0802 - accuracy: 0.9721 - val_loss: 0.8470 - val_accuracy: 0.8305\n",
            "Epoch 159/500\n",
            "2500/2500 [==============================] - 10s 4ms/step - loss: 0.0790 - accuracy: 0.9730 - val_loss: 0.8316 - val_accuracy: 0.8282\n",
            "Epoch 160/500\n",
            "2500/2500 [==============================] - 10s 4ms/step - loss: 0.0818 - accuracy: 0.9720 - val_loss: 0.8510 - val_accuracy: 0.8310\n",
            "Epoch 161/500\n",
            "2500/2500 [==============================] - 10s 4ms/step - loss: 0.0819 - accuracy: 0.9713 - val_loss: 0.7983 - val_accuracy: 0.8323\n",
            "Epoch 162/500\n",
            "2500/2500 [==============================] - 10s 4ms/step - loss: 0.0818 - accuracy: 0.9725 - val_loss: 0.8328 - val_accuracy: 0.8315\n",
            "Epoch 163/500\n",
            "2500/2500 [==============================] - 10s 4ms/step - loss: 0.0803 - accuracy: 0.9728 - val_loss: 0.8509 - val_accuracy: 0.8327\n",
            "Epoch 164/500\n",
            "2500/2500 [==============================] - 10s 4ms/step - loss: 0.0842 - accuracy: 0.9720 - val_loss: 0.8492 - val_accuracy: 0.8264\n",
            "Epoch 165/500\n",
            "2500/2500 [==============================] - 10s 4ms/step - loss: 0.0825 - accuracy: 0.9713 - val_loss: 0.8659 - val_accuracy: 0.8310\n",
            "Epoch 166/500\n",
            "2500/2500 [==============================] - 9s 4ms/step - loss: 0.0798 - accuracy: 0.9735 - val_loss: 0.8349 - val_accuracy: 0.8318\n",
            "Epoch 167/500\n",
            "2500/2500 [==============================] - 10s 4ms/step - loss: 0.0814 - accuracy: 0.9721 - val_loss: 0.8442 - val_accuracy: 0.8263\n",
            "Epoch 168/500\n",
            "2500/2500 [==============================] - 10s 4ms/step - loss: 0.0844 - accuracy: 0.9703 - val_loss: 0.8118 - val_accuracy: 0.8336\n",
            "Epoch 169/500\n",
            "2500/2500 [==============================] - 10s 4ms/step - loss: 0.0763 - accuracy: 0.9739 - val_loss: 0.8234 - val_accuracy: 0.8295\n",
            "Epoch 170/500\n",
            "2500/2500 [==============================] - 10s 4ms/step - loss: 0.0797 - accuracy: 0.9725 - val_loss: 0.8295 - val_accuracy: 0.8334\n",
            "Epoch 171/500\n",
            "2500/2500 [==============================] - 10s 4ms/step - loss: 0.0792 - accuracy: 0.9733 - val_loss: 0.8244 - val_accuracy: 0.8336\n",
            "Epoch 172/500\n",
            "2500/2500 [==============================] - 10s 4ms/step - loss: 0.0717 - accuracy: 0.9750 - val_loss: 0.8617 - val_accuracy: 0.8323\n",
            "Epoch 173/500\n",
            "2500/2500 [==============================] - 11s 4ms/step - loss: 0.0828 - accuracy: 0.9721 - val_loss: 0.8549 - val_accuracy: 0.8280\n",
            "Epoch 174/500\n",
            "2500/2500 [==============================] - 10s 4ms/step - loss: 0.0828 - accuracy: 0.9724 - val_loss: 0.8468 - val_accuracy: 0.8308\n",
            "Epoch 175/500\n",
            "2500/2500 [==============================] - 10s 4ms/step - loss: 0.0804 - accuracy: 0.9726 - val_loss: 0.8337 - val_accuracy: 0.8322\n",
            "Epoch 176/500\n",
            "2500/2500 [==============================] - 10s 4ms/step - loss: 0.0785 - accuracy: 0.9738 - val_loss: 0.8862 - val_accuracy: 0.8298\n",
            "Epoch 177/500\n",
            "2500/2500 [==============================] - 10s 4ms/step - loss: 0.0842 - accuracy: 0.9719 - val_loss: 0.8347 - val_accuracy: 0.8373\n",
            "Epoch 178/500\n",
            "2500/2500 [==============================] - 10s 4ms/step - loss: 0.0756 - accuracy: 0.9739 - val_loss: 0.8531 - val_accuracy: 0.8306\n",
            "Epoch 179/500\n",
            "2500/2500 [==============================] - 10s 4ms/step - loss: 0.0740 - accuracy: 0.9743 - val_loss: 0.8571 - val_accuracy: 0.8292\n",
            "Epoch 180/500\n",
            "2500/2500 [==============================] - 10s 4ms/step - loss: 0.0720 - accuracy: 0.9765 - val_loss: 0.8609 - val_accuracy: 0.8321\n",
            "Epoch 181/500\n",
            "2500/2500 [==============================] - 10s 4ms/step - loss: 0.0762 - accuracy: 0.9736 - val_loss: 0.8819 - val_accuracy: 0.8329\n",
            "Epoch 182/500\n",
            "2500/2500 [==============================] - 10s 4ms/step - loss: 0.0813 - accuracy: 0.9724 - val_loss: 0.8321 - val_accuracy: 0.8332\n",
            "Epoch 183/500\n",
            "2500/2500 [==============================] - 10s 4ms/step - loss: 0.0719 - accuracy: 0.9751 - val_loss: 0.8292 - val_accuracy: 0.8329\n",
            "Epoch 184/500\n",
            "2500/2500 [==============================] - 10s 4ms/step - loss: 0.0749 - accuracy: 0.9738 - val_loss: 0.8547 - val_accuracy: 0.8323\n",
            "Epoch 185/500\n",
            "2500/2500 [==============================] - 10s 4ms/step - loss: 0.0721 - accuracy: 0.9745 - val_loss: 0.8421 - val_accuracy: 0.8324\n",
            "Epoch 186/500\n",
            "2500/2500 [==============================] - 10s 4ms/step - loss: 0.0808 - accuracy: 0.9723 - val_loss: 0.8669 - val_accuracy: 0.8301\n",
            "Epoch 187/500\n",
            "2500/2500 [==============================] - 10s 4ms/step - loss: 0.0749 - accuracy: 0.9750 - val_loss: 0.8528 - val_accuracy: 0.8323\n",
            "Epoch 188/500\n",
            "2500/2500 [==============================] - 10s 4ms/step - loss: 0.0778 - accuracy: 0.9736 - val_loss: 0.8666 - val_accuracy: 0.8293\n",
            "Epoch 189/500\n",
            "2500/2500 [==============================] - 10s 4ms/step - loss: 0.0740 - accuracy: 0.9755 - val_loss: 0.8329 - val_accuracy: 0.8288\n",
            "Epoch 190/500\n",
            "2500/2500 [==============================] - 10s 4ms/step - loss: 0.0748 - accuracy: 0.9739 - val_loss: 0.8758 - val_accuracy: 0.8266\n",
            "Epoch 191/500\n",
            "2500/2500 [==============================] - 10s 4ms/step - loss: 0.0768 - accuracy: 0.9729 - val_loss: 0.8883 - val_accuracy: 0.8312\n",
            "Epoch 192/500\n",
            "2500/2500 [==============================] - 10s 4ms/step - loss: 0.0836 - accuracy: 0.9721 - val_loss: 0.8133 - val_accuracy: 0.8336\n",
            "Epoch 193/500\n",
            "2500/2500 [==============================] - 10s 4ms/step - loss: 0.0672 - accuracy: 0.9768 - val_loss: 0.8388 - val_accuracy: 0.8332\n",
            "Epoch 194/500\n",
            "2500/2500 [==============================] - 10s 4ms/step - loss: 0.0731 - accuracy: 0.9741 - val_loss: 0.8449 - val_accuracy: 0.8341\n",
            "Epoch 195/500\n",
            "2500/2500 [==============================] - 10s 4ms/step - loss: 0.0677 - accuracy: 0.9770 - val_loss: 0.8640 - val_accuracy: 0.8309\n",
            "Epoch 196/500\n",
            "2500/2500 [==============================] - 10s 4ms/step - loss: 0.0795 - accuracy: 0.9721 - val_loss: 0.8891 - val_accuracy: 0.8333\n",
            "Epoch 197/500\n",
            "2500/2500 [==============================] - 10s 4ms/step - loss: 0.0690 - accuracy: 0.9764 - val_loss: 0.8826 - val_accuracy: 0.8351\n",
            "Epoch 198/500\n",
            "2500/2500 [==============================] - 10s 4ms/step - loss: 0.0644 - accuracy: 0.9789 - val_loss: 0.8817 - val_accuracy: 0.8319\n",
            "Epoch 199/500\n",
            "2500/2500 [==============================] - 10s 4ms/step - loss: 0.0713 - accuracy: 0.9758 - val_loss: 0.8384 - val_accuracy: 0.8376\n",
            "Epoch 200/500\n",
            "2500/2500 [==============================] - 10s 4ms/step - loss: 0.0791 - accuracy: 0.9726 - val_loss: 0.8722 - val_accuracy: 0.8308\n",
            "Epoch 201/500\n",
            "2500/2500 [==============================] - 10s 4ms/step - loss: 0.0689 - accuracy: 0.9762 - val_loss: 0.8841 - val_accuracy: 0.8315\n",
            "Epoch 202/500\n",
            "2500/2500 [==============================] - 10s 4ms/step - loss: 0.0706 - accuracy: 0.9763 - val_loss: 0.8474 - val_accuracy: 0.8314\n",
            "Epoch 203/500\n",
            "2500/2500 [==============================] - 10s 4ms/step - loss: 0.0714 - accuracy: 0.9757 - val_loss: 0.8814 - val_accuracy: 0.8325\n",
            "Epoch 204/500\n",
            "2500/2500 [==============================] - 11s 4ms/step - loss: 0.0764 - accuracy: 0.9737 - val_loss: 0.8864 - val_accuracy: 0.8280\n",
            "Epoch 205/500\n",
            "2500/2500 [==============================] - 10s 4ms/step - loss: 0.0734 - accuracy: 0.9745 - val_loss: 0.9096 - val_accuracy: 0.8320\n",
            "Epoch 206/500\n",
            "2500/2500 [==============================] - 10s 4ms/step - loss: 0.0705 - accuracy: 0.9761 - val_loss: 0.8781 - val_accuracy: 0.8358\n",
            "Epoch 207/500\n",
            "2500/2500 [==============================] - 10s 4ms/step - loss: 0.0712 - accuracy: 0.9747 - val_loss: 0.8945 - val_accuracy: 0.8365\n",
            "Epoch 208/500\n",
            "2500/2500 [==============================] - 10s 4ms/step - loss: 0.0747 - accuracy: 0.9752 - val_loss: 0.8362 - val_accuracy: 0.8379\n",
            "Epoch 209/500\n",
            "2500/2500 [==============================] - 10s 4ms/step - loss: 0.0684 - accuracy: 0.9770 - val_loss: 0.8846 - val_accuracy: 0.8343\n",
            "Epoch 210/500\n",
            "2500/2500 [==============================] - 10s 4ms/step - loss: 0.0759 - accuracy: 0.9745 - val_loss: 0.8553 - val_accuracy: 0.8336\n",
            "Epoch 211/500\n",
            "2500/2500 [==============================] - 10s 4ms/step - loss: 0.0695 - accuracy: 0.9761 - val_loss: 0.8521 - val_accuracy: 0.8342\n",
            "Epoch 212/500\n",
            "2500/2500 [==============================] - 10s 4ms/step - loss: 0.0713 - accuracy: 0.9771 - val_loss: 0.8574 - val_accuracy: 0.8359\n",
            "Epoch 213/500\n",
            "2500/2500 [==============================] - 11s 4ms/step - loss: 0.0707 - accuracy: 0.9756 - val_loss: 0.8748 - val_accuracy: 0.8361\n",
            "Epoch 214/500\n",
            "2500/2500 [==============================] - 10s 4ms/step - loss: 0.0644 - accuracy: 0.9782 - val_loss: 0.8759 - val_accuracy: 0.8303\n",
            "Epoch 215/500\n",
            "2500/2500 [==============================] - 10s 4ms/step - loss: 0.0777 - accuracy: 0.9730 - val_loss: 0.8506 - val_accuracy: 0.8350\n",
            "Epoch 216/500\n",
            "2500/2500 [==============================] - 11s 4ms/step - loss: 0.0621 - accuracy: 0.9787 - val_loss: 0.8748 - val_accuracy: 0.8321\n",
            "Epoch 217/500\n",
            "2500/2500 [==============================] - 11s 4ms/step - loss: 0.0734 - accuracy: 0.9755 - val_loss: 0.8866 - val_accuracy: 0.8315\n",
            "Epoch 218/500\n",
            "2500/2500 [==============================] - 10s 4ms/step - loss: 0.0670 - accuracy: 0.9777 - val_loss: 0.8686 - val_accuracy: 0.8391\n",
            "Epoch 219/500\n",
            "2500/2500 [==============================] - 10s 4ms/step - loss: 0.0657 - accuracy: 0.9788 - val_loss: 0.8991 - val_accuracy: 0.8296\n",
            "Epoch 220/500\n",
            "2500/2500 [==============================] - 10s 4ms/step - loss: 0.0694 - accuracy: 0.9776 - val_loss: 0.8682 - val_accuracy: 0.8362\n",
            "Epoch 221/500\n",
            "2500/2500 [==============================] - 10s 4ms/step - loss: 0.0650 - accuracy: 0.9777 - val_loss: 0.8793 - val_accuracy: 0.8307\n",
            "Epoch 222/500\n",
            "2500/2500 [==============================] - 10s 4ms/step - loss: 0.0706 - accuracy: 0.9764 - val_loss: 0.8878 - val_accuracy: 0.8324\n",
            "Epoch 223/500\n",
            "2500/2500 [==============================] - 10s 4ms/step - loss: 0.0600 - accuracy: 0.9787 - val_loss: 0.8800 - val_accuracy: 0.8338\n",
            "Epoch 224/500\n",
            "2500/2500 [==============================] - 10s 4ms/step - loss: 0.0632 - accuracy: 0.9783 - val_loss: 0.8817 - val_accuracy: 0.8309\n",
            "Epoch 225/500\n",
            "2500/2500 [==============================] - 10s 4ms/step - loss: 0.0662 - accuracy: 0.9780 - val_loss: 0.8584 - val_accuracy: 0.8372\n",
            "Epoch 226/500\n",
            "2500/2500 [==============================] - 10s 4ms/step - loss: 0.0691 - accuracy: 0.9761 - val_loss: 0.8762 - val_accuracy: 0.8313\n",
            "Epoch 227/500\n",
            "2500/2500 [==============================] - 10s 4ms/step - loss: 0.0645 - accuracy: 0.9783 - val_loss: 0.8881 - val_accuracy: 0.8355\n",
            "Epoch 228/500\n",
            "2500/2500 [==============================] - 10s 4ms/step - loss: 0.0558 - accuracy: 0.9815 - val_loss: 0.9009 - val_accuracy: 0.8363\n",
            "Epoch 229/500\n",
            "2500/2500 [==============================] - 10s 4ms/step - loss: 0.0740 - accuracy: 0.9758 - val_loss: 0.9123 - val_accuracy: 0.8328\n",
            "Epoch 230/500\n",
            "2500/2500 [==============================] - 11s 4ms/step - loss: 0.0658 - accuracy: 0.9777 - val_loss: 0.9283 - val_accuracy: 0.8353\n",
            "Epoch 231/500\n",
            "2500/2500 [==============================] - 10s 4ms/step - loss: 0.0667 - accuracy: 0.9787 - val_loss: 0.8933 - val_accuracy: 0.8327\n",
            "Epoch 232/500\n",
            "2500/2500 [==============================] - 10s 4ms/step - loss: 0.0656 - accuracy: 0.9779 - val_loss: 0.9118 - val_accuracy: 0.8360\n",
            "Epoch 233/500\n",
            "2500/2500 [==============================] - 10s 4ms/step - loss: 0.0637 - accuracy: 0.9783 - val_loss: 0.9079 - val_accuracy: 0.8340\n",
            "Epoch 234/500\n",
            "2500/2500 [==============================] - 11s 4ms/step - loss: 0.0708 - accuracy: 0.9757 - val_loss: 0.9196 - val_accuracy: 0.8310\n",
            "Epoch 235/500\n",
            "2500/2500 [==============================] - 10s 4ms/step - loss: 0.0603 - accuracy: 0.9798 - val_loss: 0.9272 - val_accuracy: 0.8353\n",
            "Epoch 236/500\n",
            "2500/2500 [==============================] - 10s 4ms/step - loss: 0.0652 - accuracy: 0.9768 - val_loss: 0.9107 - val_accuracy: 0.8336\n",
            "Epoch 237/500\n",
            "2500/2500 [==============================] - 10s 4ms/step - loss: 0.0627 - accuracy: 0.9794 - val_loss: 0.9181 - val_accuracy: 0.8301\n",
            "Epoch 238/500\n",
            "2500/2500 [==============================] - 11s 4ms/step - loss: 0.0690 - accuracy: 0.9765 - val_loss: 0.9003 - val_accuracy: 0.8367\n",
            "Epoch 239/500\n",
            "2500/2500 [==============================] - 11s 4ms/step - loss: 0.0616 - accuracy: 0.9793 - val_loss: 0.9044 - val_accuracy: 0.8345\n",
            "Epoch 240/500\n",
            "2500/2500 [==============================] - 10s 4ms/step - loss: 0.0647 - accuracy: 0.9780 - val_loss: 0.8780 - val_accuracy: 0.8326\n",
            "Epoch 241/500\n",
            "2500/2500 [==============================] - 10s 4ms/step - loss: 0.0564 - accuracy: 0.9801 - val_loss: 0.8832 - val_accuracy: 0.8376\n",
            "Epoch 242/500\n",
            "2500/2500 [==============================] - 11s 4ms/step - loss: 0.0658 - accuracy: 0.9785 - val_loss: 0.8903 - val_accuracy: 0.8329\n",
            "Epoch 243/500\n",
            "2500/2500 [==============================] - 10s 4ms/step - loss: 0.0612 - accuracy: 0.9800 - val_loss: 0.8606 - val_accuracy: 0.8369\n",
            "Epoch 244/500\n",
            "2500/2500 [==============================] - 10s 4ms/step - loss: 0.0651 - accuracy: 0.9773 - val_loss: 0.8534 - val_accuracy: 0.8369\n",
            "Epoch 245/500\n",
            "2500/2500 [==============================] - 10s 4ms/step - loss: 0.0677 - accuracy: 0.9771 - val_loss: 0.8799 - val_accuracy: 0.8368\n",
            "Epoch 246/500\n",
            "2500/2500 [==============================] - 10s 4ms/step - loss: 0.0676 - accuracy: 0.9771 - val_loss: 0.8411 - val_accuracy: 0.8399\n",
            "Epoch 247/500\n",
            "2500/2500 [==============================] - 10s 4ms/step - loss: 0.0570 - accuracy: 0.9819 - val_loss: 0.9271 - val_accuracy: 0.8338\n",
            "Epoch 248/500\n",
            "2500/2500 [==============================] - 11s 4ms/step - loss: 0.0614 - accuracy: 0.9785 - val_loss: 0.9357 - val_accuracy: 0.8364\n",
            "Epoch 249/500\n",
            "2500/2500 [==============================] - 11s 4ms/step - loss: 0.0595 - accuracy: 0.9792 - val_loss: 0.8991 - val_accuracy: 0.8402\n",
            "Epoch 250/500\n",
            "2500/2500 [==============================] - 11s 4ms/step - loss: 0.0573 - accuracy: 0.9808 - val_loss: 0.9251 - val_accuracy: 0.8337\n",
            "Epoch 251/500\n",
            "2500/2500 [==============================] - 10s 4ms/step - loss: 0.0668 - accuracy: 0.9777 - val_loss: 0.8893 - val_accuracy: 0.8368\n",
            "Epoch 252/500\n",
            "2500/2500 [==============================] - 10s 4ms/step - loss: 0.0656 - accuracy: 0.9783 - val_loss: 0.8930 - val_accuracy: 0.8384\n",
            "Epoch 253/500\n",
            "2500/2500 [==============================] - 10s 4ms/step - loss: 0.0588 - accuracy: 0.9802 - val_loss: 0.9121 - val_accuracy: 0.8337\n",
            "Epoch 254/500\n",
            "2500/2500 [==============================] - 10s 4ms/step - loss: 0.0596 - accuracy: 0.9798 - val_loss: 0.8805 - val_accuracy: 0.8379\n",
            "Epoch 255/500\n",
            "2500/2500 [==============================] - 10s 4ms/step - loss: 0.0563 - accuracy: 0.9806 - val_loss: 0.9363 - val_accuracy: 0.8331\n",
            "Epoch 256/500\n",
            "2500/2500 [==============================] - 11s 4ms/step - loss: 0.0632 - accuracy: 0.9802 - val_loss: 0.8862 - val_accuracy: 0.8383\n",
            "Epoch 257/500\n",
            "2500/2500 [==============================] - 11s 4ms/step - loss: 0.0584 - accuracy: 0.9805 - val_loss: 0.9319 - val_accuracy: 0.8354\n",
            "Epoch 258/500\n",
            "2500/2500 [==============================] - 10s 4ms/step - loss: 0.0653 - accuracy: 0.9778 - val_loss: 0.9471 - val_accuracy: 0.8329\n",
            "Epoch 259/500\n",
            "2500/2500 [==============================] - 11s 4ms/step - loss: 0.0641 - accuracy: 0.9776 - val_loss: 0.9015 - val_accuracy: 0.8368\n",
            "Epoch 260/500\n",
            "2500/2500 [==============================] - 11s 4ms/step - loss: 0.0563 - accuracy: 0.9809 - val_loss: 0.8902 - val_accuracy: 0.8397\n",
            "Epoch 261/500\n",
            "2500/2500 [==============================] - 11s 4ms/step - loss: 0.0596 - accuracy: 0.9795 - val_loss: 0.8805 - val_accuracy: 0.8389\n",
            "Epoch 262/500\n",
            "2500/2500 [==============================] - 10s 4ms/step - loss: 0.0717 - accuracy: 0.9764 - val_loss: 0.8879 - val_accuracy: 0.8344\n",
            "Epoch 263/500\n",
            "2500/2500 [==============================] - 10s 4ms/step - loss: 0.0586 - accuracy: 0.9803 - val_loss: 0.9769 - val_accuracy: 0.8349\n",
            "Epoch 264/500\n",
            "2500/2500 [==============================] - 10s 4ms/step - loss: 0.0652 - accuracy: 0.9794 - val_loss: 0.8843 - val_accuracy: 0.8366\n",
            "Epoch 265/500\n",
            "2500/2500 [==============================] - 10s 4ms/step - loss: 0.0577 - accuracy: 0.9802 - val_loss: 0.8975 - val_accuracy: 0.8395\n",
            "Epoch 266/500\n",
            "2500/2500 [==============================] - 11s 4ms/step - loss: 0.0612 - accuracy: 0.9801 - val_loss: 0.9478 - val_accuracy: 0.8330\n",
            "Epoch 267/500\n",
            "2500/2500 [==============================] - 10s 4ms/step - loss: 0.0609 - accuracy: 0.9793 - val_loss: 0.9022 - val_accuracy: 0.8354\n",
            "Epoch 268/500\n",
            "2500/2500 [==============================] - 10s 4ms/step - loss: 0.0608 - accuracy: 0.9790 - val_loss: 0.9174 - val_accuracy: 0.8366\n",
            "Epoch 269/500\n",
            "2500/2500 [==============================] - 11s 4ms/step - loss: 0.0609 - accuracy: 0.9789 - val_loss: 0.9187 - val_accuracy: 0.8407\n",
            "Epoch 270/500\n",
            "2500/2500 [==============================] - 10s 4ms/step - loss: 0.0608 - accuracy: 0.9788 - val_loss: 0.8482 - val_accuracy: 0.8355\n",
            "Epoch 271/500\n",
            "2500/2500 [==============================] - 10s 4ms/step - loss: 0.0563 - accuracy: 0.9805 - val_loss: 0.9469 - val_accuracy: 0.8328\n",
            "Epoch 272/500\n",
            "2500/2500 [==============================] - 10s 4ms/step - loss: 0.0624 - accuracy: 0.9789 - val_loss: 0.8699 - val_accuracy: 0.8376\n",
            "Epoch 273/500\n",
            "2500/2500 [==============================] - 11s 4ms/step - loss: 0.0619 - accuracy: 0.9792 - val_loss: 0.8858 - val_accuracy: 0.8357\n",
            "Epoch 274/500\n",
            "2500/2500 [==============================] - 10s 4ms/step - loss: 0.0583 - accuracy: 0.9794 - val_loss: 0.9174 - val_accuracy: 0.8391\n",
            "Epoch 275/500\n",
            "2500/2500 [==============================] - 11s 4ms/step - loss: 0.0618 - accuracy: 0.9797 - val_loss: 0.9487 - val_accuracy: 0.8296\n",
            "Epoch 276/500\n",
            "2500/2500 [==============================] - 10s 4ms/step - loss: 0.0601 - accuracy: 0.9794 - val_loss: 0.9141 - val_accuracy: 0.8304\n",
            "Epoch 277/500\n",
            "2500/2500 [==============================] - 10s 4ms/step - loss: 0.0621 - accuracy: 0.9801 - val_loss: 0.9210 - val_accuracy: 0.8316\n",
            "Epoch 278/500\n",
            "2500/2500 [==============================] - 11s 4ms/step - loss: 0.0583 - accuracy: 0.9804 - val_loss: 0.8972 - val_accuracy: 0.8363\n",
            "Epoch 279/500\n",
            "2500/2500 [==============================] - 11s 4ms/step - loss: 0.0605 - accuracy: 0.9792 - val_loss: 0.8773 - val_accuracy: 0.8378\n",
            "Epoch 280/500\n",
            "2500/2500 [==============================] - 11s 4ms/step - loss: 0.0656 - accuracy: 0.9786 - val_loss: 0.9105 - val_accuracy: 0.8365\n",
            "Epoch 281/500\n",
            "2500/2500 [==============================] - 11s 4ms/step - loss: 0.0563 - accuracy: 0.9811 - val_loss: 0.9070 - val_accuracy: 0.8380\n",
            "Epoch 282/500\n",
            "2500/2500 [==============================] - 11s 4ms/step - loss: 0.0525 - accuracy: 0.9824 - val_loss: 0.9396 - val_accuracy: 0.8332\n",
            "Epoch 283/500\n",
            "2500/2500 [==============================] - 11s 4ms/step - loss: 0.0575 - accuracy: 0.9809 - val_loss: 0.9367 - val_accuracy: 0.8322\n",
            "Epoch 284/500\n",
            "2500/2500 [==============================] - 11s 4ms/step - loss: 0.0568 - accuracy: 0.9806 - val_loss: 0.9068 - val_accuracy: 0.8366\n",
            "Epoch 285/500\n",
            "2500/2500 [==============================] - 10s 4ms/step - loss: 0.0577 - accuracy: 0.9812 - val_loss: 0.8775 - val_accuracy: 0.8356\n",
            "Epoch 286/500\n",
            "2500/2500 [==============================] - 10s 4ms/step - loss: 0.0556 - accuracy: 0.9809 - val_loss: 0.9067 - val_accuracy: 0.8362\n",
            "Epoch 287/500\n",
            "2500/2500 [==============================] - 11s 4ms/step - loss: 0.0528 - accuracy: 0.9824 - val_loss: 0.9299 - val_accuracy: 0.8361\n",
            "Epoch 288/500\n",
            "2500/2500 [==============================] - 11s 4ms/step - loss: 0.0611 - accuracy: 0.9803 - val_loss: 0.9017 - val_accuracy: 0.8350\n",
            "Epoch 289/500\n",
            "2500/2500 [==============================] - 11s 4ms/step - loss: 0.0512 - accuracy: 0.9831 - val_loss: 0.9691 - val_accuracy: 0.8338\n",
            "Epoch 290/500\n",
            "2500/2500 [==============================] - 11s 4ms/step - loss: 0.0585 - accuracy: 0.9806 - val_loss: 0.8949 - val_accuracy: 0.8351\n",
            "Epoch 291/500\n",
            "2500/2500 [==============================] - 10s 4ms/step - loss: 0.0652 - accuracy: 0.9772 - val_loss: 0.9458 - val_accuracy: 0.8341\n",
            "Epoch 292/500\n",
            "2500/2500 [==============================] - 10s 4ms/step - loss: 0.0522 - accuracy: 0.9811 - val_loss: 0.9182 - val_accuracy: 0.8364\n",
            "Epoch 293/500\n",
            "2500/2500 [==============================] - 11s 4ms/step - loss: 0.0527 - accuracy: 0.9819 - val_loss: 0.8960 - val_accuracy: 0.8444\n",
            "Epoch 294/500\n",
            "2500/2500 [==============================] - 10s 4ms/step - loss: 0.0489 - accuracy: 0.9831 - val_loss: 0.9405 - val_accuracy: 0.8318\n",
            "Epoch 295/500\n",
            "2500/2500 [==============================] - 11s 4ms/step - loss: 0.0565 - accuracy: 0.9814 - val_loss: 0.9165 - val_accuracy: 0.8334\n",
            "Epoch 296/500\n",
            "2500/2500 [==============================] - 10s 4ms/step - loss: 0.0564 - accuracy: 0.9814 - val_loss: 0.9003 - val_accuracy: 0.8337\n",
            "Epoch 297/500\n",
            "2500/2500 [==============================] - 10s 4ms/step - loss: 0.0565 - accuracy: 0.9808 - val_loss: 0.8762 - val_accuracy: 0.8392\n",
            "Epoch 298/500\n",
            "2500/2500 [==============================] - 10s 4ms/step - loss: 0.0549 - accuracy: 0.9809 - val_loss: 0.9203 - val_accuracy: 0.8349\n",
            "Epoch 299/500\n",
            "2500/2500 [==============================] - 10s 4ms/step - loss: 0.0607 - accuracy: 0.9810 - val_loss: 0.9661 - val_accuracy: 0.8333\n",
            "Epoch 300/500\n",
            "2500/2500 [==============================] - 11s 4ms/step - loss: 0.0570 - accuracy: 0.9806 - val_loss: 0.9806 - val_accuracy: 0.8345\n",
            "Epoch 301/500\n",
            "2500/2500 [==============================] - 11s 4ms/step - loss: 0.0564 - accuracy: 0.9808 - val_loss: 0.9112 - val_accuracy: 0.8393\n",
            "Epoch 302/500\n",
            "2500/2500 [==============================] - 10s 4ms/step - loss: 0.0550 - accuracy: 0.9807 - val_loss: 0.9468 - val_accuracy: 0.8381\n",
            "Epoch 303/500\n",
            "2500/2500 [==============================] - 10s 4ms/step - loss: 0.0513 - accuracy: 0.9823 - val_loss: 0.9676 - val_accuracy: 0.8367\n",
            "Epoch 304/500\n",
            "2500/2500 [==============================] - 10s 4ms/step - loss: 0.0512 - accuracy: 0.9822 - val_loss: 0.9755 - val_accuracy: 0.8341\n",
            "Epoch 305/500\n",
            "2500/2500 [==============================] - 10s 4ms/step - loss: 0.0536 - accuracy: 0.9810 - val_loss: 0.9637 - val_accuracy: 0.8344\n",
            "Epoch 306/500\n",
            "2500/2500 [==============================] - 11s 4ms/step - loss: 0.0517 - accuracy: 0.9825 - val_loss: 0.9006 - val_accuracy: 0.8355\n",
            "Epoch 307/500\n",
            "2500/2500 [==============================] - 10s 4ms/step - loss: 0.0534 - accuracy: 0.9814 - val_loss: 0.9488 - val_accuracy: 0.8358\n",
            "Epoch 308/500\n",
            "2500/2500 [==============================] - 11s 4ms/step - loss: 0.0501 - accuracy: 0.9835 - val_loss: 0.9516 - val_accuracy: 0.8365\n",
            "Epoch 309/500\n",
            "2500/2500 [==============================] - 11s 4ms/step - loss: 0.0560 - accuracy: 0.9820 - val_loss: 0.8821 - val_accuracy: 0.8387\n",
            "Epoch 310/500\n",
            "2500/2500 [==============================] - 11s 4ms/step - loss: 0.0503 - accuracy: 0.9833 - val_loss: 0.8959 - val_accuracy: 0.8371\n",
            "Epoch 311/500\n",
            "2500/2500 [==============================] - 11s 4ms/step - loss: 0.0536 - accuracy: 0.9814 - val_loss: 0.9516 - val_accuracy: 0.8391\n",
            "Epoch 312/500\n",
            "2500/2500 [==============================] - 11s 4ms/step - loss: 0.0498 - accuracy: 0.9831 - val_loss: 0.9106 - val_accuracy: 0.8369\n",
            "Epoch 313/500\n",
            "2500/2500 [==============================] - 11s 4ms/step - loss: 0.0514 - accuracy: 0.9824 - val_loss: 0.9242 - val_accuracy: 0.8400\n",
            "Epoch 314/500\n",
            "2500/2500 [==============================] - 10s 4ms/step - loss: 0.0549 - accuracy: 0.9822 - val_loss: 0.9703 - val_accuracy: 0.8344\n",
            "Epoch 315/500\n",
            "2500/2500 [==============================] - 11s 4ms/step - loss: 0.0524 - accuracy: 0.9821 - val_loss: 0.9534 - val_accuracy: 0.8381\n",
            "Epoch 316/500\n",
            "2500/2500 [==============================] - 11s 4ms/step - loss: 0.0533 - accuracy: 0.9824 - val_loss: 0.9301 - val_accuracy: 0.8401\n",
            "Epoch 317/500\n",
            "2500/2500 [==============================] - 11s 4ms/step - loss: 0.0593 - accuracy: 0.9803 - val_loss: 0.9296 - val_accuracy: 0.8430\n",
            "Epoch 318/500\n",
            "2500/2500 [==============================] - 11s 4ms/step - loss: 0.0501 - accuracy: 0.9834 - val_loss: 0.9341 - val_accuracy: 0.8396\n",
            "Epoch 319/500\n",
            "2500/2500 [==============================] - 10s 4ms/step - loss: 0.0539 - accuracy: 0.9817 - val_loss: 0.9053 - val_accuracy: 0.8395\n",
            "Epoch 320/500\n",
            "2500/2500 [==============================] - 11s 4ms/step - loss: 0.0542 - accuracy: 0.9820 - val_loss: 0.9850 - val_accuracy: 0.8341\n",
            "Epoch 321/500\n",
            "2500/2500 [==============================] - 10s 4ms/step - loss: 0.0636 - accuracy: 0.9797 - val_loss: 0.8724 - val_accuracy: 0.8401\n",
            "Epoch 322/500\n",
            "2500/2500 [==============================] - 10s 4ms/step - loss: 0.0498 - accuracy: 0.9839 - val_loss: 0.9304 - val_accuracy: 0.8396\n",
            "Epoch 323/500\n",
            "2500/2500 [==============================] - 11s 4ms/step - loss: 0.0479 - accuracy: 0.9840 - val_loss: 0.9719 - val_accuracy: 0.8399\n",
            "Epoch 324/500\n",
            "2500/2500 [==============================] - 11s 4ms/step - loss: 0.0537 - accuracy: 0.9825 - val_loss: 0.9139 - val_accuracy: 0.8378\n",
            "Epoch 325/500\n",
            "2500/2500 [==============================] - 11s 4ms/step - loss: 0.0512 - accuracy: 0.9835 - val_loss: 0.9354 - val_accuracy: 0.8339\n",
            "Epoch 326/500\n",
            "2500/2500 [==============================] - 10s 4ms/step - loss: 0.0559 - accuracy: 0.9815 - val_loss: 0.9418 - val_accuracy: 0.8390\n",
            "Epoch 327/500\n",
            "2500/2500 [==============================] - 10s 4ms/step - loss: 0.0565 - accuracy: 0.9806 - val_loss: 0.9502 - val_accuracy: 0.8318\n",
            "Epoch 328/500\n",
            "2500/2500 [==============================] - 11s 4ms/step - loss: 0.0555 - accuracy: 0.9817 - val_loss: 0.9118 - val_accuracy: 0.8365\n",
            "Epoch 329/500\n",
            "2500/2500 [==============================] - 10s 4ms/step - loss: 0.0497 - accuracy: 0.9835 - val_loss: 0.9411 - val_accuracy: 0.8373\n",
            "Epoch 330/500\n",
            "2500/2500 [==============================] - 11s 4ms/step - loss: 0.0553 - accuracy: 0.9821 - val_loss: 0.9551 - val_accuracy: 0.8406\n",
            "Epoch 331/500\n",
            "2500/2500 [==============================] - 11s 4ms/step - loss: 0.0583 - accuracy: 0.9806 - val_loss: 0.9787 - val_accuracy: 0.8317\n",
            "Epoch 332/500\n",
            "2500/2500 [==============================] - 11s 4ms/step - loss: 0.0602 - accuracy: 0.9802 - val_loss: 0.9169 - val_accuracy: 0.8353\n",
            "Epoch 333/500\n",
            "2500/2500 [==============================] - 10s 4ms/step - loss: 0.0537 - accuracy: 0.9827 - val_loss: 0.9689 - val_accuracy: 0.8316\n",
            "Epoch 334/500\n",
            "2500/2500 [==============================] - 10s 4ms/step - loss: 0.0532 - accuracy: 0.9820 - val_loss: 0.8876 - val_accuracy: 0.8371\n",
            "Epoch 335/500\n",
            "2500/2500 [==============================] - 10s 4ms/step - loss: 0.0511 - accuracy: 0.9834 - val_loss: 0.9301 - val_accuracy: 0.8307\n",
            "Epoch 336/500\n",
            "2500/2500 [==============================] - 10s 4ms/step - loss: 0.0509 - accuracy: 0.9836 - val_loss: 0.9457 - val_accuracy: 0.8376\n",
            "Epoch 337/500\n",
            "2500/2500 [==============================] - 10s 4ms/step - loss: 0.0552 - accuracy: 0.9816 - val_loss: 0.9411 - val_accuracy: 0.8347\n",
            "Epoch 338/500\n",
            "2500/2500 [==============================] - 10s 4ms/step - loss: 0.0535 - accuracy: 0.9824 - val_loss: 0.9599 - val_accuracy: 0.8318\n",
            "Epoch 339/500\n",
            "2500/2500 [==============================] - 10s 4ms/step - loss: 0.0555 - accuracy: 0.9812 - val_loss: 0.9113 - val_accuracy: 0.8313\n",
            "Epoch 340/500\n",
            "2500/2500 [==============================] - 10s 4ms/step - loss: 0.0516 - accuracy: 0.9830 - val_loss: 0.9023 - val_accuracy: 0.8402\n",
            "Epoch 341/500\n",
            "2500/2500 [==============================] - 10s 4ms/step - loss: 0.0463 - accuracy: 0.9842 - val_loss: 0.9691 - val_accuracy: 0.8351\n",
            "Epoch 342/500\n",
            "2500/2500 [==============================] - 10s 4ms/step - loss: 0.0579 - accuracy: 0.9808 - val_loss: 0.9679 - val_accuracy: 0.8331\n",
            "Epoch 343/500\n",
            "2500/2500 [==============================] - 10s 4ms/step - loss: 0.0542 - accuracy: 0.9808 - val_loss: 0.9637 - val_accuracy: 0.8334\n",
            "Epoch 344/500\n",
            "2500/2500 [==============================] - 10s 4ms/step - loss: 0.0514 - accuracy: 0.9831 - val_loss: 0.9425 - val_accuracy: 0.8350\n",
            "Epoch 345/500\n",
            "2500/2500 [==============================] - 10s 4ms/step - loss: 0.0511 - accuracy: 0.9845 - val_loss: 0.9538 - val_accuracy: 0.8365\n",
            "Epoch 346/500\n",
            "2500/2500 [==============================] - 10s 4ms/step - loss: 0.0497 - accuracy: 0.9843 - val_loss: 0.9501 - val_accuracy: 0.8398\n",
            "Epoch 347/500\n",
            "2500/2500 [==============================] - 10s 4ms/step - loss: 0.0512 - accuracy: 0.9835 - val_loss: 0.9229 - val_accuracy: 0.8362\n",
            "Epoch 348/500\n",
            "2500/2500 [==============================] - 10s 4ms/step - loss: 0.0555 - accuracy: 0.9825 - val_loss: 0.9393 - val_accuracy: 0.8385\n",
            "Epoch 349/500\n",
            "2500/2500 [==============================] - 9s 4ms/step - loss: 0.0535 - accuracy: 0.9821 - val_loss: 0.9266 - val_accuracy: 0.8394\n",
            "Epoch 350/500\n",
            "2500/2500 [==============================] - 9s 4ms/step - loss: 0.0478 - accuracy: 0.9834 - val_loss: 0.9329 - val_accuracy: 0.8400\n",
            "Epoch 351/500\n",
            "2500/2500 [==============================] - 10s 4ms/step - loss: 0.0508 - accuracy: 0.9834 - val_loss: 0.9263 - val_accuracy: 0.8374\n",
            "Epoch 352/500\n",
            "2500/2500 [==============================] - 10s 4ms/step - loss: 0.0505 - accuracy: 0.9838 - val_loss: 0.9289 - val_accuracy: 0.8369\n",
            "Epoch 353/500\n",
            "2500/2500 [==============================] - 10s 4ms/step - loss: 0.0486 - accuracy: 0.9837 - val_loss: 0.9529 - val_accuracy: 0.8323\n",
            "Epoch 354/500\n",
            "2500/2500 [==============================] - 10s 4ms/step - loss: 0.0521 - accuracy: 0.9828 - val_loss: 0.9138 - val_accuracy: 0.8370\n",
            "Epoch 355/500\n",
            "2500/2500 [==============================] - 10s 4ms/step - loss: 0.0529 - accuracy: 0.9825 - val_loss: 0.9182 - val_accuracy: 0.8370\n",
            "Epoch 356/500\n",
            "2500/2500 [==============================] - 10s 4ms/step - loss: 0.0467 - accuracy: 0.9846 - val_loss: 1.0271 - val_accuracy: 0.8294\n",
            "Epoch 357/500\n",
            "2500/2500 [==============================] - 10s 4ms/step - loss: 0.0510 - accuracy: 0.9835 - val_loss: 0.9464 - val_accuracy: 0.8337\n",
            "Epoch 358/500\n",
            "2500/2500 [==============================] - 10s 4ms/step - loss: 0.0466 - accuracy: 0.9842 - val_loss: 0.9336 - val_accuracy: 0.8371\n",
            "Epoch 359/500\n",
            "2500/2500 [==============================] - 10s 4ms/step - loss: 0.0513 - accuracy: 0.9827 - val_loss: 0.9156 - val_accuracy: 0.8358\n",
            "Epoch 360/500\n",
            "2500/2500 [==============================] - 10s 4ms/step - loss: 0.0512 - accuracy: 0.9825 - val_loss: 0.9237 - val_accuracy: 0.8403\n",
            "Epoch 361/500\n",
            "2500/2500 [==============================] - 9s 4ms/step - loss: 0.0531 - accuracy: 0.9832 - val_loss: 0.9340 - val_accuracy: 0.8380\n",
            "Epoch 362/500\n",
            "2500/2500 [==============================] - 9s 4ms/step - loss: 0.0492 - accuracy: 0.9834 - val_loss: 0.9210 - val_accuracy: 0.8391\n",
            "Epoch 363/500\n",
            "2500/2500 [==============================] - 10s 4ms/step - loss: 0.0445 - accuracy: 0.9847 - val_loss: 0.9506 - val_accuracy: 0.8357\n",
            "Epoch 364/500\n",
            "2500/2500 [==============================] - 10s 4ms/step - loss: 0.0482 - accuracy: 0.9844 - val_loss: 0.9318 - val_accuracy: 0.8401\n",
            "Epoch 365/500\n",
            "2500/2500 [==============================] - 10s 4ms/step - loss: 0.0491 - accuracy: 0.9842 - val_loss: 0.9145 - val_accuracy: 0.8403\n",
            "Epoch 366/500\n",
            "2500/2500 [==============================] - 10s 4ms/step - loss: 0.0476 - accuracy: 0.9847 - val_loss: 0.9620 - val_accuracy: 0.8342\n",
            "Epoch 367/500\n",
            "2500/2500 [==============================] - 10s 4ms/step - loss: 0.0467 - accuracy: 0.9847 - val_loss: 0.9864 - val_accuracy: 0.8356\n",
            "Epoch 368/500\n",
            "2500/2500 [==============================] - 10s 4ms/step - loss: 0.0460 - accuracy: 0.9844 - val_loss: 0.9383 - val_accuracy: 0.8411\n",
            "Epoch 369/500\n",
            "2500/2500 [==============================] - 10s 4ms/step - loss: 0.0512 - accuracy: 0.9826 - val_loss: 0.9508 - val_accuracy: 0.8408\n",
            "Epoch 370/500\n",
            "2500/2500 [==============================] - 10s 4ms/step - loss: 0.0523 - accuracy: 0.9831 - val_loss: 0.9618 - val_accuracy: 0.8357\n",
            "Epoch 371/500\n",
            "2500/2500 [==============================] - 10s 4ms/step - loss: 0.0479 - accuracy: 0.9841 - val_loss: 0.9589 - val_accuracy: 0.8368\n",
            "Epoch 372/500\n",
            "2500/2500 [==============================] - 10s 4ms/step - loss: 0.0510 - accuracy: 0.9832 - val_loss: 0.9230 - val_accuracy: 0.8373\n",
            "Epoch 373/500\n",
            "2500/2500 [==============================] - 10s 4ms/step - loss: 0.0529 - accuracy: 0.9810 - val_loss: 0.9286 - val_accuracy: 0.8343\n",
            "Epoch 374/500\n",
            "2500/2500 [==============================] - 9s 4ms/step - loss: 0.0468 - accuracy: 0.9840 - val_loss: 0.9290 - val_accuracy: 0.8364\n",
            "Epoch 375/500\n",
            "2500/2500 [==============================] - 10s 4ms/step - loss: 0.0540 - accuracy: 0.9817 - val_loss: 0.9571 - val_accuracy: 0.8360\n",
            "Epoch 376/500\n",
            "2500/2500 [==============================] - 10s 4ms/step - loss: 0.0549 - accuracy: 0.9814 - val_loss: 0.9139 - val_accuracy: 0.8383\n",
            "Epoch 377/500\n",
            "2500/2500 [==============================] - 10s 4ms/step - loss: 0.0484 - accuracy: 0.9839 - val_loss: 0.9457 - val_accuracy: 0.8365\n",
            "Epoch 378/500\n",
            "2500/2500 [==============================] - 10s 4ms/step - loss: 0.0440 - accuracy: 0.9866 - val_loss: 0.9667 - val_accuracy: 0.8366\n",
            "Epoch 379/500\n",
            "2500/2500 [==============================] - 10s 4ms/step - loss: 0.0467 - accuracy: 0.9832 - val_loss: 0.9242 - val_accuracy: 0.8398\n",
            "Epoch 380/500\n",
            "2500/2500 [==============================] - 10s 4ms/step - loss: 0.0469 - accuracy: 0.9843 - val_loss: 0.9529 - val_accuracy: 0.8432\n",
            "Epoch 381/500\n",
            "2500/2500 [==============================] - 10s 4ms/step - loss: 0.0517 - accuracy: 0.9833 - val_loss: 0.9280 - val_accuracy: 0.8439\n",
            "Epoch 382/500\n",
            "2500/2500 [==============================] - 9s 4ms/step - loss: 0.0506 - accuracy: 0.9833 - val_loss: 0.9177 - val_accuracy: 0.8370\n",
            "Epoch 383/500\n",
            "2500/2500 [==============================] - 10s 4ms/step - loss: 0.0506 - accuracy: 0.9826 - val_loss: 0.9613 - val_accuracy: 0.8387\n",
            "Epoch 384/500\n",
            "2500/2500 [==============================] - 10s 4ms/step - loss: 0.0484 - accuracy: 0.9846 - val_loss: 0.9100 - val_accuracy: 0.8393\n",
            "Epoch 385/500\n",
            "2500/2500 [==============================] - 9s 4ms/step - loss: 0.0491 - accuracy: 0.9839 - val_loss: 0.8894 - val_accuracy: 0.8428\n",
            "Epoch 386/500\n",
            "2500/2500 [==============================] - 10s 4ms/step - loss: 0.0428 - accuracy: 0.9860 - val_loss: 0.9153 - val_accuracy: 0.8361\n",
            "Epoch 387/500\n",
            "2500/2500 [==============================] - 10s 4ms/step - loss: 0.0471 - accuracy: 0.9842 - val_loss: 0.9302 - val_accuracy: 0.8360\n",
            "Epoch 388/500\n",
            "2500/2500 [==============================] - 9s 4ms/step - loss: 0.0483 - accuracy: 0.9845 - val_loss: 0.9234 - val_accuracy: 0.8403\n",
            "Epoch 389/500\n",
            "2500/2500 [==============================] - 9s 4ms/step - loss: 0.0480 - accuracy: 0.9836 - val_loss: 0.9080 - val_accuracy: 0.8436\n",
            "Epoch 390/500\n",
            "2500/2500 [==============================] - 10s 4ms/step - loss: 0.0483 - accuracy: 0.9845 - val_loss: 0.9237 - val_accuracy: 0.8408\n",
            "Epoch 391/500\n",
            "2500/2500 [==============================] - 10s 4ms/step - loss: 0.0455 - accuracy: 0.9845 - val_loss: 0.9532 - val_accuracy: 0.8380\n",
            "Epoch 392/500\n",
            "2500/2500 [==============================] - 10s 4ms/step - loss: 0.0493 - accuracy: 0.9832 - val_loss: 0.9809 - val_accuracy: 0.8363\n",
            "Epoch 393/500\n",
            "2500/2500 [==============================] - 10s 4ms/step - loss: 0.0440 - accuracy: 0.9854 - val_loss: 0.9523 - val_accuracy: 0.8366\n",
            "Epoch 394/500\n",
            "2500/2500 [==============================] - 10s 4ms/step - loss: 0.0479 - accuracy: 0.9834 - val_loss: 0.9130 - val_accuracy: 0.8393\n",
            "Epoch 395/500\n",
            "2500/2500 [==============================] - 10s 4ms/step - loss: 0.0423 - accuracy: 0.9849 - val_loss: 0.9226 - val_accuracy: 0.8406\n",
            "Epoch 396/500\n",
            "2500/2500 [==============================] - 10s 4ms/step - loss: 0.0472 - accuracy: 0.9844 - val_loss: 0.8983 - val_accuracy: 0.8419\n",
            "Epoch 397/500\n",
            "2500/2500 [==============================] - 9s 4ms/step - loss: 0.0441 - accuracy: 0.9855 - val_loss: 0.9225 - val_accuracy: 0.8412\n",
            "Epoch 398/500\n",
            "2500/2500 [==============================] - 10s 4ms/step - loss: 0.0407 - accuracy: 0.9863 - val_loss: 0.9451 - val_accuracy: 0.8399\n",
            "Epoch 399/500\n",
            "2500/2500 [==============================] - 10s 4ms/step - loss: 0.0460 - accuracy: 0.9844 - val_loss: 0.9803 - val_accuracy: 0.8359\n",
            "Epoch 400/500\n",
            "2500/2500 [==============================] - 10s 4ms/step - loss: 0.0500 - accuracy: 0.9842 - val_loss: 0.9348 - val_accuracy: 0.8374\n",
            "Epoch 401/500\n",
            "2500/2500 [==============================] - 10s 4ms/step - loss: 0.0459 - accuracy: 0.9858 - val_loss: 0.9513 - val_accuracy: 0.8415\n",
            "Epoch 402/500\n",
            "2500/2500 [==============================] - 10s 4ms/step - loss: 0.0478 - accuracy: 0.9840 - val_loss: 0.9571 - val_accuracy: 0.8369\n",
            "Epoch 403/500\n",
            "2500/2500 [==============================] - 10s 4ms/step - loss: 0.0460 - accuracy: 0.9846 - val_loss: 0.9065 - val_accuracy: 0.8399\n",
            "Epoch 404/500\n",
            "2500/2500 [==============================] - 10s 4ms/step - loss: 0.0424 - accuracy: 0.9860 - val_loss: 0.9327 - val_accuracy: 0.8331\n",
            "Epoch 405/500\n",
            "2500/2500 [==============================] - 9s 4ms/step - loss: 0.0460 - accuracy: 0.9841 - val_loss: 0.9747 - val_accuracy: 0.8378\n",
            "Epoch 406/500\n",
            "2500/2500 [==============================] - 10s 4ms/step - loss: 0.0436 - accuracy: 0.9864 - val_loss: 0.9546 - val_accuracy: 0.8346\n",
            "Epoch 407/500\n",
            "2500/2500 [==============================] - 10s 4ms/step - loss: 0.0502 - accuracy: 0.9836 - val_loss: 0.9665 - val_accuracy: 0.8371\n",
            "Epoch 408/500\n",
            "2500/2500 [==============================] - 10s 4ms/step - loss: 0.0490 - accuracy: 0.9840 - val_loss: 0.9503 - val_accuracy: 0.8381\n",
            "Epoch 409/500\n",
            "2500/2500 [==============================] - 10s 4ms/step - loss: 0.0430 - accuracy: 0.9856 - val_loss: 0.9405 - val_accuracy: 0.8353\n",
            "Epoch 410/500\n",
            "2500/2500 [==============================] - 10s 4ms/step - loss: 0.0502 - accuracy: 0.9830 - val_loss: 0.9552 - val_accuracy: 0.8380\n",
            "Epoch 411/500\n",
            "2500/2500 [==============================] - 10s 4ms/step - loss: 0.0449 - accuracy: 0.9863 - val_loss: 1.0290 - val_accuracy: 0.8344\n",
            "Epoch 412/500\n",
            "2500/2500 [==============================] - 10s 4ms/step - loss: 0.0470 - accuracy: 0.9836 - val_loss: 0.9812 - val_accuracy: 0.8370\n",
            "Epoch 413/500\n",
            "2500/2500 [==============================] - 10s 4ms/step - loss: 0.0439 - accuracy: 0.9856 - val_loss: 0.9349 - val_accuracy: 0.8372\n",
            "Epoch 414/500\n",
            "2500/2500 [==============================] - 10s 4ms/step - loss: 0.0477 - accuracy: 0.9834 - val_loss: 1.0204 - val_accuracy: 0.8313\n",
            "Epoch 415/500\n",
            "2500/2500 [==============================] - 10s 4ms/step - loss: 0.0525 - accuracy: 0.9820 - val_loss: 0.9495 - val_accuracy: 0.8386\n",
            "Epoch 416/500\n",
            "2500/2500 [==============================] - 10s 4ms/step - loss: 0.0483 - accuracy: 0.9843 - val_loss: 0.9581 - val_accuracy: 0.8347\n",
            "Epoch 417/500\n",
            "2500/2500 [==============================] - 10s 4ms/step - loss: 0.0492 - accuracy: 0.9840 - val_loss: 1.0056 - val_accuracy: 0.8351\n",
            "Epoch 418/500\n",
            "2500/2500 [==============================] - 10s 4ms/step - loss: 0.0451 - accuracy: 0.9844 - val_loss: 0.9472 - val_accuracy: 0.8365\n",
            "Epoch 419/500\n",
            "2500/2500 [==============================] - 10s 4ms/step - loss: 0.0423 - accuracy: 0.9858 - val_loss: 0.9539 - val_accuracy: 0.8364\n",
            "Epoch 420/500\n",
            "2500/2500 [==============================] - 10s 4ms/step - loss: 0.0430 - accuracy: 0.9859 - val_loss: 0.9819 - val_accuracy: 0.8383\n",
            "Epoch 421/500\n",
            "2500/2500 [==============================] - 10s 4ms/step - loss: 0.0510 - accuracy: 0.9833 - val_loss: 0.9495 - val_accuracy: 0.8396\n",
            "Epoch 422/500\n",
            "2500/2500 [==============================] - 10s 4ms/step - loss: 0.0454 - accuracy: 0.9856 - val_loss: 0.9598 - val_accuracy: 0.8415\n",
            "Epoch 423/500\n",
            "2500/2500 [==============================] - 10s 4ms/step - loss: 0.0449 - accuracy: 0.9849 - val_loss: 0.9576 - val_accuracy: 0.8397\n",
            "Epoch 424/500\n",
            "2500/2500 [==============================] - 9s 4ms/step - loss: 0.0436 - accuracy: 0.9850 - val_loss: 0.9889 - val_accuracy: 0.8364\n",
            "Epoch 425/500\n",
            "2500/2500 [==============================] - 10s 4ms/step - loss: 0.0472 - accuracy: 0.9850 - val_loss: 1.0065 - val_accuracy: 0.8384\n",
            "Epoch 426/500\n",
            "2500/2500 [==============================] - 10s 4ms/step - loss: 0.0515 - accuracy: 0.9841 - val_loss: 0.9590 - val_accuracy: 0.8384\n",
            "Epoch 427/500\n",
            "2500/2500 [==============================] - 10s 4ms/step - loss: 0.0423 - accuracy: 0.9856 - val_loss: 0.9181 - val_accuracy: 0.8403\n",
            "Epoch 428/500\n",
            "2500/2500 [==============================] - 10s 4ms/step - loss: 0.0423 - accuracy: 0.9859 - val_loss: 1.0015 - val_accuracy: 0.8341\n",
            "Epoch 429/500\n",
            "2500/2500 [==============================] - 10s 4ms/step - loss: 0.0443 - accuracy: 0.9855 - val_loss: 0.9643 - val_accuracy: 0.8332\n",
            "Epoch 430/500\n",
            "2500/2500 [==============================] - 10s 4ms/step - loss: 0.0393 - accuracy: 0.9873 - val_loss: 0.9634 - val_accuracy: 0.8378\n",
            "Epoch 431/500\n",
            "2500/2500 [==============================] - 10s 4ms/step - loss: 0.0471 - accuracy: 0.9842 - val_loss: 0.9890 - val_accuracy: 0.8336\n",
            "Epoch 432/500\n",
            "2500/2500 [==============================] - 10s 4ms/step - loss: 0.0471 - accuracy: 0.9848 - val_loss: 0.9514 - val_accuracy: 0.8381\n",
            "Epoch 433/500\n",
            "2500/2500 [==============================] - 10s 4ms/step - loss: 0.0425 - accuracy: 0.9852 - val_loss: 0.9528 - val_accuracy: 0.8386\n",
            "Epoch 434/500\n",
            "2500/2500 [==============================] - 10s 4ms/step - loss: 0.0443 - accuracy: 0.9841 - val_loss: 0.9695 - val_accuracy: 0.8390\n",
            "Epoch 435/500\n",
            "2500/2500 [==============================] - 10s 4ms/step - loss: 0.0516 - accuracy: 0.9831 - val_loss: 0.9431 - val_accuracy: 0.8347\n",
            "Epoch 436/500\n",
            "2500/2500 [==============================] - 10s 4ms/step - loss: 0.0418 - accuracy: 0.9859 - val_loss: 0.9374 - val_accuracy: 0.8395\n",
            "Epoch 437/500\n",
            "2500/2500 [==============================] - 10s 4ms/step - loss: 0.0480 - accuracy: 0.9838 - val_loss: 0.9413 - val_accuracy: 0.8357\n",
            "Epoch 438/500\n",
            "2500/2500 [==============================] - 10s 4ms/step - loss: 0.0412 - accuracy: 0.9858 - val_loss: 0.9981 - val_accuracy: 0.8318\n",
            "Epoch 439/500\n",
            "2500/2500 [==============================] - 10s 4ms/step - loss: 0.0407 - accuracy: 0.9864 - val_loss: 0.9868 - val_accuracy: 0.8381\n",
            "Epoch 440/500\n",
            "2500/2500 [==============================] - 10s 4ms/step - loss: 0.0467 - accuracy: 0.9846 - val_loss: 0.9502 - val_accuracy: 0.8359\n",
            "Epoch 441/500\n",
            "2500/2500 [==============================] - 10s 4ms/step - loss: 0.0437 - accuracy: 0.9861 - val_loss: 1.0011 - val_accuracy: 0.8359\n",
            "Epoch 442/500\n",
            "2500/2500 [==============================] - 10s 4ms/step - loss: 0.0469 - accuracy: 0.9844 - val_loss: 0.9595 - val_accuracy: 0.8366\n",
            "Epoch 443/500\n",
            "2500/2500 [==============================] - 10s 4ms/step - loss: 0.0508 - accuracy: 0.9848 - val_loss: 0.9678 - val_accuracy: 0.8388\n",
            "Epoch 444/500\n",
            "2500/2500 [==============================] - 10s 4ms/step - loss: 0.0427 - accuracy: 0.9861 - val_loss: 1.0072 - val_accuracy: 0.8348\n",
            "Epoch 445/500\n",
            "2500/2500 [==============================] - 10s 4ms/step - loss: 0.0489 - accuracy: 0.9852 - val_loss: 0.9531 - val_accuracy: 0.8419\n",
            "Epoch 446/500\n",
            "2500/2500 [==============================] - 10s 4ms/step - loss: 0.0411 - accuracy: 0.9865 - val_loss: 0.9724 - val_accuracy: 0.8381\n",
            "Epoch 447/500\n",
            "2500/2500 [==============================] - 10s 4ms/step - loss: 0.0493 - accuracy: 0.9853 - val_loss: 0.9698 - val_accuracy: 0.8382\n",
            "Epoch 448/500\n",
            "2500/2500 [==============================] - 9s 4ms/step - loss: 0.0421 - accuracy: 0.9858 - val_loss: 1.0061 - val_accuracy: 0.8390\n",
            "Epoch 449/500\n",
            "2500/2500 [==============================] - 10s 4ms/step - loss: 0.0500 - accuracy: 0.9837 - val_loss: 0.9756 - val_accuracy: 0.8371\n",
            "Epoch 450/500\n",
            "2500/2500 [==============================] - 10s 4ms/step - loss: 0.0432 - accuracy: 0.9860 - val_loss: 0.9808 - val_accuracy: 0.8378\n",
            "Epoch 451/500\n",
            "2500/2500 [==============================] - 10s 4ms/step - loss: 0.0408 - accuracy: 0.9871 - val_loss: 0.9831 - val_accuracy: 0.8374\n",
            "Epoch 452/500\n",
            "2500/2500 [==============================] - 10s 4ms/step - loss: 0.0468 - accuracy: 0.9844 - val_loss: 0.9750 - val_accuracy: 0.8362\n",
            "Epoch 453/500\n",
            "2500/2500 [==============================] - 10s 4ms/step - loss: 0.0496 - accuracy: 0.9830 - val_loss: 0.9990 - val_accuracy: 0.8374\n",
            "Epoch 454/500\n",
            "2500/2500 [==============================] - 10s 4ms/step - loss: 0.0465 - accuracy: 0.9842 - val_loss: 1.0253 - val_accuracy: 0.8374\n",
            "Epoch 455/500\n",
            "2500/2500 [==============================] - 10s 4ms/step - loss: 0.0510 - accuracy: 0.9847 - val_loss: 0.9651 - val_accuracy: 0.8378\n",
            "Epoch 456/500\n",
            "2500/2500 [==============================] - 10s 4ms/step - loss: 0.0438 - accuracy: 0.9856 - val_loss: 0.9617 - val_accuracy: 0.8334\n",
            "Epoch 457/500\n",
            "2500/2500 [==============================] - 10s 4ms/step - loss: 0.0414 - accuracy: 0.9861 - val_loss: 0.9825 - val_accuracy: 0.8397\n",
            "Epoch 458/500\n",
            "2500/2500 [==============================] - 10s 4ms/step - loss: 0.0457 - accuracy: 0.9846 - val_loss: 0.9730 - val_accuracy: 0.8326\n",
            "Epoch 459/500\n",
            "2500/2500 [==============================] - 10s 4ms/step - loss: 0.0418 - accuracy: 0.9867 - val_loss: 0.9516 - val_accuracy: 0.8395\n",
            "Epoch 460/500\n",
            "2500/2500 [==============================] - 9s 4ms/step - loss: 0.0401 - accuracy: 0.9866 - val_loss: 0.9961 - val_accuracy: 0.8344\n",
            "Epoch 461/500\n",
            "2500/2500 [==============================] - 10s 4ms/step - loss: 0.0452 - accuracy: 0.9855 - val_loss: 0.9482 - val_accuracy: 0.8386\n",
            "Epoch 462/500\n",
            "2500/2500 [==============================] - 10s 4ms/step - loss: 0.0434 - accuracy: 0.9855 - val_loss: 0.9797 - val_accuracy: 0.8378\n",
            "Epoch 463/500\n",
            "2500/2500 [==============================] - 10s 4ms/step - loss: 0.0451 - accuracy: 0.9852 - val_loss: 1.0131 - val_accuracy: 0.8375\n",
            "Epoch 464/500\n",
            "2500/2500 [==============================] - 10s 4ms/step - loss: 0.0435 - accuracy: 0.9859 - val_loss: 0.9700 - val_accuracy: 0.8397\n",
            "Epoch 465/500\n",
            "2500/2500 [==============================] - 10s 4ms/step - loss: 0.0451 - accuracy: 0.9857 - val_loss: 0.9440 - val_accuracy: 0.8426\n",
            "Epoch 466/500\n",
            "2500/2500 [==============================] - 10s 4ms/step - loss: 0.0425 - accuracy: 0.9854 - val_loss: 1.0027 - val_accuracy: 0.8323\n",
            "Epoch 467/500\n",
            "2500/2500 [==============================] - 10s 4ms/step - loss: 0.0476 - accuracy: 0.9844 - val_loss: 0.9776 - val_accuracy: 0.8364\n",
            "Epoch 468/500\n",
            "2500/2500 [==============================] - 10s 4ms/step - loss: 0.0506 - accuracy: 0.9838 - val_loss: 0.9442 - val_accuracy: 0.8427\n",
            "Epoch 469/500\n",
            "2500/2500 [==============================] - 10s 4ms/step - loss: 0.0472 - accuracy: 0.9841 - val_loss: 0.9873 - val_accuracy: 0.8366\n",
            "Epoch 470/500\n",
            "2500/2500 [==============================] - 10s 4ms/step - loss: 0.0452 - accuracy: 0.9851 - val_loss: 0.9775 - val_accuracy: 0.8356\n",
            "Epoch 471/500\n",
            "2500/2500 [==============================] - 9s 4ms/step - loss: 0.0431 - accuracy: 0.9861 - val_loss: 0.9854 - val_accuracy: 0.8363\n",
            "Epoch 472/500\n",
            "2500/2500 [==============================] - 10s 4ms/step - loss: 0.0438 - accuracy: 0.9851 - val_loss: 0.9680 - val_accuracy: 0.8385\n",
            "Epoch 473/500\n",
            "2500/2500 [==============================] - 10s 4ms/step - loss: 0.0451 - accuracy: 0.9852 - val_loss: 0.9582 - val_accuracy: 0.8416\n",
            "Epoch 474/500\n",
            "2500/2500 [==============================] - 10s 4ms/step - loss: 0.0460 - accuracy: 0.9851 - val_loss: 0.9874 - val_accuracy: 0.8380\n",
            "Epoch 475/500\n",
            "2500/2500 [==============================] - 10s 4ms/step - loss: 0.0398 - accuracy: 0.9863 - val_loss: 0.9992 - val_accuracy: 0.8347\n",
            "Epoch 476/500\n",
            "2500/2500 [==============================] - 10s 4ms/step - loss: 0.0425 - accuracy: 0.9859 - val_loss: 0.9872 - val_accuracy: 0.8398\n",
            "Epoch 477/500\n",
            "2500/2500 [==============================] - 10s 4ms/step - loss: 0.0416 - accuracy: 0.9866 - val_loss: 1.0382 - val_accuracy: 0.8319\n",
            "Epoch 478/500\n",
            "2500/2500 [==============================] - 11s 4ms/step - loss: 0.0495 - accuracy: 0.9842 - val_loss: 1.0264 - val_accuracy: 0.8366\n",
            "Epoch 479/500\n",
            "2500/2500 [==============================] - 10s 4ms/step - loss: 0.0431 - accuracy: 0.9861 - val_loss: 0.9727 - val_accuracy: 0.8361\n",
            "Epoch 480/500\n",
            "2500/2500 [==============================] - 10s 4ms/step - loss: 0.0480 - accuracy: 0.9844 - val_loss: 0.9871 - val_accuracy: 0.8360\n",
            "Epoch 481/500\n",
            "2500/2500 [==============================] - 10s 4ms/step - loss: 0.0464 - accuracy: 0.9848 - val_loss: 1.0062 - val_accuracy: 0.8336\n",
            "Epoch 482/500\n",
            "2500/2500 [==============================] - 10s 4ms/step - loss: 0.0431 - accuracy: 0.9862 - val_loss: 1.0097 - val_accuracy: 0.8335\n",
            "Epoch 483/500\n",
            "2500/2500 [==============================] - 9s 4ms/step - loss: 0.0478 - accuracy: 0.9841 - val_loss: 0.9671 - val_accuracy: 0.8390\n",
            "Epoch 484/500\n",
            "2500/2500 [==============================] - 10s 4ms/step - loss: 0.0422 - accuracy: 0.9857 - val_loss: 0.9590 - val_accuracy: 0.8385\n",
            "Epoch 485/500\n",
            "2500/2500 [==============================] - 10s 4ms/step - loss: 0.0421 - accuracy: 0.9875 - val_loss: 0.9577 - val_accuracy: 0.8410\n",
            "Epoch 486/500\n",
            "2500/2500 [==============================] - 10s 4ms/step - loss: 0.0376 - accuracy: 0.9881 - val_loss: 0.9913 - val_accuracy: 0.8390\n",
            "Epoch 487/500\n",
            "2500/2500 [==============================] - 10s 4ms/step - loss: 0.0420 - accuracy: 0.9861 - val_loss: 0.9607 - val_accuracy: 0.8366\n",
            "Epoch 488/500\n",
            "2500/2500 [==============================] - 10s 4ms/step - loss: 0.0404 - accuracy: 0.9875 - val_loss: 0.9769 - val_accuracy: 0.8355\n",
            "Epoch 489/500\n",
            "2500/2500 [==============================] - 10s 4ms/step - loss: 0.0441 - accuracy: 0.9857 - val_loss: 1.0049 - val_accuracy: 0.8387\n",
            "Epoch 490/500\n",
            "2500/2500 [==============================] - 10s 4ms/step - loss: 0.0402 - accuracy: 0.9863 - val_loss: 1.0325 - val_accuracy: 0.8384\n",
            "Epoch 491/500\n",
            "2500/2500 [==============================] - 10s 4ms/step - loss: 0.0436 - accuracy: 0.9862 - val_loss: 1.0529 - val_accuracy: 0.8359\n",
            "Epoch 492/500\n",
            "2500/2500 [==============================] - 10s 4ms/step - loss: 0.0475 - accuracy: 0.9852 - val_loss: 0.9932 - val_accuracy: 0.8379\n",
            "Epoch 493/500\n",
            "2500/2500 [==============================] - 11s 4ms/step - loss: 0.0419 - accuracy: 0.9865 - val_loss: 1.0042 - val_accuracy: 0.8375\n",
            "Epoch 494/500\n",
            "2500/2500 [==============================] - 10s 4ms/step - loss: 0.0460 - accuracy: 0.9850 - val_loss: 0.9696 - val_accuracy: 0.8389\n",
            "Epoch 495/500\n",
            "2500/2500 [==============================] - 10s 4ms/step - loss: 0.0411 - accuracy: 0.9856 - val_loss: 1.0260 - val_accuracy: 0.8333\n",
            "Epoch 496/500\n",
            "2500/2500 [==============================] - 10s 4ms/step - loss: 0.0369 - accuracy: 0.9877 - val_loss: 0.9999 - val_accuracy: 0.8419\n",
            "Epoch 497/500\n",
            "2500/2500 [==============================] - 10s 4ms/step - loss: 0.0438 - accuracy: 0.9860 - val_loss: 0.9922 - val_accuracy: 0.8384\n",
            "Epoch 498/500\n",
            "2500/2500 [==============================] - 10s 4ms/step - loss: 0.0447 - accuracy: 0.9856 - val_loss: 1.0975 - val_accuracy: 0.8295\n",
            "Epoch 499/500\n",
            "2500/2500 [==============================] - 10s 4ms/step - loss: 0.0433 - accuracy: 0.9858 - val_loss: 1.0050 - val_accuracy: 0.8410\n",
            "Epoch 500/500\n",
            "2500/2500 [==============================] - 10s 4ms/step - loss: 0.0392 - accuracy: 0.9874 - val_loss: 1.0506 - val_accuracy: 0.8417\n"
          ],
          "name": "stdout"
        }
      ]
    },
    {
      "cell_type": "code",
      "source": [
        ""
      ],
      "metadata": {
        "id": "MPF0ATl5QE13"
      },
      "execution_count": null,
      "outputs": []
    },
    {
      "cell_type": "code",
      "source": [
        ""
      ],
      "metadata": {
        "id": "bqS6p_A8QiFH"
      },
      "execution_count": null,
      "outputs": []
    },
    {
      "cell_type": "code",
      "source": [
        ""
      ],
      "metadata": {
        "id": "QbY0p85gQidF"
      },
      "execution_count": null,
      "outputs": []
    },
    {
      "cell_type": "code",
      "metadata": {
        "colab": {
          "base_uri": "https://localhost:8080/",
          "height": 295
        },
        "id": "qo8Nk7AUhWgI",
        "outputId": "9925b598-1403-4342-9aca-251365920f67"
      },
      "source": [
        " plt.plot(hist.history['loss'])\n",
        "plt.plot(hist.history['val_loss'])\n",
        "plt.title('Model loss')\n",
        "plt.ylabel('Loss')\n",
        "plt.xlabel('Epoch')\n",
        "plt.legend(['Train', 'Val'], loc='upper right')\n",
        "plt.show()"
      ],
      "execution_count": null,
      "outputs": [
        {
          "output_type": "display_data",
          "data": {
            "image/png": "[encoded data removed]",
            "text/plain": [
              "<Figure size 432x288 with 1 Axes>"
            ]
          },
          "metadata": {
            "tags": [],
            "needs_background": "light"
          }
        }
      ]
    },
    {
      "cell_type": "code",
      "metadata": {
        "colab": {
          "base_uri": "https://localhost:8080/",
          "height": 295
        },
        "id": "WWKsg9ApiEaB",
        "outputId": "2d8d1402-c1bb-4f0c-fb43-aaeec3caf243"
      },
      "source": [
        "plt.plot(hist.history['accuracy'])\n",
        "plt.plot(hist.history['val_accuracy'])\n",
        "plt.title('Model accuracy')\n",
        "plt.ylabel('Accuracy')\n",
        "plt.xlabel('Epoch')\n",
        "plt.legend(['Train', 'Val'], loc='lower right')\n",
        "plt.show()"
      ],
      "execution_count": null,
      "outputs": [
        {
          "output_type": "display_data",
          "data": {
            "image/png": "[encoded data removed]",
            "text/plain": [
              "<Figure size 432x288 with 1 Axes>"
            ]
          },
          "metadata": {
            "tags": [],
            "needs_background": "light"
          }
        }
      ]
    },
    {
      "cell_type": "code",
      "metadata": {
        "colab": {
          "base_uri": "https://localhost:8080/"
        },
        "id": "LZrQag96iJMA",
        "outputId": "46e45289-e0f4-4760-af28-fdd145aeb2ab"
      },
      "source": [
        "model.evaluate(x_test, y_test_one_hot)[1]\n"
      ],
      "execution_count": null,
      "outputs": [
        {
          "output_type": "stream",
          "text": [
            "313/313 [==============================] - 1s 3ms/step - loss: 1.1423 - accuracy: 0.8306\n"
          ],
          "name": "stdout"
        },
        {
          "output_type": "execute_result",
          "data": {
            "text/plain": [
              "0.8306000232696533"
            ]
          },
          "metadata": {
            "tags": []
          },
          "execution_count": 20
        }
      ]
    },
    {
      "cell_type": "code",
      "metadata": {
        "id": "Cct6n1eTiSE_"
      },
      "source": [
        "model.save('my_cifar10_model.h5')"
      ],
      "execution_count": null,
      "outputs": []
    },
    {
      "cell_type": "code",
      "metadata": {
        "id": "Qdxak2lVicbf"
      },
      "source": [
        "from keras.models import load_model\n",
        "model = load_model('my_cifar10_model.h5')"
      ],
      "execution_count": null,
      "outputs": []
    },
    {
      "cell_type": "code",
      "metadata": {
        "id": "smXEBggIihd4"
      },
      "source": [
        "my_image = plt.imread(\"/content/cat.jpg\")\n"
      ],
      "execution_count": null,
      "outputs": []
    },
    {
      "cell_type": "code",
      "metadata": {
        "colab": {
          "base_uri": "https://localhost:8080/",
          "height": 266
        },
        "id": "9EE90Mqsiql9",
        "outputId": "9b158483-185e-4a9b-9866-da85c6790a41"
      },
      "source": [
        "from skimage.transform import resize\n",
        "\n",
        "my_image_resized = resize(my_image,(32,32,3))\n",
        "img = plt.imshow(my_image_resized)\n"
      ],
      "execution_count": null,
      "outputs": [
        {
          "output_type": "display_data",
          "data": {
            "image/png": "[encoded data removed]",
            "text/plain": [
              "<Figure size 432x288 with 1 Axes>"
            ]
          },
          "metadata": {
            "tags": [],
            "needs_background": "light"
          }
        }
      ]
    },
    {
      "cell_type": "code",
      "metadata": {
        "id": "3vWJg_nDjzra"
      },
      "source": [
        "import numpy as np\n",
        "probabilities = model.predict(np.array( [my_image_resized,] ))"
      ],
      "execution_count": null,
      "outputs": []
    },
    {
      "cell_type": "code",
      "metadata": {
        "id": "9Woj1SOWj-16",
        "colab": {
          "base_uri": "https://localhost:8080/"
        },
        "outputId": "41579a0b-7dda-487d-ee99-9b199579d29e"
      },
      "source": [
        "probabilities"
      ],
      "execution_count": null,
      "outputs": [
        {
          "output_type": "execute_result",
          "data": {
            "text/plain": [
              "array([[4.29866131e-13, 6.65810910e-18, 8.41826520e-09, 9.96239305e-01,\n",
              "        3.92492302e-06, 3.87361215e-05, 1.17513207e-10, 3.71806859e-03,\n",
              "        1.02822515e-13, 2.58283232e-14]], dtype=float32)"
            ]
          },
          "metadata": {
            "tags": []
          },
          "execution_count": 32
        }
      ]
    },
    {
      "cell_type": "code",
      "metadata": {
        "colab": {
          "base_uri": "https://localhost:8080/"
        },
        "id": "7N9RD19EWj6w",
        "outputId": "790ae1fa-a4e6-4786-c57f-e7f89bad9f61"
      },
      "source": [
        "number_to_class = ['airplane', 'automobile', 'bird', 'cat', 'deer', 'dog', 'frog', 'horse', 'ship', 'truck']\n",
        "index = np.argsort(probabilities[0,:])\n",
        "print(\"Most likely class:\", number_to_class[index[9]], \"-- Probability:\", probabilities[0,index[9]])\n",
        "print(\"Second most likely class:\", number_to_class[index[8]], \"-- Probability:\", probabilities[0,index[8]])\n",
        "print(\"Third most likely class:\", number_to_class[index[7]], \"-- Probability:\", probabilities[0,index[7]])\n",
        "print(\"Fourth most likely class:\", number_to_class[index[6]], \"-- Probability:\", probabilities[0,index[6]])\n",
        "print(\"Fifth most likely class:\", number_to_class[index[5]], \"-- Probability:\", probabilities[0,index[5]])\n",
        "print(\"Most likely class:\", number_to_class[index[4]], \"-- Probability:\", probabilities[0,index[4]])\n",
        "print(\"Second most likely class:\", number_to_class[index[3]], \"-- Probability:\", probabilities[0,index[3]])\n",
        "print(\"Third most likely class:\", number_to_class[index[2]], \"-- Probability:\", probabilities[0,index[2]])\n",
        "print(\"Fourth most likely class:\", number_to_class[index[1]], \"-- Probability:\", probabilities[0,index[1]])\n",
        "print(\"Fifth most likely class:\", number_to_class[index[0]], \"-- Probability:\", probabilities[0,index[0]])"
      ],
      "execution_count": null,
      "outputs": [
        {
          "output_type": "stream",
          "text": [
            "Most likely class: cat -- Probability: 0.9962393\n",
            "Second most likely class: horse -- Probability: 0.0037180686\n",
            "Third most likely class: dog -- Probability: 3.873612e-05\n",
            "Fourth most likely class: deer -- Probability: 3.924923e-06\n",
            "Fifth most likely class: bird -- Probability: 8.418265e-09\n",
            "Most likely class: frog -- Probability: 1.1751321e-10\n",
            "Second most likely class: airplane -- Probability: 4.2986613e-13\n",
            "Third most likely class: ship -- Probability: 1.02822515e-13\n",
            "Fourth most likely class: truck -- Probability: 2.5828323e-14\n",
            "Fifth most likely class: automobile -- Probability: 6.658109e-18\n"
          ],
          "name": "stdout"
        }
      ]
    },
    {
      "cell_type": "code",
      "metadata": {
        "id": "9chTYLCeXFNx"
      },
      "source": [
        ""
      ],
      "execution_count": null,
      "outputs": []
    }
  ]
}